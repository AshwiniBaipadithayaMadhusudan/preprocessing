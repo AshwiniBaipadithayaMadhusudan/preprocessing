{
 "cells": [
  {
   "cell_type": "code",
   "execution_count": 1,
   "metadata": {},
   "outputs": [
    {
     "name": "stdout",
     "output_type": "stream",
     "text": [
      "C:\\Users\\ashwini.bm\\AUTO-ML\n"
     ]
    }
   ],
   "source": [
    "import os\n",
    "print (os.getcwd())"
   ]
  },
  {
   "cell_type": "code",
   "execution_count": 178,
   "metadata": {},
   "outputs": [],
   "source": [
    "#Import all the required libraries\n",
    "import pandas as pd\n",
    "import numpy as np\n",
    "import matplotlib.pyplot as plt\n",
    "import seaborn as sns\n",
    "import missingno as msno #library to visualize missing data\n",
    "import re#library for regular expression\n",
    "\n",
    "from sklearn.preprocessing import MinMaxScaler,Normalizer,StandardScaler,RobustScaler,LabelEncoder, OneHotEncoder \n",
    "from sklearn.decomposition import PCA\n",
    "\n",
    "from sklearn.ensemble import RandomForestClassifier, RandomForestRegressor "
   ]
  },
  {
   "cell_type": "code",
   "execution_count": 3,
   "metadata": {},
   "outputs": [],
   "source": [
    "#Function to read data to dataframe\n",
    "\n",
    "def read_file_to_df(filepath):\n",
    "    \n",
    "    df_loaded_ind=True\n",
    "    df = pd.DataFrame()\n",
    "    \n",
    "    if filepath.endswith(\".csv\"):\n",
    "        df = pd.read_csv(filepath)\n",
    "        \n",
    "    elif (filepath.endswith(\".xls\") | filepath.endswith(\".xlsx\")):\n",
    "        df = pd.read_excel(filepath)\n",
    "        \n",
    "    else:\n",
    "        df_loaded_ind=False\n",
    "        print('Invalid file type')\n",
    "            \n",
    "    return df_loaded_ind,df"
   ]
  },
  {
   "cell_type": "code",
   "execution_count": 170,
   "metadata": {},
   "outputs": [],
   "source": [
    "data_loaded_ind,data=read_file_to_df('C:/Users/ashwini.bm/AUTO-ML/forest_cover.csv')"
   ]
  },
  {
   "cell_type": "code",
   "execution_count": 156,
   "metadata": {},
   "outputs": [
    {
     "data": {
      "text/plain": [
       "True"
      ]
     },
     "execution_count": 156,
     "metadata": {},
     "output_type": "execute_result"
    }
   ],
   "source": [
    "data_loaded_ind"
   ]
  },
  {
   "cell_type": "code",
   "execution_count": 157,
   "metadata": {},
   "outputs": [
    {
     "data": {
      "text/html": [
       "<div>\n",
       "<style scoped>\n",
       "    .dataframe tbody tr th:only-of-type {\n",
       "        vertical-align: middle;\n",
       "    }\n",
       "\n",
       "    .dataframe tbody tr th {\n",
       "        vertical-align: top;\n",
       "    }\n",
       "\n",
       "    .dataframe thead th {\n",
       "        text-align: right;\n",
       "    }\n",
       "</style>\n",
       "<table border=\"1\" class=\"dataframe\">\n",
       "  <thead>\n",
       "    <tr style=\"text-align: right;\">\n",
       "      <th></th>\n",
       "      <th>Id</th>\n",
       "      <th>Elevation</th>\n",
       "      <th>Aspect</th>\n",
       "      <th>Slope</th>\n",
       "      <th>Horizontal_Distance_To_Hydrology</th>\n",
       "      <th>Vertical_Distance_To_Hydrology</th>\n",
       "      <th>Horizontal_Distance_To_Roadways</th>\n",
       "      <th>Hillshade_9am</th>\n",
       "      <th>Hillshade_Noon</th>\n",
       "      <th>Hillshade_3pm</th>\n",
       "      <th>...</th>\n",
       "      <th>Soil_Type32</th>\n",
       "      <th>Soil_Type33</th>\n",
       "      <th>Soil_Type34</th>\n",
       "      <th>Soil_Type35</th>\n",
       "      <th>Soil_Type36</th>\n",
       "      <th>Soil_Type37</th>\n",
       "      <th>Soil_Type38</th>\n",
       "      <th>Soil_Type39</th>\n",
       "      <th>Soil_Type40</th>\n",
       "      <th>Cover_Type</th>\n",
       "    </tr>\n",
       "  </thead>\n",
       "  <tbody>\n",
       "    <tr>\n",
       "      <th>0</th>\n",
       "      <td>1</td>\n",
       "      <td>2596</td>\n",
       "      <td>51</td>\n",
       "      <td>3</td>\n",
       "      <td>258</td>\n",
       "      <td>0</td>\n",
       "      <td>510</td>\n",
       "      <td>221</td>\n",
       "      <td>232</td>\n",
       "      <td>148</td>\n",
       "      <td>...</td>\n",
       "      <td>0</td>\n",
       "      <td>0</td>\n",
       "      <td>0</td>\n",
       "      <td>0</td>\n",
       "      <td>0</td>\n",
       "      <td>0</td>\n",
       "      <td>0</td>\n",
       "      <td>0</td>\n",
       "      <td>0</td>\n",
       "      <td>5</td>\n",
       "    </tr>\n",
       "    <tr>\n",
       "      <th>1</th>\n",
       "      <td>2</td>\n",
       "      <td>2590</td>\n",
       "      <td>56</td>\n",
       "      <td>2</td>\n",
       "      <td>212</td>\n",
       "      <td>-6</td>\n",
       "      <td>390</td>\n",
       "      <td>220</td>\n",
       "      <td>235</td>\n",
       "      <td>151</td>\n",
       "      <td>...</td>\n",
       "      <td>0</td>\n",
       "      <td>0</td>\n",
       "      <td>0</td>\n",
       "      <td>0</td>\n",
       "      <td>0</td>\n",
       "      <td>0</td>\n",
       "      <td>0</td>\n",
       "      <td>0</td>\n",
       "      <td>0</td>\n",
       "      <td>5</td>\n",
       "    </tr>\n",
       "    <tr>\n",
       "      <th>2</th>\n",
       "      <td>3</td>\n",
       "      <td>2804</td>\n",
       "      <td>139</td>\n",
       "      <td>9</td>\n",
       "      <td>268</td>\n",
       "      <td>65</td>\n",
       "      <td>3180</td>\n",
       "      <td>234</td>\n",
       "      <td>238</td>\n",
       "      <td>135</td>\n",
       "      <td>...</td>\n",
       "      <td>0</td>\n",
       "      <td>0</td>\n",
       "      <td>0</td>\n",
       "      <td>0</td>\n",
       "      <td>0</td>\n",
       "      <td>0</td>\n",
       "      <td>0</td>\n",
       "      <td>0</td>\n",
       "      <td>0</td>\n",
       "      <td>2</td>\n",
       "    </tr>\n",
       "    <tr>\n",
       "      <th>3</th>\n",
       "      <td>4</td>\n",
       "      <td>2785</td>\n",
       "      <td>155</td>\n",
       "      <td>18</td>\n",
       "      <td>242</td>\n",
       "      <td>118</td>\n",
       "      <td>3090</td>\n",
       "      <td>238</td>\n",
       "      <td>238</td>\n",
       "      <td>122</td>\n",
       "      <td>...</td>\n",
       "      <td>0</td>\n",
       "      <td>0</td>\n",
       "      <td>0</td>\n",
       "      <td>0</td>\n",
       "      <td>0</td>\n",
       "      <td>0</td>\n",
       "      <td>0</td>\n",
       "      <td>0</td>\n",
       "      <td>0</td>\n",
       "      <td>2</td>\n",
       "    </tr>\n",
       "    <tr>\n",
       "      <th>4</th>\n",
       "      <td>5</td>\n",
       "      <td>2595</td>\n",
       "      <td>45</td>\n",
       "      <td>2</td>\n",
       "      <td>153</td>\n",
       "      <td>-1</td>\n",
       "      <td>391</td>\n",
       "      <td>220</td>\n",
       "      <td>234</td>\n",
       "      <td>150</td>\n",
       "      <td>...</td>\n",
       "      <td>0</td>\n",
       "      <td>0</td>\n",
       "      <td>0</td>\n",
       "      <td>0</td>\n",
       "      <td>0</td>\n",
       "      <td>0</td>\n",
       "      <td>0</td>\n",
       "      <td>0</td>\n",
       "      <td>0</td>\n",
       "      <td>5</td>\n",
       "    </tr>\n",
       "  </tbody>\n",
       "</table>\n",
       "<p>5 rows × 56 columns</p>\n",
       "</div>"
      ],
      "text/plain": [
       "   Id  Elevation  Aspect  Slope  Horizontal_Distance_To_Hydrology  \\\n",
       "0   1       2596      51      3                               258   \n",
       "1   2       2590      56      2                               212   \n",
       "2   3       2804     139      9                               268   \n",
       "3   4       2785     155     18                               242   \n",
       "4   5       2595      45      2                               153   \n",
       "\n",
       "   Vertical_Distance_To_Hydrology  Horizontal_Distance_To_Roadways  \\\n",
       "0                               0                              510   \n",
       "1                              -6                              390   \n",
       "2                              65                             3180   \n",
       "3                             118                             3090   \n",
       "4                              -1                              391   \n",
       "\n",
       "   Hillshade_9am  Hillshade_Noon  Hillshade_3pm     ...      Soil_Type32  \\\n",
       "0            221             232            148     ...                0   \n",
       "1            220             235            151     ...                0   \n",
       "2            234             238            135     ...                0   \n",
       "3            238             238            122     ...                0   \n",
       "4            220             234            150     ...                0   \n",
       "\n",
       "   Soil_Type33  Soil_Type34  Soil_Type35  Soil_Type36  Soil_Type37  \\\n",
       "0            0            0            0            0            0   \n",
       "1            0            0            0            0            0   \n",
       "2            0            0            0            0            0   \n",
       "3            0            0            0            0            0   \n",
       "4            0            0            0            0            0   \n",
       "\n",
       "   Soil_Type38  Soil_Type39  Soil_Type40  Cover_Type  \n",
       "0            0            0            0           5  \n",
       "1            0            0            0           5  \n",
       "2            0            0            0           2  \n",
       "3            0            0            0           2  \n",
       "4            0            0            0           5  \n",
       "\n",
       "[5 rows x 56 columns]"
      ]
     },
     "execution_count": 157,
     "metadata": {},
     "output_type": "execute_result"
    }
   ],
   "source": [
    "data.head()"
   ]
  },
  {
   "cell_type": "code",
   "execution_count": 171,
   "metadata": {},
   "outputs": [],
   "source": [
    "data=data[['Elevation','Aspect','Slope','Horizontal_Distance_To_Hydrology','Vertical_Distance_To_Hydrology','Horizontal_Distance_To_Roadways','Hillshade_9am','Hillshade_Noon','Hillshade_3pm']]\n",
    "mn=data.values.mean()"
   ]
  },
  {
   "cell_type": "code",
   "execution_count": 145,
   "metadata": {},
   "outputs": [
    {
     "data": {
      "text/html": [
       "<div>\n",
       "<style scoped>\n",
       "    .dataframe tbody tr th:only-of-type {\n",
       "        vertical-align: middle;\n",
       "    }\n",
       "\n",
       "    .dataframe tbody tr th {\n",
       "        vertical-align: top;\n",
       "    }\n",
       "\n",
       "    .dataframe thead th {\n",
       "        text-align: right;\n",
       "    }\n",
       "</style>\n",
       "<table border=\"1\" class=\"dataframe\">\n",
       "  <thead>\n",
       "    <tr style=\"text-align: right;\">\n",
       "      <th></th>\n",
       "      <th>count</th>\n",
       "      <th>mean</th>\n",
       "      <th>std</th>\n",
       "      <th>min</th>\n",
       "      <th>25%</th>\n",
       "      <th>50%</th>\n",
       "      <th>75%</th>\n",
       "      <th>max</th>\n",
       "    </tr>\n",
       "  </thead>\n",
       "  <tbody>\n",
       "    <tr>\n",
       "      <th>Elevation</th>\n",
       "      <td>15120.0</td>\n",
       "      <td>2749.322553</td>\n",
       "      <td>417.678187</td>\n",
       "      <td>1863.0</td>\n",
       "      <td>2376.0</td>\n",
       "      <td>2752.0</td>\n",
       "      <td>3104.0</td>\n",
       "      <td>3849.0</td>\n",
       "    </tr>\n",
       "    <tr>\n",
       "      <th>Aspect</th>\n",
       "      <td>15120.0</td>\n",
       "      <td>156.676653</td>\n",
       "      <td>110.085801</td>\n",
       "      <td>0.0</td>\n",
       "      <td>65.0</td>\n",
       "      <td>126.0</td>\n",
       "      <td>261.0</td>\n",
       "      <td>360.0</td>\n",
       "    </tr>\n",
       "    <tr>\n",
       "      <th>Slope</th>\n",
       "      <td>15120.0</td>\n",
       "      <td>16.501587</td>\n",
       "      <td>8.453927</td>\n",
       "      <td>0.0</td>\n",
       "      <td>10.0</td>\n",
       "      <td>15.0</td>\n",
       "      <td>22.0</td>\n",
       "      <td>52.0</td>\n",
       "    </tr>\n",
       "    <tr>\n",
       "      <th>Horizontal_Distance_To_Hydrology</th>\n",
       "      <td>15120.0</td>\n",
       "      <td>227.195701</td>\n",
       "      <td>210.075296</td>\n",
       "      <td>0.0</td>\n",
       "      <td>67.0</td>\n",
       "      <td>180.0</td>\n",
       "      <td>330.0</td>\n",
       "      <td>1343.0</td>\n",
       "    </tr>\n",
       "    <tr>\n",
       "      <th>Vertical_Distance_To_Hydrology</th>\n",
       "      <td>15120.0</td>\n",
       "      <td>51.076521</td>\n",
       "      <td>61.239406</td>\n",
       "      <td>-146.0</td>\n",
       "      <td>5.0</td>\n",
       "      <td>32.0</td>\n",
       "      <td>79.0</td>\n",
       "      <td>554.0</td>\n",
       "    </tr>\n",
       "    <tr>\n",
       "      <th>Horizontal_Distance_To_Roadways</th>\n",
       "      <td>15120.0</td>\n",
       "      <td>1714.023214</td>\n",
       "      <td>1325.066358</td>\n",
       "      <td>0.0</td>\n",
       "      <td>764.0</td>\n",
       "      <td>1316.0</td>\n",
       "      <td>2270.0</td>\n",
       "      <td>6890.0</td>\n",
       "    </tr>\n",
       "    <tr>\n",
       "      <th>Hillshade_9am</th>\n",
       "      <td>15120.0</td>\n",
       "      <td>212.704299</td>\n",
       "      <td>30.561287</td>\n",
       "      <td>0.0</td>\n",
       "      <td>196.0</td>\n",
       "      <td>220.0</td>\n",
       "      <td>235.0</td>\n",
       "      <td>254.0</td>\n",
       "    </tr>\n",
       "    <tr>\n",
       "      <th>Hillshade_Noon</th>\n",
       "      <td>15120.0</td>\n",
       "      <td>218.965608</td>\n",
       "      <td>22.801966</td>\n",
       "      <td>99.0</td>\n",
       "      <td>207.0</td>\n",
       "      <td>223.0</td>\n",
       "      <td>235.0</td>\n",
       "      <td>254.0</td>\n",
       "    </tr>\n",
       "    <tr>\n",
       "      <th>Hillshade_3pm</th>\n",
       "      <td>15120.0</td>\n",
       "      <td>135.091997</td>\n",
       "      <td>45.895189</td>\n",
       "      <td>0.0</td>\n",
       "      <td>106.0</td>\n",
       "      <td>138.0</td>\n",
       "      <td>167.0</td>\n",
       "      <td>248.0</td>\n",
       "    </tr>\n",
       "  </tbody>\n",
       "</table>\n",
       "</div>"
      ],
      "text/plain": [
       "                                    count         mean          std     min  \\\n",
       "Elevation                         15120.0  2749.322553   417.678187  1863.0   \n",
       "Aspect                            15120.0   156.676653   110.085801     0.0   \n",
       "Slope                             15120.0    16.501587     8.453927     0.0   \n",
       "Horizontal_Distance_To_Hydrology  15120.0   227.195701   210.075296     0.0   \n",
       "Vertical_Distance_To_Hydrology    15120.0    51.076521    61.239406  -146.0   \n",
       "Horizontal_Distance_To_Roadways   15120.0  1714.023214  1325.066358     0.0   \n",
       "Hillshade_9am                     15120.0   212.704299    30.561287     0.0   \n",
       "Hillshade_Noon                    15120.0   218.965608    22.801966    99.0   \n",
       "Hillshade_3pm                     15120.0   135.091997    45.895189     0.0   \n",
       "\n",
       "                                     25%     50%     75%     max  \n",
       "Elevation                         2376.0  2752.0  3104.0  3849.0  \n",
       "Aspect                              65.0   126.0   261.0   360.0  \n",
       "Slope                               10.0    15.0    22.0    52.0  \n",
       "Horizontal_Distance_To_Hydrology    67.0   180.0   330.0  1343.0  \n",
       "Vertical_Distance_To_Hydrology       5.0    32.0    79.0   554.0  \n",
       "Horizontal_Distance_To_Roadways    764.0  1316.0  2270.0  6890.0  \n",
       "Hillshade_9am                      196.0   220.0   235.0   254.0  \n",
       "Hillshade_Noon                     207.0   223.0   235.0   254.0  \n",
       "Hillshade_3pm                      106.0   138.0   167.0   248.0  "
      ]
     },
     "execution_count": 145,
     "metadata": {},
     "output_type": "execute_result"
    }
   ],
   "source": [
    "data.describe().T"
   ]
  },
  {
   "cell_type": "code",
   "execution_count": 34,
   "metadata": {},
   "outputs": [],
   "source": [
    "#Function to get the ratio of null values in columns of dataset in descending order\n",
    "def get_null_count(df):\n",
    "   \n",
    "    na_count=df.isnull().sum().sort_values(ascending=False)/len(df)#columnwise ratio of null values\n",
    "    na_count=na_count[na_count>0]#choose only the columns whic have null values\n",
    "\n",
    "    return na_count\n",
    "        "
   ]
  },
  {
   "cell_type": "code",
   "execution_count": 35,
   "metadata": {},
   "outputs": [],
   "source": [
    "#Function to visualize the null value distribution\n",
    "def visualize_null_count(df,null_count):\n",
    "\n",
    "    filtered_data = msno.nullity_filter(df,  filter='bottom',n=len(null_count))\n",
    "    msno.matrix(filtered_data)\n",
    "        "
   ]
  },
  {
   "cell_type": "code",
   "execution_count": 92,
   "metadata": {},
   "outputs": [],
   "source": [
    "if data.isnull().values.any():\n",
    "    na_count=get_null_count(data)\n",
    "    print(na_count)\n",
    "    visualize_null_count(data,na_count)"
   ]
  },
  {
   "cell_type": "code",
   "execution_count": 106,
   "metadata": {},
   "outputs": [],
   "source": [
    "#Function to drop desired columns\n",
    "def drop_columns(df,columnlist=[]):\n",
    "    if columnlist:\n",
    "        df.drop(columnlist,axis=1,inplace=True)#Drop all the columns in the list\n",
    "    return df"
   ]
  },
  {
   "cell_type": "code",
   "execution_count": 107,
   "metadata": {},
   "outputs": [],
   "source": [
    "data=drop_columns(data,columnlist=['MiscVal','MiscFeature'])"
   ]
  },
  {
   "cell_type": "code",
   "execution_count": 42,
   "metadata": {},
   "outputs": [],
   "source": [
    "#Function to impute missing values\n",
    "def impute_missing(df, drop_nans=False):  \n",
    "\n",
    "    #drop the rows containing null values if drop_nans is set to True\n",
    "    if drop_nans:\n",
    "        df.dropna(inplace=True)\n",
    "    else:\n",
    "        for column in df.columns.values:\n",
    "        # Replace NaNs with the median or mode of the column depending on the column type\n",
    "            try:\n",
    "                column_median = df[column].median()\n",
    "                df[column].fillna(column_median, inplace=True)\n",
    "\n",
    "            except TypeError:\n",
    "                column_mode = df[column].mode()[0]\n",
    "                df[column].fillna(column_mode, inplace=True)\n",
    "                \n",
    "    if df.isnull().values.any():\n",
    "        print('Error in replacing missing values')\n",
    "    else:\n",
    "        print('Missing values are successfully replaced')\n",
    "    \n",
    "    return df\n",
    "    "
   ]
  },
  {
   "cell_type": "code",
   "execution_count": 76,
   "metadata": {},
   "outputs": [
    {
     "name": "stdout",
     "output_type": "stream",
     "text": [
      "Missing values are successfully replaced\n"
     ]
    }
   ],
   "source": [
    "data=impute_missing(data)"
   ]
  },
  {
   "cell_type": "code",
   "execution_count": 77,
   "metadata": {
    "collapsed": true
   },
   "outputs": [
    {
     "data": {
      "text/plain": [
       "Id                                    int64\n",
       "Elevation                             int64\n",
       "Aspect                                int64\n",
       "Slope                                 int64\n",
       "Horizontal_Distance_To_Hydrology      int64\n",
       "Vertical_Distance_To_Hydrology        int64\n",
       "Horizontal_Distance_To_Roadways       int64\n",
       "Hillshade_9am                         int64\n",
       "Hillshade_Noon                        int64\n",
       "Hillshade_3pm                         int64\n",
       "Horizontal_Distance_To_Fire_Points    int64\n",
       "Wilderness_Area1                      int64\n",
       "Wilderness_Area2                      int64\n",
       "Wilderness_Area3                      int64\n",
       "Wilderness_Area4                      int64\n",
       "Soil_Type1                            int64\n",
       "Soil_Type2                            int64\n",
       "Soil_Type3                            int64\n",
       "Soil_Type4                            int64\n",
       "Soil_Type5                            int64\n",
       "Soil_Type6                            int64\n",
       "Soil_Type7                            int64\n",
       "Soil_Type8                            int64\n",
       "Soil_Type9                            int64\n",
       "Soil_Type10                           int64\n",
       "Soil_Type11                           int64\n",
       "Soil_Type12                           int64\n",
       "Soil_Type13                           int64\n",
       "Soil_Type14                           int64\n",
       "Soil_Type15                           int64\n",
       "Soil_Type16                           int64\n",
       "Soil_Type17                           int64\n",
       "Soil_Type18                           int64\n",
       "Soil_Type19                           int64\n",
       "Soil_Type20                           int64\n",
       "Soil_Type21                           int64\n",
       "Soil_Type22                           int64\n",
       "Soil_Type23                           int64\n",
       "Soil_Type24                           int64\n",
       "Soil_Type25                           int64\n",
       "Soil_Type26                           int64\n",
       "Soil_Type27                           int64\n",
       "Soil_Type28                           int64\n",
       "Soil_Type29                           int64\n",
       "Soil_Type30                           int64\n",
       "Soil_Type31                           int64\n",
       "Soil_Type32                           int64\n",
       "Soil_Type33                           int64\n",
       "Soil_Type34                           int64\n",
       "Soil_Type35                           int64\n",
       "Soil_Type36                           int64\n",
       "Soil_Type37                           int64\n",
       "Soil_Type38                           int64\n",
       "Soil_Type39                           int64\n",
       "Soil_Type40                           int64\n",
       "Cover_Type                            int64\n",
       "dtype: object"
      ]
     },
     "execution_count": 77,
     "metadata": {},
     "output_type": "execute_result"
    }
   ],
   "source": [
    "data.dtypes#display the data types of every feature"
   ]
  },
  {
   "cell_type": "code",
   "execution_count": 102,
   "metadata": {},
   "outputs": [],
   "source": [
    "#Function to convert datatype of mentioned columns to corresponding mentioned types\n",
    "def data_type_converter(df,column_names=[],to_types=[],datatypconv_ind=False):\n",
    "    \n",
    "    if datatypconv_ind:\n",
    "        \n",
    "        if (isinstance(column_names, list) & isinstance(to_types, list)):\n",
    "\n",
    "            for col,typ in zip(column_names,to_types):\n",
    "                df[col] = df[col].astype(typ) \n",
    "\n",
    "    return df"
   ]
  },
  {
   "cell_type": "code",
   "execution_count": 103,
   "metadata": {},
   "outputs": [],
   "source": [
    "data_type_converted= data_type_converter(data,column_names=['MSSubClass','SalePrice'],to_types=['int','int'],datatypconv_ind=True)"
   ]
  },
  {
   "cell_type": "code",
   "execution_count": 104,
   "metadata": {
    "collapsed": true
   },
   "outputs": [
    {
     "data": {
      "text/plain": [
       "Id                 int64\n",
       "MSSubClass         int32\n",
       "MSZoning          object\n",
       "LotFrontage      float64\n",
       "LotArea            int64\n",
       "Street            object\n",
       "Alley             object\n",
       "LotShape          object\n",
       "LandContour       object\n",
       "Utilities         object\n",
       "LotConfig         object\n",
       "LandSlope         object\n",
       "Neighborhood      object\n",
       "Condition1        object\n",
       "Condition2        object\n",
       "BldgType          object\n",
       "HouseStyle        object\n",
       "OverallQual        int64\n",
       "OverallCond        int64\n",
       "YearBuilt          int64\n",
       "YearRemodAdd       int64\n",
       "RoofStyle         object\n",
       "RoofMatl          object\n",
       "Exterior1st       object\n",
       "Exterior2nd       object\n",
       "MasVnrType        object\n",
       "MasVnrArea       float64\n",
       "ExterQual         object\n",
       "ExterCond         object\n",
       "Foundation        object\n",
       "                  ...   \n",
       "BedroomAbvGr       int64\n",
       "KitchenAbvGr       int64\n",
       "KitchenQual       object\n",
       "TotRmsAbvGrd       int64\n",
       "Functional        object\n",
       "Fireplaces         int64\n",
       "FireplaceQu       object\n",
       "GarageType        object\n",
       "GarageYrBlt      float64\n",
       "GarageFinish      object\n",
       "GarageCars         int64\n",
       "GarageArea         int64\n",
       "GarageQual        object\n",
       "GarageCond        object\n",
       "PavedDrive        object\n",
       "WoodDeckSF         int64\n",
       "OpenPorchSF        int64\n",
       "EnclosedPorch      int64\n",
       "3SsnPorch          int64\n",
       "ScreenPorch        int64\n",
       "PoolArea           int64\n",
       "PoolQC            object\n",
       "Fence             object\n",
       "MiscFeature       object\n",
       "MiscVal            int64\n",
       "MoSold             int64\n",
       "YrSold             int64\n",
       "SaleType          object\n",
       "SaleCondition     object\n",
       "SalePrice          int32\n",
       "Length: 81, dtype: object"
      ]
     },
     "execution_count": 104,
     "metadata": {},
     "output_type": "execute_result"
    }
   ],
   "source": [
    "data_type_converted.dtypes"
   ]
  },
  {
   "cell_type": "code",
   "execution_count": 105,
   "metadata": {},
   "outputs": [],
   "source": [
    "data = data_type_converted"
   ]
  },
  {
   "cell_type": "code",
   "execution_count": 360,
   "metadata": {},
   "outputs": [],
   "source": [
    "#Function to splite timestamp/date column into sub features\n",
    "def date_splitter(df, fldname, drop=True):\n",
    "    \n",
    "    #convert the specified feature to timestamp format if not already\n",
    "    fld = df[fldname] \n",
    "    if not np.issubdtype(fld.dtype, np.datetime64):\n",
    "        df[fldname] = fld = pd.to_datetime(fld, \n",
    "                                     infer_datetime_format=True)\n",
    "        \n",
    "    targ_pre = re.sub('[Dd]ate$', '', fldname)#substitute the phrase 'date' by spaces in the original field name\n",
    "    \n",
    "    #obtain different sub features for the date column\n",
    "    for n in ('Year', 'Month', 'Week', 'Day', 'Dayofweek', \n",
    "            'Dayofyear', 'Is_month_end', 'Is_month_start', \n",
    "            'Is_quarter_end', 'Is_quarter_start', 'Is_year_end', \n",
    "            'Is_year_start'):\n",
    "        df[targ_pre+n] = getattr(fld.dt,n.lower())\n",
    "    \n",
    "    if drop: df.drop(fldname, axis=1, inplace=True)#drop the original date field \n",
    "    \n",
    "    return df"
   ]
  },
  {
   "cell_type": "code",
   "execution_count": null,
   "metadata": {},
   "outputs": [],
   "source": [
    "data =  date_splitter(data,)"
   ]
  },
  {
   "cell_type": "code",
   "execution_count": 148,
   "metadata": {},
   "outputs": [],
   "source": [
    "#Function to convert date field to its Julian format\n",
    "def Juliandtconv(df,fldname,drop=True):\n",
    "    \n",
    "    #convert the specified feature to timestamp format if not already\n",
    "    df[fldname]=pd.to_datetime(df[fldname],infer_datetime_format=True)\n",
    "    \n",
    "    df[fldname+'Julian'] = df[fldname].apply(lambda x: x.to_julian_date())\n",
    "    \n",
    "    if drop: df.drop(fldname, axis=1, inplace=True)#drop the original date field \n",
    "        \n",
    "    return  df"
   ]
  },
  {
   "cell_type": "code",
   "execution_count": 159,
   "metadata": {},
   "outputs": [
    {
     "data": {
      "text/html": [
       "<div>\n",
       "<style scoped>\n",
       "    .dataframe tbody tr th:only-of-type {\n",
       "        vertical-align: middle;\n",
       "    }\n",
       "\n",
       "    .dataframe tbody tr th {\n",
       "        vertical-align: top;\n",
       "    }\n",
       "\n",
       "    .dataframe thead th {\n",
       "        text-align: right;\n",
       "    }\n",
       "</style>\n",
       "<table border=\"1\" class=\"dataframe\">\n",
       "  <thead>\n",
       "    <tr style=\"text-align: right;\">\n",
       "      <th></th>\n",
       "      <th>nothing</th>\n",
       "      <th>sdateJulian</th>\n",
       "    </tr>\n",
       "  </thead>\n",
       "  <tbody>\n",
       "    <tr>\n",
       "      <th>0</th>\n",
       "      <td>a</td>\n",
       "      <td>2458449.5</td>\n",
       "    </tr>\n",
       "    <tr>\n",
       "      <th>1</th>\n",
       "      <td>b</td>\n",
       "      <td>2458449.5</td>\n",
       "    </tr>\n",
       "  </tbody>\n",
       "</table>\n",
       "</div>"
      ],
      "text/plain": [
       "  nothing  sdateJulian\n",
       "0       a    2458449.5\n",
       "1       b    2458449.5"
      ]
     },
     "execution_count": 159,
     "metadata": {},
     "output_type": "execute_result"
    }
   ],
   "source": [
    "df=Juliandtconv(df, 'sdate',drop=True)\n",
    "df"
   ]
  },
  {
   "cell_type": "code",
   "execution_count": 158,
   "metadata": {},
   "outputs": [
    {
     "data": {
      "text/html": [
       "<div>\n",
       "<style scoped>\n",
       "    .dataframe tbody tr th:only-of-type {\n",
       "        vertical-align: middle;\n",
       "    }\n",
       "\n",
       "    .dataframe tbody tr th {\n",
       "        vertical-align: top;\n",
       "    }\n",
       "\n",
       "    .dataframe thead th {\n",
       "        text-align: right;\n",
       "    }\n",
       "</style>\n",
       "<table border=\"1\" class=\"dataframe\">\n",
       "  <thead>\n",
       "    <tr style=\"text-align: right;\">\n",
       "      <th></th>\n",
       "      <th>sdate</th>\n",
       "      <th>nothing</th>\n",
       "    </tr>\n",
       "  </thead>\n",
       "  <tbody>\n",
       "    <tr>\n",
       "      <th>0</th>\n",
       "      <td>2018-11-27</td>\n",
       "      <td>a</td>\n",
       "    </tr>\n",
       "    <tr>\n",
       "      <th>1</th>\n",
       "      <td>2018-11-27</td>\n",
       "      <td>b</td>\n",
       "    </tr>\n",
       "  </tbody>\n",
       "</table>\n",
       "</div>"
      ],
      "text/plain": [
       "        sdate nothing\n",
       "0  2018-11-27       a\n",
       "1  2018-11-27       b"
      ]
     },
     "execution_count": 158,
     "metadata": {},
     "output_type": "execute_result"
    }
   ],
   "source": [
    "import datetime as dt\n",
    "df = pd.DataFrame()\n",
    "df['sdate']=[datetime.datetime.today().strftime('%Y-%m-%d'),datetime.datetime.today().strftime('%Y-%m-%d')]\n",
    "df['nothing']=['a','b']\n",
    "df.head()"
   ]
  },
  {
   "cell_type": "code",
   "execution_count": null,
   "metadata": {},
   "outputs": [],
   "source": [
    "123.45 0.55\n",
    "123.44 0.49"
   ]
  },
  {
   "cell_type": "code",
   "execution_count": 93,
   "metadata": {},
   "outputs": [],
   "source": [
    "#Convert categorical features to numerical\n",
    "def encoding(df):\n",
    "    \n",
    "    #By defaault, convert all the categories to numerical forms using Label encoder\n",
    "    enc        = LabelEncoder()\n",
    "    encoded_df = df.apply(enc.fit_transform)\n",
    "\n",
    "    return encoded_df"
   ]
  },
  {
   "cell_type": "code",
   "execution_count": 94,
   "metadata": {},
   "outputs": [
    {
     "data": {
      "text/html": [
       "<div>\n",
       "<style scoped>\n",
       "    .dataframe tbody tr th:only-of-type {\n",
       "        vertical-align: middle;\n",
       "    }\n",
       "\n",
       "    .dataframe tbody tr th {\n",
       "        vertical-align: top;\n",
       "    }\n",
       "\n",
       "    .dataframe thead th {\n",
       "        text-align: right;\n",
       "    }\n",
       "</style>\n",
       "<table border=\"1\" class=\"dataframe\">\n",
       "  <thead>\n",
       "    <tr style=\"text-align: right;\">\n",
       "      <th></th>\n",
       "      <th>Elevation</th>\n",
       "      <th>Aspect</th>\n",
       "      <th>Slope</th>\n",
       "      <th>Horizontal_Distance_To_Hydrology</th>\n",
       "      <th>Vertical_Distance_To_Hydrology</th>\n",
       "      <th>Horizontal_Distance_To_Roadways</th>\n",
       "      <th>Hillshade_9am</th>\n",
       "      <th>Hillshade_Noon</th>\n",
       "      <th>Hillshade_3pm</th>\n",
       "    </tr>\n",
       "  </thead>\n",
       "  <tbody>\n",
       "    <tr>\n",
       "      <th>0</th>\n",
       "      <td>657</td>\n",
       "      <td>51</td>\n",
       "      <td>3</td>\n",
       "      <td>34</td>\n",
       "      <td>92</td>\n",
       "      <td>108</td>\n",
       "      <td>142</td>\n",
       "      <td>118</td>\n",
       "      <td>146</td>\n",
       "    </tr>\n",
       "    <tr>\n",
       "      <th>1</th>\n",
       "      <td>651</td>\n",
       "      <td>56</td>\n",
       "      <td>2</td>\n",
       "      <td>24</td>\n",
       "      <td>86</td>\n",
       "      <td>68</td>\n",
       "      <td>141</td>\n",
       "      <td>121</td>\n",
       "      <td>149</td>\n",
       "    </tr>\n",
       "    <tr>\n",
       "      <th>2</th>\n",
       "      <td>865</td>\n",
       "      <td>139</td>\n",
       "      <td>9</td>\n",
       "      <td>35</td>\n",
       "      <td>157</td>\n",
       "      <td>1871</td>\n",
       "      <td>155</td>\n",
       "      <td>124</td>\n",
       "      <td>133</td>\n",
       "    </tr>\n",
       "    <tr>\n",
       "      <th>3</th>\n",
       "      <td>846</td>\n",
       "      <td>155</td>\n",
       "      <td>18</td>\n",
       "      <td>30</td>\n",
       "      <td>210</td>\n",
       "      <td>1820</td>\n",
       "      <td>159</td>\n",
       "      <td>124</td>\n",
       "      <td>120</td>\n",
       "    </tr>\n",
       "    <tr>\n",
       "      <th>4</th>\n",
       "      <td>656</td>\n",
       "      <td>45</td>\n",
       "      <td>2</td>\n",
       "      <td>14</td>\n",
       "      <td>91</td>\n",
       "      <td>69</td>\n",
       "      <td>141</td>\n",
       "      <td>120</td>\n",
       "      <td>148</td>\n",
       "    </tr>\n",
       "  </tbody>\n",
       "</table>\n",
       "</div>"
      ],
      "text/plain": [
       "   Elevation  Aspect  Slope  Horizontal_Distance_To_Hydrology  \\\n",
       "0        657      51      3                                34   \n",
       "1        651      56      2                                24   \n",
       "2        865     139      9                                35   \n",
       "3        846     155     18                                30   \n",
       "4        656      45      2                                14   \n",
       "\n",
       "   Vertical_Distance_To_Hydrology  Horizontal_Distance_To_Roadways  \\\n",
       "0                              92                              108   \n",
       "1                              86                               68   \n",
       "2                             157                             1871   \n",
       "3                             210                             1820   \n",
       "4                              91                               69   \n",
       "\n",
       "   Hillshade_9am  Hillshade_Noon  Hillshade_3pm  \n",
       "0            142             118            146  \n",
       "1            141             121            149  \n",
       "2            155             124            133  \n",
       "3            159             124            120  \n",
       "4            141             120            148  "
      ]
     },
     "execution_count": 94,
     "metadata": {},
     "output_type": "execute_result"
    }
   ],
   "source": [
    "data=encoding(data)\n",
    "data.head()"
   ]
  },
  {
   "cell_type": "code",
   "execution_count": 78,
   "metadata": {},
   "outputs": [],
   "source": [
    "#Function to separate data and target variable asuming last feature is the target variable\n",
    "def separate_target(df_raw,target):\n",
    "    \n",
    "    df     = df_raw.iloc[:,:-1] #data without the last variable(target variable)\n",
    "    target = df_raw.iloc[:,-1]  #target variable only\n",
    "    \n",
    "    return df,target\n"
   ]
  },
  {
   "cell_type": "code",
   "execution_count": 79,
   "metadata": {},
   "outputs": [],
   "source": [
    "data,target=separate_target(data,'SalePrice')"
   ]
  },
  {
   "cell_type": "code",
   "execution_count": 164,
   "metadata": {},
   "outputs": [],
   "source": [
    "#Function to bring all data into same scale\n",
    "def scale_data(df,scaling_type='MinMax'):  \n",
    "    \n",
    "    if scaling_type:\n",
    "        scaler = MinMaxScaler()#scales based on minimum and maximum values in dataset\n",
    "        \n",
    "    if scaling_type == 'Standardize':\n",
    "        scaler = StandardScaler()#scales based on mean and standard deviation of dataset setting mean to 0 and standard deviation to 1\n",
    "        \n",
    "    if scaling_type == 'Robustscale':\n",
    "        scaler = RobustScaler()#scales based on interquartile range of data\n",
    "\n",
    "    return pd.DataFrame(scaler.fit_transform(df),columns=df.columns)\n"
   ]
  },
  {
   "cell_type": "code",
   "execution_count": 172,
   "metadata": {},
   "outputs": [],
   "source": [
    "scaled_data = scale_data(data)\n"
   ]
  },
  {
   "cell_type": "code",
   "execution_count": 177,
   "metadata": {},
   "outputs": [
    {
     "name": "stdout",
     "output_type": "stream",
     "text": [
      "Object `normalize` not found.\n"
     ]
    }
   ],
   "source": []
  },
  {
   "cell_type": "code",
   "execution_count": 173,
   "metadata": {},
   "outputs": [
    {
     "data": {
      "text/html": [
       "<div>\n",
       "<style scoped>\n",
       "    .dataframe tbody tr th:only-of-type {\n",
       "        vertical-align: middle;\n",
       "    }\n",
       "\n",
       "    .dataframe tbody tr th {\n",
       "        vertical-align: top;\n",
       "    }\n",
       "\n",
       "    .dataframe thead th {\n",
       "        text-align: right;\n",
       "    }\n",
       "</style>\n",
       "<table border=\"1\" class=\"dataframe\">\n",
       "  <thead>\n",
       "    <tr style=\"text-align: right;\">\n",
       "      <th></th>\n",
       "      <th>Elevation</th>\n",
       "      <th>Aspect</th>\n",
       "      <th>Slope</th>\n",
       "      <th>Horizontal_Distance_To_Hydrology</th>\n",
       "      <th>Vertical_Distance_To_Hydrology</th>\n",
       "      <th>Horizontal_Distance_To_Roadways</th>\n",
       "      <th>Hillshade_9am</th>\n",
       "      <th>Hillshade_Noon</th>\n",
       "      <th>Hillshade_3pm</th>\n",
       "    </tr>\n",
       "  </thead>\n",
       "  <tbody>\n",
       "    <tr>\n",
       "      <th>0</th>\n",
       "      <td>0.369084</td>\n",
       "      <td>0.141667</td>\n",
       "      <td>0.057692</td>\n",
       "      <td>0.192107</td>\n",
       "      <td>0.208571</td>\n",
       "      <td>0.074020</td>\n",
       "      <td>0.870079</td>\n",
       "      <td>0.858065</td>\n",
       "      <td>0.596774</td>\n",
       "    </tr>\n",
       "    <tr>\n",
       "      <th>1</th>\n",
       "      <td>0.366062</td>\n",
       "      <td>0.155556</td>\n",
       "      <td>0.038462</td>\n",
       "      <td>0.157856</td>\n",
       "      <td>0.200000</td>\n",
       "      <td>0.056604</td>\n",
       "      <td>0.866142</td>\n",
       "      <td>0.877419</td>\n",
       "      <td>0.608871</td>\n",
       "    </tr>\n",
       "    <tr>\n",
       "      <th>2</th>\n",
       "      <td>0.473817</td>\n",
       "      <td>0.386111</td>\n",
       "      <td>0.173077</td>\n",
       "      <td>0.199553</td>\n",
       "      <td>0.301429</td>\n",
       "      <td>0.461538</td>\n",
       "      <td>0.921260</td>\n",
       "      <td>0.896774</td>\n",
       "      <td>0.544355</td>\n",
       "    </tr>\n",
       "    <tr>\n",
       "      <th>3</th>\n",
       "      <td>0.464250</td>\n",
       "      <td>0.430556</td>\n",
       "      <td>0.346154</td>\n",
       "      <td>0.180194</td>\n",
       "      <td>0.377143</td>\n",
       "      <td>0.448476</td>\n",
       "      <td>0.937008</td>\n",
       "      <td>0.896774</td>\n",
       "      <td>0.491935</td>\n",
       "    </tr>\n",
       "    <tr>\n",
       "      <th>4</th>\n",
       "      <td>0.368580</td>\n",
       "      <td>0.125000</td>\n",
       "      <td>0.038462</td>\n",
       "      <td>0.113924</td>\n",
       "      <td>0.207143</td>\n",
       "      <td>0.056749</td>\n",
       "      <td>0.866142</td>\n",
       "      <td>0.870968</td>\n",
       "      <td>0.604839</td>\n",
       "    </tr>\n",
       "  </tbody>\n",
       "</table>\n",
       "</div>"
      ],
      "text/plain": [
       "   Elevation    Aspect     Slope  Horizontal_Distance_To_Hydrology  \\\n",
       "0   0.369084  0.141667  0.057692                          0.192107   \n",
       "1   0.366062  0.155556  0.038462                          0.157856   \n",
       "2   0.473817  0.386111  0.173077                          0.199553   \n",
       "3   0.464250  0.430556  0.346154                          0.180194   \n",
       "4   0.368580  0.125000  0.038462                          0.113924   \n",
       "\n",
       "   Vertical_Distance_To_Hydrology  Horizontal_Distance_To_Roadways  \\\n",
       "0                        0.208571                         0.074020   \n",
       "1                        0.200000                         0.056604   \n",
       "2                        0.301429                         0.461538   \n",
       "3                        0.377143                         0.448476   \n",
       "4                        0.207143                         0.056749   \n",
       "\n",
       "   Hillshade_9am  Hillshade_Noon  Hillshade_3pm  \n",
       "0       0.870079        0.858065       0.596774  \n",
       "1       0.866142        0.877419       0.608871  \n",
       "2       0.921260        0.896774       0.544355  \n",
       "3       0.937008        0.896774       0.491935  \n",
       "4       0.866142        0.870968       0.604839  "
      ]
     },
     "execution_count": 173,
     "metadata": {},
     "output_type": "execute_result"
    }
   ],
   "source": [
    "scaled_data.head()"
   ]
  },
  {
   "cell_type": "code",
   "execution_count": 15,
   "metadata": {},
   "outputs": [],
   "source": [
    "#Visualize correlation between various features in dataset\n",
    "def halfHeatMap_corr(df, mirror=False,figsize_x=20, figsize_y=20):\n",
    "\n",
    "    # Create Correlation df\n",
    "    corr = df.corr()\n",
    "    # Plot figsize\n",
    "    fig, ax = plt.subplots(figsize=(figsize_x, figsize_y))\n",
    "    # Generate Color Map\n",
    "    colormap = sns.diverging_palette(220, 10, as_cmap=True)\n",
    "\n",
    "    if mirror == False:\n",
    "        # Drop self-correlations\n",
    "        dropSelf = np.zeros_like(corr)\n",
    "        dropSelf[np.triu_indices_from(dropSelf)] = True\n",
    "        \n",
    "    # Generate heatmap with mask on redundant values with a precision of 2 \n",
    "    sns.heatmap(corr, cmap=colormap, annot=True, fmt=\".2f\", mask=dropSelf)\n",
    "\n",
    "    plt.show()"
   ]
  },
  {
   "cell_type": "code",
   "execution_count": 16,
   "metadata": {},
   "outputs": [
    {
     "data": {
      "image/png": "[encoded data removed]",
      "text/plain": [
       "<Figure size 1440x1440 with 2 Axes>"
      ]
     },
     "metadata": {},
     "output_type": "display_data"
    }
   ],
   "source": [
    "halfHeatMap_corr(scaled_data)"
   ]
  },
  {
   "cell_type": "code",
   "execution_count": 348,
   "metadata": {},
   "outputs": [],
   "source": [
    "#Function to drop one of the two correlated features, the correlation coeffiecient is higher than the threshold\n",
    "def drop_highly_corr_features(df,threshold=0.95):\n",
    "    # Create correlation matrix\n",
    "    corr_matrix = df.corr().abs()\n",
    "\n",
    "    # Select upper triangle of correlation matrix\n",
    "    upper = corr_matrix.where(np.triu(np.ones(corr_matrix.shape), k=1).astype(np.bool))\n",
    "\n",
    "    # Find index of feature columns with correlation greater than 0.95\n",
    "    to_drop = [column for column in upper.columns if any(upper[column] > threshold)]\n",
    "    \n",
    "    #drop the column\n",
    "    df.drop(to_drop,axis =1,inplace=True)"
   ]
  },
  {
   "cell_type": "code",
   "execution_count": 349,
   "metadata": {},
   "outputs": [],
   "source": [
    "drop_highly_corr_features(df,threshold=0.8)"
   ]
  },
  {
   "cell_type": "code",
   "execution_count": 195,
   "metadata": {
    "scrolled": false
   },
   "outputs": [
    {
     "data": {
      "image/png": "[encoded data removed]",
      "text/plain": [
       "<Figure size 1152x432 with 1 Axes>"
      ]
     },
     "metadata": {},
     "output_type": "display_data"
    }
   ],
   "source": [
    "#Function to visualize outliers in the data\n",
    "def plotoutliers(df,collist=[],figsize_x=16,figsize_y=6):\n",
    "    \n",
    "    #If the feature whose outliers are to be visualized, consider only those features else consider all continuous variables\n",
    "    if collist:\n",
    "        df=df[collist]\n",
    "    else:\n",
    "        df=df._get_numeric_data()\n",
    "\n",
    "    plt.figure(figsize=(figsize_x, figsize_y))#specify the size of the figure\n",
    "    ax=sns.boxplot(x=\"variable\", y=\"value\", data=pd.melt(df),showmeans=True)#plot outliers\n",
    "    ax.set_xticklabels(ax.get_xticklabels(),rotation=45)#rotate the labels so as to adjust space\n",
    "    #ax = sns.stripplot(x=\"variable\", y=\"value\", data=pd.melt(df))\n",
    "    threshold = get_outlier_threshold(df)\n",
    "    ax.axhline(y=threshold[0], color='r',linestyle='--')\n",
    "    ax.axhline(y=threshold[1], color='b',linestyle='--')\n",
    "\n",
    "    plt.show()\n",
    "    \n",
    "    return threshold\n",
    "    \n",
    "\n",
    "plotoutliers(scaled_data)"
   ]
  },
  {
   "cell_type": "code",
   "execution_count": 188,
   "metadata": {},
   "outputs": [
    {
     "data": {
      "text/plain": [
       "1.0"
      ]
     },
     "execution_count": 188,
     "metadata": {},
     "output_type": "execute_result"
    }
   ],
   "source": [
    "scaled_data['Hillshade_Noon'].max()"
   ]
  },
  {
   "cell_type": "code",
   "execution_count": 149,
   "metadata": {},
   "outputs": [],
   "source": [
    "def get_outlier_threshold(df):\n",
    "    \n",
    "    Q1=df.quantile(0.25)\n",
    "    Q3=df.quantile(0.75)\n",
    "    \n",
    "    IQR=Q3-Q1\n",
    "    #print(Q3+1.5*IQR)\n",
    "    \n",
    "    upper_threshold  = (Q3+1.5*IQR).mean()\n",
    "    lower_threshold  = (Q1-1.5*IQR).mean()\n",
    "    #print(Q3+1.5*IQR)\n",
    "        \n",
    "    return (upper_threshold,lower_threshold)\n",
    " "
   ]
  },
  {
   "cell_type": "code",
   "execution_count": 78,
   "metadata": {},
   "outputs": [
    {
     "name": "stdout",
     "output_type": "stream",
     "text": [
      "Elevation                           1.174723\n",
      "Aspect                              1.541667\n",
      "Slope                               0.769231\n",
      "Horizontal_Distance_To_Hydrology    0.539464\n",
      "Vertical_Distance_To_Hydrology      0.480000\n",
      "Horizontal_Distance_To_Roadways     0.657329\n",
      "Hillshade_9am                       1.155512\n",
      "Hillshade_Noon                      1.148387\n",
      "Hillshade_3pm                       1.042339\n",
      "dtype: float64\n"
     ]
    }
   ],
   "source": [
    "threshold = get_outlier_threshold(scaled_data)"
   ]
  },
  {
   "cell_type": "code",
   "execution_count": 20,
   "metadata": {},
   "outputs": [],
   "source": [
    "#Function to drop rows which contain outliers\n",
    "def remove_outliers(df,column,method='IQR',threshold):\n",
    "    #Default method is to filter outliers on the basis of interquartile range as we need the data to be normally distributed to filter data based on standard deviation\n",
    "    \n",
    "    if method:\n",
    "\n",
    "        Q1      = df[column].quantile(0.25)#1st qaurtile of the feature\n",
    "        Q3      = df[column].quantile(0.75)#3rd quartile of the feature\n",
    "        IQR     = Q3 - Q1#interquartile range\n",
    "\n",
    "        df = df[~((df[column] < (Q1 - 1.5 * IQR)) |(df[column] > (Q3 + 1.5 * IQR)))]\n",
    "    \n",
    "    if method =='threshold':\n",
    "\n",
    "        df = df[~((df[column] < thresold[1] |(df[column] > thresold[0]))]\n",
    "        \n",
    "    if method == 'std':\n",
    "        \n",
    "        mean = df[column].mean()#mean of the feature\n",
    "        std  = df[column].std()#standard deviation of the feature\n",
    "        \n",
    "        df = df[df[column] < (3*std + mean)]\n",
    "        \n",
    "    return df\n"
   ]
  },
  {
   "cell_type": "code",
   "execution_count": 152,
   "metadata": {},
   "outputs": [],
   "source": [
    "data=remove_outliers(scaled_data,'Elevation',method = 'std')"
   ]
  },
  {
   "cell_type": "code",
   "execution_count": 119,
   "metadata": {},
   "outputs": [],
   "source": [
    "def remove_outliers1(df,method='IQR'):\n",
    "    #Default method is to filter outliers on the basis of interquartile range as we need the data to be normally distributed to filter data based on standard deviation\n",
    "    df=pd.DataFrame(df.values)\n",
    "    if method:\n",
    "\n",
    "        Q1      = df.quantile(0.25)#1st qaurtile of the feature\n",
    "        Q3      = df.quantile(0.75)#3rd quartile of the feature\n",
    "        IQR     = Q3 - Q1#interquartile range\n",
    "\n",
    "        df = df[~((df < (Q1 - 1.5 * IQR)) |(df > (Q3 + 1.5 * IQR)))]\n",
    "        \n",
    "    if method == 'std':\n",
    "        \n",
    "        mean = df[column].mean()#mean of the feature\n",
    "        std  = df[column].std()#standard deviation of the feature\n",
    "        \n",
    "        df = df[df[column] < (3*std + mean)]\n",
    "        \n",
    "    return df"
   ]
  },
  {
   "cell_type": "code",
   "execution_count": null,
   "metadata": {},
   "outputs": [],
   "source": [
    "rnd_clf = RandomForestClassifier(n_estimators = 100 , criterion = 'entropy',random_state = 42)\n",
    "rnd_clf.fit(data.iloc[:,0:30],data.iloc[:,30]);x, y = (list(x) for x in zip(*sorted(zip(rnd_clf.feature_importances_, data.iloc[:,0:30].columns), reverse = False)))\n",
    "\n",
    "trace2 = go.Bar(x=x, y=y, marker=dict(color=x, colorscale = 'Viridis', reversescale = True), \n",
    "                name='Random Forest Feature importance', orientation='h', )\n",
    "\n",
    "layout = dict(title='Barplot of Feature importances', width = 600, height = 1000, \n",
    "              yaxis=dict(showgrid=False, showline=False, showticklabels=True, ), margin=dict(l=300, ), )\n",
    "\n",
    "fig1 = go.Figure(data=[trace2], layout=layout)\n",
    "iplot(fig1)"
   ]
  },
  {
   "cell_type": "code",
   "execution_count": null,
   "metadata": {},
   "outputs": [],
   "source": [
    "for name, importance in zip(data.iloc[:,0:30].columns, rnd_clf.feature_importances_):\n",
    "    if importance > 0.020:\n",
    "        print('\"' + name + '\"'+',')"
   ]
  },
  {
   "cell_type": "code",
   "execution_count": null,
   "metadata": {},
   "outputs": [],
   "source": [
    "data.drop(['Time'], axis =1, inplace = True)\n",
    "data.head()"
   ]
  },
  {
   "cell_type": "code",
   "execution_count": 113,
   "metadata": {},
   "outputs": [],
   "source": [
    "#Function to visualize distribution of different levels of categorical variable \n",
    "def check_distribution(df,col=None):\n",
    "    pd.value_counts(df[col]).sort_values(ascending=False).plot(kind=\"bar\")#obtain count of different categories in descending order\n",
    "    "
   ]
  },
  {
   "cell_type": "code",
   "execution_count": 114,
   "metadata": {
    "scrolled": true
   },
   "outputs": [
    {
     "data": {
      "image/png": "[encoded data removed]",
      "text/plain": [
       "<Figure size 432x288 with 1 Axes>"
      ]
     },
     "metadata": {},
     "output_type": "display_data"
    }
   ],
   "source": [
    "check_distribution(data,'MSZoning')"
   ]
  },
  {
   "cell_type": "code",
   "execution_count": null,
   "metadata": {},
   "outputs": [],
   "source": [
    "from imblearn.combine import SMOTEENN, SMOTETomek\n",
    "from imblearn.under_sampling import TomekLinks, NeighbourhoodCleaningRule, CondensedNearestNeighbour, RandomUnderSampler, ClusterCentroids\n",
    "from imblearn.over_sampling import SMOTE"
   ]
  },
  {
   "cell_type": "markdown",
   "metadata": {},
   "source": [
    "Undersampling Methods: It reduces the number of observations from majority class to balance the data set. The various methods of undersampling implemented in this notebook includes:\n",
    "•UnderSampler: Randomly under-samples the majority class with replacement\n",
    "•TomekLinks: Identifies all Tomek links between the majority and minority classes\n",
    "•ClusterCentroids: Under-sampling with Cluster Centroids using K-means\n",
    "•NearMiss method: Selects the majority class samples which are close to some minority class samples\n",
    "•Condensed Nearest Neighbour: Selects subset of instances that are able to correctly classifying the original datasets using one-nearest neighbor rule.\n",
    "•One Side Selection: Method resulting from the application of Tomek links followed by Condensed Nearest Neighbor.\n",
    "•Neighborhood Cleaning Rule: Utilizes the one-sided selection principle, but considers more carefully the quality of the data to be removed\n"
   ]
  },
  {
   "cell_type": "code",
   "execution_count": null,
   "metadata": {},
   "outputs": [],
   "source": [
    "#Applying undersampling technique TomeLinks only for OCSVM model as it cannot handle the oversampled data.\n",
    "#dsamp = TomekLinks(random_state=RANDOM_SEED, n_jobs=16)\n",
    "dsamp = NeighbourhoodCleaningRule(random_state=RANDOM_SEED, n_jobs=16)\n",
    "#dsamp = ClusterCentroids(random_state=RANDOM_SEED, n_jobs=16)\n",
    "X_resampled, y_resampled = dsamp.fit_sample(X_train, y_train)\n",
    "colors = ['blue' if v == 0 else 'red' if v == 1 else 'black' for v in y_resampled]\n",
    "plt.scatter(X_resampled[:, 0], X_resampled[:, 1], c=colors, linewidth=0.5, edgecolor='black')\n",
    "sns.despine()\n",
    "plt.title(\"NeighbourhoodCleaningRule Output\")\n",
    "\n",
    "X_train = X_resampled\n",
    "y_train = y_resampled"
   ]
  },
  {
   "cell_type": "code",
   "execution_count": null,
   "metadata": {},
   "outputs": [],
   "source": [
    "print ('train Shape: ', X_train.shape, y_train.shape)\n",
    "print ('test Shape: ', X_test.shape, y_test.shape)"
   ]
  },
  {
   "cell_type": "markdown",
   "metadata": {},
   "source": [
    "Oversampling Methods: Replicates the observations from minority class to balance the data. The various methods of oversampling implemented in this notebook includes:\n",
    "•RandomOverSampler: Randomly over-samples the minority class with replacement.\n",
    "•SMOTE- Synthetic Minority Over-sampling Technique: It works by creating synthetic samples from the minor class instead of creating copies.\n",
    "•bSMOTE- Borderline SMOTE: Minority samples near the borderline are over-sampled.\n",
    "•SVM_SMOTE- Support Vectors SMOTE: The SVM smote model fits a support vector machine classifier to the data and uses the support vector to provide a notion of boundary. Unlike regular smote, where such notion relies on proportion of nearest neighbours belonging to each class.\n",
    "•SMOTE + Tomek links (Combines Over-sampling followed by under-sampling): Performs over-sampling using SMOTE and cleaning using Tomek links.\n",
    "•SMOTE + ENN (Combines Over-sampling followed by under-sampling): Performs over-sampling using SMOTE and cleaning using Edited Nearest Neighbours (ENN).\n",
    "•EasyEnsemble: Create an ensemble of balanced sets by iteratively under-sampling the imbalanced dataset using an estimator.\n",
    "•BalanceCascade: BalanceCascade is similar to EasyEnsemble except that it removes correctly classified major class examples of trained learners from further consideration.\n",
    "\n",
    "Apply sampling techniques on train dataset to get balanced dataset:\n",
    "\n",
    "Note: The main issue with \"Random Under-Sampling\" is that we run the risk that our classification models will not perform as accurate as we would like to since there is a great deal of information loss (bringing 492 non-fraud transaction from 284,315 non-fraud transaction)\n",
    "\n",
    "Understanding SMOTE:\n",
    "•Solving the Class Imbalance: SMOTE creates synthetic points from the minority class in order to reach an equal balance between the minority and majority class.\n",
    "•Location of the synthetic points: SMOTE picks the distance between the closest neighbors of the minority class, in between these distances it creates synthetic points.\n",
    "•Final Effect: More information is retained since we didn't have to delete any rows unlike in random undersampling.\n",
    "•Accuracy || Time Tradeoff: Although it is likely that SMOTE will be more accurate than random under-sampling, it will take more time to train since no rows are eliminated as previously stated.\n"
   ]
  },
  {
   "cell_type": "code",
   "execution_count": null,
   "metadata": {},
   "outputs": [],
   "source": [
    "#Applying oversampling technique for other models.\n",
    "#dsamp = TomekLinks(random_state=RANDOM_SEED, n_jobs=16)\n",
    "#dsamp = NeighbourhoodCleaningRule(random_state=RANDOM_SEED, n_jobs=16)\n",
    "#dsamp = SMOTETomek(random_state=RANDOM_SEED, n_jobs=16)\n",
    "#dsamp = SMOTE(random_state=RANDOM_SEED, n_jobs=16)\n",
    "dsamp = SMOTEENN(random_state=RANDOM_SEED, n_jobs=16)\n",
    "\n",
    "X_resampled, y_resampled = dsamp.fit_sample(X_train_s, y_train_s)\n",
    "colors = ['blue' if v == 0 else 'red' if v == 1 else 'black' for v in y_resampled]\n",
    "plt.scatter(X_resampled[:, 0], X_resampled[:, 1], c=colors, linewidth=0.5, edgecolor='black')\n",
    "sns.despine()\n",
    "plt.title(\"SMOTEENN Output\")\n",
    "\n",
    "X_train = X_resampled\n",
    "y_train = y_resampled"
   ]
  },
  {
   "cell_type": "code",
   "execution_count": 394,
   "metadata": {},
   "outputs": [],
   "source": [
    "##Function to reduce the number of features in the data\n",
    "def dimreduction(df):\n",
    "    \n",
    "    components_required=min(30,len(df.columns)) #if number of features < 30, then reduce dimension to to number of features else to 30\n",
    "    pca = PCA(n_components = components_required)\n",
    "    principalComponents = pca.fit_transform(df.iloc[:,:].values)#converting data to array so as to fit\n",
    "    principalDf = pd.DataFrame(data = principalComponents)#convert compressed data to dataframe\n",
    "    \n",
    "    return principalDf"
   ]
  },
  {
   "cell_type": "code",
   "execution_count": 395,
   "metadata": {},
   "outputs": [
    {
     "data": {
      "text/plain": [
       "30"
      ]
     },
     "execution_count": 395,
     "metadata": {},
     "output_type": "execute_result"
    }
   ],
   "source": [
    "df=dimreduction(df)\n",
    "len(df.columns)"
   ]
  },
  {
   "cell_type": "code",
   "execution_count": 396,
   "metadata": {},
   "outputs": [
    {
     "data": {
      "text/html": [
       "<div>\n",
       "<style scoped>\n",
       "    .dataframe tbody tr th:only-of-type {\n",
       "        vertical-align: middle;\n",
       "    }\n",
       "\n",
       "    .dataframe tbody tr th {\n",
       "        vertical-align: top;\n",
       "    }\n",
       "\n",
       "    .dataframe thead th {\n",
       "        text-align: right;\n",
       "    }\n",
       "</style>\n",
       "<table border=\"1\" class=\"dataframe\">\n",
       "  <thead>\n",
       "    <tr style=\"text-align: right;\">\n",
       "      <th></th>\n",
       "      <th>0</th>\n",
       "      <th>1</th>\n",
       "      <th>2</th>\n",
       "      <th>3</th>\n",
       "      <th>4</th>\n",
       "      <th>5</th>\n",
       "      <th>6</th>\n",
       "      <th>7</th>\n",
       "      <th>8</th>\n",
       "      <th>9</th>\n",
       "      <th>...</th>\n",
       "      <th>20</th>\n",
       "      <th>21</th>\n",
       "      <th>22</th>\n",
       "      <th>23</th>\n",
       "      <th>24</th>\n",
       "      <th>25</th>\n",
       "      <th>26</th>\n",
       "      <th>27</th>\n",
       "      <th>28</th>\n",
       "      <th>29</th>\n",
       "    </tr>\n",
       "  </thead>\n",
       "  <tbody>\n",
       "    <tr>\n",
       "      <th>0</th>\n",
       "      <td>0.499701</td>\n",
       "      <td>-0.358370</td>\n",
       "      <td>0.549640</td>\n",
       "      <td>0.328894</td>\n",
       "      <td>0.151279</td>\n",
       "      <td>-0.708721</td>\n",
       "      <td>-0.227153</td>\n",
       "      <td>0.020012</td>\n",
       "      <td>-0.129009</td>\n",
       "      <td>-0.052395</td>\n",
       "      <td>...</td>\n",
       "      <td>-0.077521</td>\n",
       "      <td>-0.001428</td>\n",
       "      <td>0.359256</td>\n",
       "      <td>0.162282</td>\n",
       "      <td>0.078814</td>\n",
       "      <td>-0.012766</td>\n",
       "      <td>-0.120193</td>\n",
       "      <td>-0.066977</td>\n",
       "      <td>0.028877</td>\n",
       "      <td>-0.093629</td>\n",
       "    </tr>\n",
       "    <tr>\n",
       "      <th>1</th>\n",
       "      <td>0.266706</td>\n",
       "      <td>0.757637</td>\n",
       "      <td>0.287876</td>\n",
       "      <td>-0.334982</td>\n",
       "      <td>0.067541</td>\n",
       "      <td>-0.412474</td>\n",
       "      <td>0.274829</td>\n",
       "      <td>-0.004326</td>\n",
       "      <td>-0.333431</td>\n",
       "      <td>-0.243072</td>\n",
       "      <td>...</td>\n",
       "      <td>0.084488</td>\n",
       "      <td>-0.272225</td>\n",
       "      <td>-0.379072</td>\n",
       "      <td>-0.298871</td>\n",
       "      <td>0.012626</td>\n",
       "      <td>-0.002600</td>\n",
       "      <td>0.313720</td>\n",
       "      <td>0.141162</td>\n",
       "      <td>-0.210902</td>\n",
       "      <td>-0.042606</td>\n",
       "    </tr>\n",
       "    <tr>\n",
       "      <th>2</th>\n",
       "      <td>0.858664</td>\n",
       "      <td>-0.094974</td>\n",
       "      <td>-0.110479</td>\n",
       "      <td>0.546933</td>\n",
       "      <td>-0.300334</td>\n",
       "      <td>-0.200529</td>\n",
       "      <td>-0.532917</td>\n",
       "      <td>0.264791</td>\n",
       "      <td>-0.076069</td>\n",
       "      <td>-0.036447</td>\n",
       "      <td>...</td>\n",
       "      <td>-0.037095</td>\n",
       "      <td>0.021042</td>\n",
       "      <td>0.107051</td>\n",
       "      <td>0.300606</td>\n",
       "      <td>0.076954</td>\n",
       "      <td>0.028022</td>\n",
       "      <td>0.017837</td>\n",
       "      <td>-0.020943</td>\n",
       "      <td>-0.234049</td>\n",
       "      <td>-0.120691</td>\n",
       "    </tr>\n",
       "    <tr>\n",
       "      <th>3</th>\n",
       "      <td>-0.402155</td>\n",
       "      <td>0.227135</td>\n",
       "      <td>-0.839407</td>\n",
       "      <td>0.616191</td>\n",
       "      <td>-0.419489</td>\n",
       "      <td>-0.290180</td>\n",
       "      <td>0.596925</td>\n",
       "      <td>0.340826</td>\n",
       "      <td>0.185122</td>\n",
       "      <td>-0.559185</td>\n",
       "      <td>...</td>\n",
       "      <td>0.121794</td>\n",
       "      <td>-0.076094</td>\n",
       "      <td>0.516877</td>\n",
       "      <td>-0.480076</td>\n",
       "      <td>0.087226</td>\n",
       "      <td>0.220907</td>\n",
       "      <td>0.342021</td>\n",
       "      <td>0.156103</td>\n",
       "      <td>-0.447154</td>\n",
       "      <td>-0.144596</td>\n",
       "    </tr>\n",
       "    <tr>\n",
       "      <th>4</th>\n",
       "      <td>1.458981</td>\n",
       "      <td>0.178788</td>\n",
       "      <td>-0.445661</td>\n",
       "      <td>0.610828</td>\n",
       "      <td>0.041235</td>\n",
       "      <td>-0.031072</td>\n",
       "      <td>0.135995</td>\n",
       "      <td>0.458918</td>\n",
       "      <td>-0.244872</td>\n",
       "      <td>0.057653</td>\n",
       "      <td>...</td>\n",
       "      <td>0.087243</td>\n",
       "      <td>-0.037066</td>\n",
       "      <td>-0.161611</td>\n",
       "      <td>0.083197</td>\n",
       "      <td>0.116049</td>\n",
       "      <td>-0.084612</td>\n",
       "      <td>0.029588</td>\n",
       "      <td>-0.048052</td>\n",
       "      <td>-0.092953</td>\n",
       "      <td>-0.105468</td>\n",
       "    </tr>\n",
       "  </tbody>\n",
       "</table>\n",
       "<p>5 rows × 30 columns</p>\n",
       "</div>"
      ],
      "text/plain": [
       "         0         1         2         3         4         5         6   \\\n",
       "0  0.499701 -0.358370  0.549640  0.328894  0.151279 -0.708721 -0.227153   \n",
       "1  0.266706  0.757637  0.287876 -0.334982  0.067541 -0.412474  0.274829   \n",
       "2  0.858664 -0.094974 -0.110479  0.546933 -0.300334 -0.200529 -0.532917   \n",
       "3 -0.402155  0.227135 -0.839407  0.616191 -0.419489 -0.290180  0.596925   \n",
       "4  1.458981  0.178788 -0.445661  0.610828  0.041235 -0.031072  0.135995   \n",
       "\n",
       "         7         8         9     ...           20        21        22  \\\n",
       "0  0.020012 -0.129009 -0.052395    ...    -0.077521 -0.001428  0.359256   \n",
       "1 -0.004326 -0.333431 -0.243072    ...     0.084488 -0.272225 -0.379072   \n",
       "2  0.264791 -0.076069 -0.036447    ...    -0.037095  0.021042  0.107051   \n",
       "3  0.340826  0.185122 -0.559185    ...     0.121794 -0.076094  0.516877   \n",
       "4  0.458918 -0.244872  0.057653    ...     0.087243 -0.037066 -0.161611   \n",
       "\n",
       "         23        24        25        26        27        28        29  \n",
       "0  0.162282  0.078814 -0.012766 -0.120193 -0.066977  0.028877 -0.093629  \n",
       "1 -0.298871  0.012626 -0.002600  0.313720  0.141162 -0.210902 -0.042606  \n",
       "2  0.300606  0.076954  0.028022  0.017837 -0.020943 -0.234049 -0.120691  \n",
       "3 -0.480076  0.087226  0.220907  0.342021  0.156103 -0.447154 -0.144596  \n",
       "4  0.083197  0.116049 -0.084612  0.029588 -0.048052 -0.092953 -0.105468  \n",
       "\n",
       "[5 rows x 30 columns]"
      ]
     },
     "execution_count": 396,
     "metadata": {},
     "output_type": "execute_result"
    }
   ],
   "source": [
    "df.head()"
   ]
  },
  {
   "cell_type": "code",
   "execution_count": null,
   "metadata": {},
   "outputs": [],
   "source": []
  }
 ],
 "metadata": {
  "datacleaner": {
   "position": {
    "top": "50px"
   },
   "python": {
    "varRefreshCmd": "try:\n    print(_datacleaner.dataframe_metadata())\nexcept:\n    print([])"
   },
   "window_display": false
  },
  "kernelspec": {
   "display_name": "Python 3",
   "language": "python",
   "name": "python3"
  },
  "language_info": {
   "codemirror_mode": {
    "name": "ipython",
    "version": 3
   },
   "file_extension": ".py",
   "mimetype": "text/x-python",
   "name": "python",
   "nbconvert_exporter": "python",
   "pygments_lexer": "ipython3",
   "version": "3.6.5"
  }
 },
 "nbformat": 4,
 "nbformat_minor": 2
}
