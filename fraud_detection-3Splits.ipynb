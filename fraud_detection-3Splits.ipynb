{
 "cells": [
  {
   "cell_type": "markdown",
   "metadata": {},
   "source": [
    "Here, we will train an Autoencoder Neural Network (implemented in Keras) in unsupervised (or semi-supervised) fashion for Anomaly Detection in credit card transaction data. The trained model will be evaluated on pre-labeled and anonymized dataset."
   ]
  },
  {
   "cell_type": "markdown",
   "metadata": {},
   "source": [
    "#### Import Keras and other necessary libraries:"
   ]
  },
  {
   "cell_type": "code",
   "execution_count": 28,
   "metadata": {},
   "outputs": [],
   "source": [
    "import pandas as pd\n",
    "import numpy as np\n",
    "import pickle\n",
    "import matplotlib.pyplot as plt\n",
    "from scipy import stats\n",
    "import tensorflow as tf\n",
    "import seaborn as sns\n",
    "from pylab import rcParams\n",
    "from sklearn.model_selection import train_test_split, StratifiedShuffleSplit\n",
    "from sklearn.metrics import (confusion_matrix, precision_recall_curve, auc,\n",
    "                             roc_curve, recall_score, classification_report, f1_score,\n",
    "                             precision_recall_fscore_support, accuracy_score)\n",
    "from sklearn.preprocessing import StandardScaler, RobustScaler\n",
    "from keras.models import Model, load_model\n",
    "from keras.layers import Input, Dense, Dropout\n",
    "from keras.callbacks import ModelCheckpoint, TensorBoard\n",
    "from keras import regularizers\n",
    "\n",
    "%matplotlib inline\n",
    "\n",
    "sns.set(style='whitegrid', palette='muted', font_scale=1.5)\n",
    "\n",
    "rcParams['figure.figsize'] = 14, 8\n",
    "plt.style.use('ggplot')\n",
    "\n",
    "RANDOM_SEED = 42\n",
    "LABELS = [\"Normal\", \"Fraud\"]"
   ]
  },
  {
   "cell_type": "markdown",
   "metadata": {},
   "source": [
    "# Loading the data\n",
    "\n",
    "The dataset we're going to use can be downloaded from [Kaggle](https://www.kaggle.com/dalpozz/creditcardfraud). It contains data about credit card transactions that occurred during a period of two days, with 492 frauds out of 284,807 transactions.\n",
    "\n",
    "All variables in the dataset are numerical. The data has been transformed using PCA transformation(s) due to privacy reasons. The two features that haven't been changed are Time and Amount. Time contains the seconds elapsed between each transaction and the first transaction in the dataset."
   ]
  },
  {
   "cell_type": "code",
   "execution_count": 8,
   "metadata": {},
   "outputs": [],
   "source": [
    "Fpath = 'C:/Users/sushant_singh01/Documents/Python Scripts/Data/'\n",
    "df = pd.read_csv(Fpath+\"creditcard.csv\")"
   ]
  },
  {
   "cell_type": "markdown",
   "metadata": {},
   "source": [
    "# Exploration"
   ]
  },
  {
   "cell_type": "code",
   "execution_count": 9,
   "metadata": {},
   "outputs": [
    {
     "data": {
      "text/plain": [
       "(284807, 31)"
      ]
     },
     "execution_count": 9,
     "metadata": {},
     "output_type": "execute_result"
    }
   ],
   "source": [
    "df.shape"
   ]
  },
  {
   "cell_type": "code",
   "execution_count": 10,
   "metadata": {},
   "outputs": [
    {
     "data": {
      "text/html": [
       "<div>\n",
       "<style scoped>\n",
       "    .dataframe tbody tr th:only-of-type {\n",
       "        vertical-align: middle;\n",
       "    }\n",
       "\n",
       "    .dataframe tbody tr th {\n",
       "        vertical-align: top;\n",
       "    }\n",
       "\n",
       "    .dataframe thead th {\n",
       "        text-align: right;\n",
       "    }\n",
       "</style>\n",
       "<table border=\"1\" class=\"dataframe\">\n",
       "  <thead>\n",
       "    <tr style=\"text-align: right;\">\n",
       "      <th></th>\n",
       "      <th>Time</th>\n",
       "      <th>V1</th>\n",
       "      <th>V2</th>\n",
       "      <th>V3</th>\n",
       "      <th>V4</th>\n",
       "      <th>V5</th>\n",
       "      <th>V6</th>\n",
       "      <th>V7</th>\n",
       "      <th>V8</th>\n",
       "      <th>V9</th>\n",
       "      <th>...</th>\n",
       "      <th>V21</th>\n",
       "      <th>V22</th>\n",
       "      <th>V23</th>\n",
       "      <th>V24</th>\n",
       "      <th>V25</th>\n",
       "      <th>V26</th>\n",
       "      <th>V27</th>\n",
       "      <th>V28</th>\n",
       "      <th>Amount</th>\n",
       "      <th>Class</th>\n",
       "    </tr>\n",
       "  </thead>\n",
       "  <tbody>\n",
       "    <tr>\n",
       "      <th>0</th>\n",
       "      <td>0.0</td>\n",
       "      <td>-1.359807</td>\n",
       "      <td>-0.072781</td>\n",
       "      <td>2.536347</td>\n",
       "      <td>1.378155</td>\n",
       "      <td>-0.338321</td>\n",
       "      <td>0.462388</td>\n",
       "      <td>0.239599</td>\n",
       "      <td>0.098698</td>\n",
       "      <td>0.363787</td>\n",
       "      <td>...</td>\n",
       "      <td>-0.018307</td>\n",
       "      <td>0.277838</td>\n",
       "      <td>-0.110474</td>\n",
       "      <td>0.066928</td>\n",
       "      <td>0.128539</td>\n",
       "      <td>-0.189115</td>\n",
       "      <td>0.133558</td>\n",
       "      <td>-0.021053</td>\n",
       "      <td>149.62</td>\n",
       "      <td>0</td>\n",
       "    </tr>\n",
       "    <tr>\n",
       "      <th>1</th>\n",
       "      <td>0.0</td>\n",
       "      <td>1.191857</td>\n",
       "      <td>0.266151</td>\n",
       "      <td>0.166480</td>\n",
       "      <td>0.448154</td>\n",
       "      <td>0.060018</td>\n",
       "      <td>-0.082361</td>\n",
       "      <td>-0.078803</td>\n",
       "      <td>0.085102</td>\n",
       "      <td>-0.255425</td>\n",
       "      <td>...</td>\n",
       "      <td>-0.225775</td>\n",
       "      <td>-0.638672</td>\n",
       "      <td>0.101288</td>\n",
       "      <td>-0.339846</td>\n",
       "      <td>0.167170</td>\n",
       "      <td>0.125895</td>\n",
       "      <td>-0.008983</td>\n",
       "      <td>0.014724</td>\n",
       "      <td>2.69</td>\n",
       "      <td>0</td>\n",
       "    </tr>\n",
       "    <tr>\n",
       "      <th>2</th>\n",
       "      <td>1.0</td>\n",
       "      <td>-1.358354</td>\n",
       "      <td>-1.340163</td>\n",
       "      <td>1.773209</td>\n",
       "      <td>0.379780</td>\n",
       "      <td>-0.503198</td>\n",
       "      <td>1.800499</td>\n",
       "      <td>0.791461</td>\n",
       "      <td>0.247676</td>\n",
       "      <td>-1.514654</td>\n",
       "      <td>...</td>\n",
       "      <td>0.247998</td>\n",
       "      <td>0.771679</td>\n",
       "      <td>0.909412</td>\n",
       "      <td>-0.689281</td>\n",
       "      <td>-0.327642</td>\n",
       "      <td>-0.139097</td>\n",
       "      <td>-0.055353</td>\n",
       "      <td>-0.059752</td>\n",
       "      <td>378.66</td>\n",
       "      <td>0</td>\n",
       "    </tr>\n",
       "    <tr>\n",
       "      <th>3</th>\n",
       "      <td>1.0</td>\n",
       "      <td>-0.966272</td>\n",
       "      <td>-0.185226</td>\n",
       "      <td>1.792993</td>\n",
       "      <td>-0.863291</td>\n",
       "      <td>-0.010309</td>\n",
       "      <td>1.247203</td>\n",
       "      <td>0.237609</td>\n",
       "      <td>0.377436</td>\n",
       "      <td>-1.387024</td>\n",
       "      <td>...</td>\n",
       "      <td>-0.108300</td>\n",
       "      <td>0.005274</td>\n",
       "      <td>-0.190321</td>\n",
       "      <td>-1.175575</td>\n",
       "      <td>0.647376</td>\n",
       "      <td>-0.221929</td>\n",
       "      <td>0.062723</td>\n",
       "      <td>0.061458</td>\n",
       "      <td>123.50</td>\n",
       "      <td>0</td>\n",
       "    </tr>\n",
       "    <tr>\n",
       "      <th>4</th>\n",
       "      <td>2.0</td>\n",
       "      <td>-1.158233</td>\n",
       "      <td>0.877737</td>\n",
       "      <td>1.548718</td>\n",
       "      <td>0.403034</td>\n",
       "      <td>-0.407193</td>\n",
       "      <td>0.095921</td>\n",
       "      <td>0.592941</td>\n",
       "      <td>-0.270533</td>\n",
       "      <td>0.817739</td>\n",
       "      <td>...</td>\n",
       "      <td>-0.009431</td>\n",
       "      <td>0.798278</td>\n",
       "      <td>-0.137458</td>\n",
       "      <td>0.141267</td>\n",
       "      <td>-0.206010</td>\n",
       "      <td>0.502292</td>\n",
       "      <td>0.219422</td>\n",
       "      <td>0.215153</td>\n",
       "      <td>69.99</td>\n",
       "      <td>0</td>\n",
       "    </tr>\n",
       "  </tbody>\n",
       "</table>\n",
       "<p>5 rows × 31 columns</p>\n",
       "</div>"
      ],
      "text/plain": [
       "   Time        V1        V2        V3        V4        V5        V6        V7  \\\n",
       "0   0.0 -1.359807 -0.072781  2.536347  1.378155 -0.338321  0.462388  0.239599   \n",
       "1   0.0  1.191857  0.266151  0.166480  0.448154  0.060018 -0.082361 -0.078803   \n",
       "2   1.0 -1.358354 -1.340163  1.773209  0.379780 -0.503198  1.800499  0.791461   \n",
       "3   1.0 -0.966272 -0.185226  1.792993 -0.863291 -0.010309  1.247203  0.237609   \n",
       "4   2.0 -1.158233  0.877737  1.548718  0.403034 -0.407193  0.095921  0.592941   \n",
       "\n",
       "         V8        V9  ...         V21       V22       V23       V24  \\\n",
       "0  0.098698  0.363787  ...   -0.018307  0.277838 -0.110474  0.066928   \n",
       "1  0.085102 -0.255425  ...   -0.225775 -0.638672  0.101288 -0.339846   \n",
       "2  0.247676 -1.514654  ...    0.247998  0.771679  0.909412 -0.689281   \n",
       "3  0.377436 -1.387024  ...   -0.108300  0.005274 -0.190321 -1.175575   \n",
       "4 -0.270533  0.817739  ...   -0.009431  0.798278 -0.137458  0.141267   \n",
       "\n",
       "        V25       V26       V27       V28  Amount  Class  \n",
       "0  0.128539 -0.189115  0.133558 -0.021053  149.62      0  \n",
       "1  0.167170  0.125895 -0.008983  0.014724    2.69      0  \n",
       "2 -0.327642 -0.139097 -0.055353 -0.059752  378.66      0  \n",
       "3  0.647376 -0.221929  0.062723  0.061458  123.50      0  \n",
       "4 -0.206010  0.502292  0.219422  0.215153   69.99      0  \n",
       "\n",
       "[5 rows x 31 columns]"
      ]
     },
     "execution_count": 10,
     "metadata": {},
     "output_type": "execute_result"
    }
   ],
   "source": [
    "df.head()"
   ]
  },
  {
   "cell_type": "markdown",
   "metadata": {},
   "source": [
    "31 columns, 2 of which are Time and Amount. The rest are output from the PCA transformation. Let's check for missing values:"
   ]
  },
  {
   "cell_type": "code",
   "execution_count": 11,
   "metadata": {},
   "outputs": [
    {
     "data": {
      "text/plain": [
       "False"
      ]
     },
     "execution_count": 11,
     "metadata": {},
     "output_type": "execute_result"
    }
   ],
   "source": [
    "df.isnull().values.any()"
   ]
  },
  {
   "cell_type": "code",
   "execution_count": 12,
   "metadata": {},
   "outputs": [
    {
     "data": {
      "image/png": "[encoded data removed]",
      "text/plain": [
       "<Figure size 1008x576 with 1 Axes>"
      ]
     },
     "metadata": {},
     "output_type": "display_data"
    }
   ],
   "source": [
    "count_classes = pd.value_counts(df['Class'], sort = True)\n",
    "count_classes.plot(kind = 'bar', rot=0)\n",
    "plt.title(\"Transaction class distribution\")\n",
    "plt.xticks(range(2), LABELS)\n",
    "plt.xlabel(\"Class\")\n",
    "plt.ylabel(\"Frequency\");"
   ]
  },
  {
   "cell_type": "markdown",
   "metadata": {},
   "source": [
    "We have a highly imbalanced dataset on our hands. Normal transactions overwhelm the fraudulent ones by a large margin. Let's look at the two types of transactions: "
   ]
  },
  {
   "cell_type": "code",
   "execution_count": 13,
   "metadata": {},
   "outputs": [],
   "source": [
    "frauds = df[df.Class == 1]\n",
    "normal = df[df.Class == 0]"
   ]
  },
  {
   "cell_type": "code",
   "execution_count": 14,
   "metadata": {},
   "outputs": [
    {
     "data": {
      "text/plain": [
       "(492, 31)"
      ]
     },
     "execution_count": 14,
     "metadata": {},
     "output_type": "execute_result"
    }
   ],
   "source": [
    "frauds.shape"
   ]
  },
  {
   "cell_type": "code",
   "execution_count": 15,
   "metadata": {},
   "outputs": [
    {
     "data": {
      "text/plain": [
       "(284315, 31)"
      ]
     },
     "execution_count": 15,
     "metadata": {},
     "output_type": "execute_result"
    }
   ],
   "source": [
    "normal.shape"
   ]
  },
  {
   "cell_type": "markdown",
   "metadata": {},
   "source": [
    "How different are the amount of money used in different transaction classes?"
   ]
  },
  {
   "cell_type": "code",
   "execution_count": 16,
   "metadata": {},
   "outputs": [
    {
     "data": {
      "text/plain": [
       "count     492.000000\n",
       "mean      122.211321\n",
       "std       256.683288\n",
       "min         0.000000\n",
       "25%         1.000000\n",
       "50%         9.250000\n",
       "75%       105.890000\n",
       "max      2125.870000\n",
       "Name: Amount, dtype: float64"
      ]
     },
     "execution_count": 16,
     "metadata": {},
     "output_type": "execute_result"
    }
   ],
   "source": [
    "frauds.Amount.describe()"
   ]
  },
  {
   "cell_type": "code",
   "execution_count": 17,
   "metadata": {
    "scrolled": true
   },
   "outputs": [
    {
     "data": {
      "text/plain": [
       "count    284315.000000\n",
       "mean         88.291022\n",
       "std         250.105092\n",
       "min           0.000000\n",
       "25%           5.650000\n",
       "50%          22.000000\n",
       "75%          77.050000\n",
       "max       25691.160000\n",
       "Name: Amount, dtype: float64"
      ]
     },
     "execution_count": 17,
     "metadata": {},
     "output_type": "execute_result"
    }
   ],
   "source": [
    "normal.Amount.describe()"
   ]
  },
  {
   "cell_type": "markdown",
   "metadata": {},
   "source": [
    "Let's have a more graphical representation:"
   ]
  },
  {
   "cell_type": "code",
   "execution_count": 18,
   "metadata": {},
   "outputs": [
    {
     "data": {
      "image/png": "[encoded data removed]",
      "text/plain": [
       "<Figure size 1008x576 with 2 Axes>"
      ]
     },
     "metadata": {},
     "output_type": "display_data"
    }
   ],
   "source": [
    "f, (ax1, ax2) = plt.subplots(2, 1, sharex=True)\n",
    "f.suptitle('Amount per transaction by class')\n",
    "\n",
    "bins = 50\n",
    "\n",
    "ax1.hist(frauds.Amount, bins = bins)\n",
    "ax1.set_title('Fraud')\n",
    "\n",
    "ax2.hist(normal.Amount, bins = bins)\n",
    "ax2.set_title('Normal')\n",
    "\n",
    "plt.xlabel('Amount ($)')\n",
    "plt.ylabel('Number of Transactions')\n",
    "plt.xlim((0, 20000))\n",
    "plt.yscale('log')\n",
    "plt.show();"
   ]
  },
  {
   "cell_type": "markdown",
   "metadata": {},
   "source": [
    "Do fraudulent transactions occur more often during certain time?"
   ]
  },
  {
   "cell_type": "code",
   "execution_count": 19,
   "metadata": {},
   "outputs": [
    {
     "data": {
      "image/png": "[encoded data removed]",
      "text/plain": [
       "<Figure size 1008x576 with 2 Axes>"
      ]
     },
     "metadata": {},
     "output_type": "display_data"
    }
   ],
   "source": [
    "f, (ax1, ax2) = plt.subplots(2, 1, sharex=True)\n",
    "f.suptitle('Time of transaction vs Amount by class')\n",
    "\n",
    "ax1.scatter(frauds.Time, frauds.Amount)\n",
    "ax1.set_title('Fraud')\n",
    "\n",
    "ax2.scatter(normal.Time, normal.Amount)\n",
    "ax2.set_title('Normal')\n",
    "\n",
    "plt.xlabel('Time (in Seconds)')\n",
    "plt.ylabel('Amount')\n",
    "plt.show()"
   ]
  },
  {
   "cell_type": "markdown",
   "metadata": {},
   "source": [
    "Doesn't seem like the time of transaction really matters.\n",
    "\n",
    "# Autoencoders\n",
    "\n",
    "Autoencoders can seem quite bizarre at first. The job of those models is to predict the input, given that same input. Puzzling? Definitely was for me, the first time I heard it.\n",
    "\n",
    "More specifically, let’s take a look at Autoencoder Neural Networks. This autoencoder tries to learn to approximate the following identity function:\n",
    "\n",
    "$$\\textstyle f_{W,b}(x) \\approx x$$\n",
    "\n",
    "While trying to do just that might sound trivial at first, it is important to note that we want to learn a compressed representation of the data, thus find structure. This can be done by limiting the number of hidden units in the model. Those kind of autoencoders are called *undercomplete*.\n",
    "\n",
    "Here's a visual representation of what an Autoencoder might learn:\n",
    "\n",
    "![](http://curiousily.com/assets/12.what_to_do_when_data_is_missing_part_ii_files/mushroom_encoder.png)\n",
    "\n",
    "## Reconstruction error\n",
    "\n",
    "We optimize the parameters of our Autoencoder model in such way that a special kind of error - reconstruction error is minimized. In practice, the traditional squared error is often used:\n",
    "\n",
    "$$\\textstyle L(x,x') = ||\\, x - x'||^2$$\n",
    "\n",
    "If you want to learn more about Autoencoders I highly recommend the following videos by Hugo Larochelle: https://www.youtube.com/embed/FzS3tMl4Nsc"
   ]
  },
  {
   "cell_type": "markdown",
   "metadata": {},
   "source": [
    "# Preparing the data\n",
    "\n",
    "First, let's drop the Time column (not going to use it) and use the scikit's StandardScaler on the Amount. The scaler removes the mean and scales the values to unit variance:"
   ]
  },
  {
   "cell_type": "code",
   "execution_count": 20,
   "metadata": {},
   "outputs": [],
   "source": [
    "data = df.drop(['Time'], axis=1)\n",
    "#data['Amount'] = StandardScaler().fit_transform(data['Amount'].values.reshape(-1, 1))"
   ]
  },
  {
   "cell_type": "code",
   "execution_count": 21,
   "metadata": {},
   "outputs": [
    {
     "data": {
      "text/html": [
       "<div>\n",
       "<style scoped>\n",
       "    .dataframe tbody tr th:only-of-type {\n",
       "        vertical-align: middle;\n",
       "    }\n",
       "\n",
       "    .dataframe tbody tr th {\n",
       "        vertical-align: top;\n",
       "    }\n",
       "\n",
       "    .dataframe thead th {\n",
       "        text-align: right;\n",
       "    }\n",
       "</style>\n",
       "<table border=\"1\" class=\"dataframe\">\n",
       "  <thead>\n",
       "    <tr style=\"text-align: right;\">\n",
       "      <th></th>\n",
       "      <th>V1</th>\n",
       "      <th>V2</th>\n",
       "      <th>V3</th>\n",
       "      <th>V4</th>\n",
       "      <th>V5</th>\n",
       "      <th>V6</th>\n",
       "      <th>V7</th>\n",
       "      <th>V8</th>\n",
       "      <th>V9</th>\n",
       "      <th>V10</th>\n",
       "      <th>...</th>\n",
       "      <th>V21</th>\n",
       "      <th>V22</th>\n",
       "      <th>V23</th>\n",
       "      <th>V24</th>\n",
       "      <th>V25</th>\n",
       "      <th>V26</th>\n",
       "      <th>V27</th>\n",
       "      <th>V28</th>\n",
       "      <th>Amount</th>\n",
       "      <th>Class</th>\n",
       "    </tr>\n",
       "  </thead>\n",
       "  <tbody>\n",
       "    <tr>\n",
       "      <th>0</th>\n",
       "      <td>-1.359807</td>\n",
       "      <td>-0.072781</td>\n",
       "      <td>2.536347</td>\n",
       "      <td>1.378155</td>\n",
       "      <td>-0.338321</td>\n",
       "      <td>0.462388</td>\n",
       "      <td>0.239599</td>\n",
       "      <td>0.098698</td>\n",
       "      <td>0.363787</td>\n",
       "      <td>0.090794</td>\n",
       "      <td>...</td>\n",
       "      <td>-0.018307</td>\n",
       "      <td>0.277838</td>\n",
       "      <td>-0.110474</td>\n",
       "      <td>0.066928</td>\n",
       "      <td>0.128539</td>\n",
       "      <td>-0.189115</td>\n",
       "      <td>0.133558</td>\n",
       "      <td>-0.021053</td>\n",
       "      <td>149.62</td>\n",
       "      <td>0</td>\n",
       "    </tr>\n",
       "    <tr>\n",
       "      <th>1</th>\n",
       "      <td>1.191857</td>\n",
       "      <td>0.266151</td>\n",
       "      <td>0.166480</td>\n",
       "      <td>0.448154</td>\n",
       "      <td>0.060018</td>\n",
       "      <td>-0.082361</td>\n",
       "      <td>-0.078803</td>\n",
       "      <td>0.085102</td>\n",
       "      <td>-0.255425</td>\n",
       "      <td>-0.166974</td>\n",
       "      <td>...</td>\n",
       "      <td>-0.225775</td>\n",
       "      <td>-0.638672</td>\n",
       "      <td>0.101288</td>\n",
       "      <td>-0.339846</td>\n",
       "      <td>0.167170</td>\n",
       "      <td>0.125895</td>\n",
       "      <td>-0.008983</td>\n",
       "      <td>0.014724</td>\n",
       "      <td>2.69</td>\n",
       "      <td>0</td>\n",
       "    </tr>\n",
       "    <tr>\n",
       "      <th>2</th>\n",
       "      <td>-1.358354</td>\n",
       "      <td>-1.340163</td>\n",
       "      <td>1.773209</td>\n",
       "      <td>0.379780</td>\n",
       "      <td>-0.503198</td>\n",
       "      <td>1.800499</td>\n",
       "      <td>0.791461</td>\n",
       "      <td>0.247676</td>\n",
       "      <td>-1.514654</td>\n",
       "      <td>0.207643</td>\n",
       "      <td>...</td>\n",
       "      <td>0.247998</td>\n",
       "      <td>0.771679</td>\n",
       "      <td>0.909412</td>\n",
       "      <td>-0.689281</td>\n",
       "      <td>-0.327642</td>\n",
       "      <td>-0.139097</td>\n",
       "      <td>-0.055353</td>\n",
       "      <td>-0.059752</td>\n",
       "      <td>378.66</td>\n",
       "      <td>0</td>\n",
       "    </tr>\n",
       "    <tr>\n",
       "      <th>3</th>\n",
       "      <td>-0.966272</td>\n",
       "      <td>-0.185226</td>\n",
       "      <td>1.792993</td>\n",
       "      <td>-0.863291</td>\n",
       "      <td>-0.010309</td>\n",
       "      <td>1.247203</td>\n",
       "      <td>0.237609</td>\n",
       "      <td>0.377436</td>\n",
       "      <td>-1.387024</td>\n",
       "      <td>-0.054952</td>\n",
       "      <td>...</td>\n",
       "      <td>-0.108300</td>\n",
       "      <td>0.005274</td>\n",
       "      <td>-0.190321</td>\n",
       "      <td>-1.175575</td>\n",
       "      <td>0.647376</td>\n",
       "      <td>-0.221929</td>\n",
       "      <td>0.062723</td>\n",
       "      <td>0.061458</td>\n",
       "      <td>123.50</td>\n",
       "      <td>0</td>\n",
       "    </tr>\n",
       "    <tr>\n",
       "      <th>4</th>\n",
       "      <td>-1.158233</td>\n",
       "      <td>0.877737</td>\n",
       "      <td>1.548718</td>\n",
       "      <td>0.403034</td>\n",
       "      <td>-0.407193</td>\n",
       "      <td>0.095921</td>\n",
       "      <td>0.592941</td>\n",
       "      <td>-0.270533</td>\n",
       "      <td>0.817739</td>\n",
       "      <td>0.753074</td>\n",
       "      <td>...</td>\n",
       "      <td>-0.009431</td>\n",
       "      <td>0.798278</td>\n",
       "      <td>-0.137458</td>\n",
       "      <td>0.141267</td>\n",
       "      <td>-0.206010</td>\n",
       "      <td>0.502292</td>\n",
       "      <td>0.219422</td>\n",
       "      <td>0.215153</td>\n",
       "      <td>69.99</td>\n",
       "      <td>0</td>\n",
       "    </tr>\n",
       "  </tbody>\n",
       "</table>\n",
       "<p>5 rows × 30 columns</p>\n",
       "</div>"
      ],
      "text/plain": [
       "         V1        V2        V3        V4        V5        V6        V7  \\\n",
       "0 -1.359807 -0.072781  2.536347  1.378155 -0.338321  0.462388  0.239599   \n",
       "1  1.191857  0.266151  0.166480  0.448154  0.060018 -0.082361 -0.078803   \n",
       "2 -1.358354 -1.340163  1.773209  0.379780 -0.503198  1.800499  0.791461   \n",
       "3 -0.966272 -0.185226  1.792993 -0.863291 -0.010309  1.247203  0.237609   \n",
       "4 -1.158233  0.877737  1.548718  0.403034 -0.407193  0.095921  0.592941   \n",
       "\n",
       "         V8        V9       V10  ...         V21       V22       V23  \\\n",
       "0  0.098698  0.363787  0.090794  ...   -0.018307  0.277838 -0.110474   \n",
       "1  0.085102 -0.255425 -0.166974  ...   -0.225775 -0.638672  0.101288   \n",
       "2  0.247676 -1.514654  0.207643  ...    0.247998  0.771679  0.909412   \n",
       "3  0.377436 -1.387024 -0.054952  ...   -0.108300  0.005274 -0.190321   \n",
       "4 -0.270533  0.817739  0.753074  ...   -0.009431  0.798278 -0.137458   \n",
       "\n",
       "        V24       V25       V26       V27       V28  Amount  Class  \n",
       "0  0.066928  0.128539 -0.189115  0.133558 -0.021053  149.62      0  \n",
       "1 -0.339846  0.167170  0.125895 -0.008983  0.014724    2.69      0  \n",
       "2 -0.689281 -0.327642 -0.139097 -0.055353 -0.059752  378.66      0  \n",
       "3 -1.175575  0.647376 -0.221929  0.062723  0.061458  123.50      0  \n",
       "4  0.141267 -0.206010  0.502292  0.219422  0.215153   69.99      0  \n",
       "\n",
       "[5 rows x 30 columns]"
      ]
     },
     "execution_count": 21,
     "metadata": {},
     "output_type": "execute_result"
    }
   ],
   "source": [
    "#data.iloc[:,:-1].head()\n",
    "data.head()"
   ]
  },
  {
   "cell_type": "markdown",
   "metadata": {},
   "source": [
    "Training our Autoencoder is gonna be a bit different from what we are used to. Let's say you have a dataset containing a lot of non fraudulent transactions at hand. You want to detect any anomaly on new transactions. We will create this situation by training our model on the normal transactions, only. Reserving the correct class on the test set will give us a way to evaluate the performance of our model. We will reserve 70% on train, 20% of our data for validation & 10% of our data for testing.\n",
    "Note: Train set should have only normal scenario and both test/validation set will have mix."
   ]
  },
  {
   "cell_type": "code",
   "execution_count": 22,
   "metadata": {},
   "outputs": [
    {
     "data": {
      "text/html": [
       "<div>\n",
       "<style scoped>\n",
       "    .dataframe tbody tr th:only-of-type {\n",
       "        vertical-align: middle;\n",
       "    }\n",
       "\n",
       "    .dataframe tbody tr th {\n",
       "        vertical-align: top;\n",
       "    }\n",
       "\n",
       "    .dataframe thead th {\n",
       "        text-align: right;\n",
       "    }\n",
       "</style>\n",
       "<table border=\"1\" class=\"dataframe\">\n",
       "  <thead>\n",
       "    <tr style=\"text-align: right;\">\n",
       "      <th></th>\n",
       "      <th>V1</th>\n",
       "      <th>V2</th>\n",
       "      <th>V3</th>\n",
       "      <th>V4</th>\n",
       "      <th>V5</th>\n",
       "      <th>V6</th>\n",
       "      <th>V7</th>\n",
       "      <th>V8</th>\n",
       "      <th>V9</th>\n",
       "      <th>V10</th>\n",
       "      <th>...</th>\n",
       "      <th>V20</th>\n",
       "      <th>V21</th>\n",
       "      <th>V22</th>\n",
       "      <th>V23</th>\n",
       "      <th>V24</th>\n",
       "      <th>V25</th>\n",
       "      <th>V26</th>\n",
       "      <th>V27</th>\n",
       "      <th>V28</th>\n",
       "      <th>Amount</th>\n",
       "    </tr>\n",
       "  </thead>\n",
       "  <tbody>\n",
       "    <tr>\n",
       "      <th>0</th>\n",
       "      <td>-1.359807</td>\n",
       "      <td>-0.072781</td>\n",
       "      <td>2.536347</td>\n",
       "      <td>1.378155</td>\n",
       "      <td>-0.338321</td>\n",
       "      <td>0.462388</td>\n",
       "      <td>0.239599</td>\n",
       "      <td>0.098698</td>\n",
       "      <td>0.363787</td>\n",
       "      <td>0.090794</td>\n",
       "      <td>...</td>\n",
       "      <td>0.251412</td>\n",
       "      <td>-0.018307</td>\n",
       "      <td>0.277838</td>\n",
       "      <td>-0.110474</td>\n",
       "      <td>0.066928</td>\n",
       "      <td>0.128539</td>\n",
       "      <td>-0.189115</td>\n",
       "      <td>0.133558</td>\n",
       "      <td>-0.021053</td>\n",
       "      <td>149.62</td>\n",
       "    </tr>\n",
       "    <tr>\n",
       "      <th>1</th>\n",
       "      <td>1.191857</td>\n",
       "      <td>0.266151</td>\n",
       "      <td>0.166480</td>\n",
       "      <td>0.448154</td>\n",
       "      <td>0.060018</td>\n",
       "      <td>-0.082361</td>\n",
       "      <td>-0.078803</td>\n",
       "      <td>0.085102</td>\n",
       "      <td>-0.255425</td>\n",
       "      <td>-0.166974</td>\n",
       "      <td>...</td>\n",
       "      <td>-0.069083</td>\n",
       "      <td>-0.225775</td>\n",
       "      <td>-0.638672</td>\n",
       "      <td>0.101288</td>\n",
       "      <td>-0.339846</td>\n",
       "      <td>0.167170</td>\n",
       "      <td>0.125895</td>\n",
       "      <td>-0.008983</td>\n",
       "      <td>0.014724</td>\n",
       "      <td>2.69</td>\n",
       "    </tr>\n",
       "    <tr>\n",
       "      <th>2</th>\n",
       "      <td>-1.358354</td>\n",
       "      <td>-1.340163</td>\n",
       "      <td>1.773209</td>\n",
       "      <td>0.379780</td>\n",
       "      <td>-0.503198</td>\n",
       "      <td>1.800499</td>\n",
       "      <td>0.791461</td>\n",
       "      <td>0.247676</td>\n",
       "      <td>-1.514654</td>\n",
       "      <td>0.207643</td>\n",
       "      <td>...</td>\n",
       "      <td>0.524980</td>\n",
       "      <td>0.247998</td>\n",
       "      <td>0.771679</td>\n",
       "      <td>0.909412</td>\n",
       "      <td>-0.689281</td>\n",
       "      <td>-0.327642</td>\n",
       "      <td>-0.139097</td>\n",
       "      <td>-0.055353</td>\n",
       "      <td>-0.059752</td>\n",
       "      <td>378.66</td>\n",
       "    </tr>\n",
       "    <tr>\n",
       "      <th>3</th>\n",
       "      <td>-0.966272</td>\n",
       "      <td>-0.185226</td>\n",
       "      <td>1.792993</td>\n",
       "      <td>-0.863291</td>\n",
       "      <td>-0.010309</td>\n",
       "      <td>1.247203</td>\n",
       "      <td>0.237609</td>\n",
       "      <td>0.377436</td>\n",
       "      <td>-1.387024</td>\n",
       "      <td>-0.054952</td>\n",
       "      <td>...</td>\n",
       "      <td>-0.208038</td>\n",
       "      <td>-0.108300</td>\n",
       "      <td>0.005274</td>\n",
       "      <td>-0.190321</td>\n",
       "      <td>-1.175575</td>\n",
       "      <td>0.647376</td>\n",
       "      <td>-0.221929</td>\n",
       "      <td>0.062723</td>\n",
       "      <td>0.061458</td>\n",
       "      <td>123.50</td>\n",
       "    </tr>\n",
       "    <tr>\n",
       "      <th>4</th>\n",
       "      <td>-1.158233</td>\n",
       "      <td>0.877737</td>\n",
       "      <td>1.548718</td>\n",
       "      <td>0.403034</td>\n",
       "      <td>-0.407193</td>\n",
       "      <td>0.095921</td>\n",
       "      <td>0.592941</td>\n",
       "      <td>-0.270533</td>\n",
       "      <td>0.817739</td>\n",
       "      <td>0.753074</td>\n",
       "      <td>...</td>\n",
       "      <td>0.408542</td>\n",
       "      <td>-0.009431</td>\n",
       "      <td>0.798278</td>\n",
       "      <td>-0.137458</td>\n",
       "      <td>0.141267</td>\n",
       "      <td>-0.206010</td>\n",
       "      <td>0.502292</td>\n",
       "      <td>0.219422</td>\n",
       "      <td>0.215153</td>\n",
       "      <td>69.99</td>\n",
       "    </tr>\n",
       "  </tbody>\n",
       "</table>\n",
       "<p>5 rows × 29 columns</p>\n",
       "</div>"
      ],
      "text/plain": [
       "         V1        V2        V3        V4        V5        V6        V7  \\\n",
       "0 -1.359807 -0.072781  2.536347  1.378155 -0.338321  0.462388  0.239599   \n",
       "1  1.191857  0.266151  0.166480  0.448154  0.060018 -0.082361 -0.078803   \n",
       "2 -1.358354 -1.340163  1.773209  0.379780 -0.503198  1.800499  0.791461   \n",
       "3 -0.966272 -0.185226  1.792993 -0.863291 -0.010309  1.247203  0.237609   \n",
       "4 -1.158233  0.877737  1.548718  0.403034 -0.407193  0.095921  0.592941   \n",
       "\n",
       "         V8        V9       V10   ...         V20       V21       V22  \\\n",
       "0  0.098698  0.363787  0.090794   ...    0.251412 -0.018307  0.277838   \n",
       "1  0.085102 -0.255425 -0.166974   ...   -0.069083 -0.225775 -0.638672   \n",
       "2  0.247676 -1.514654  0.207643   ...    0.524980  0.247998  0.771679   \n",
       "3  0.377436 -1.387024 -0.054952   ...   -0.208038 -0.108300  0.005274   \n",
       "4 -0.270533  0.817739  0.753074   ...    0.408542 -0.009431  0.798278   \n",
       "\n",
       "        V23       V24       V25       V26       V27       V28  Amount  \n",
       "0 -0.110474  0.066928  0.128539 -0.189115  0.133558 -0.021053  149.62  \n",
       "1  0.101288 -0.339846  0.167170  0.125895 -0.008983  0.014724    2.69  \n",
       "2  0.909412 -0.689281 -0.327642 -0.139097 -0.055353 -0.059752  378.66  \n",
       "3 -0.190321 -1.175575  0.647376 -0.221929  0.062723  0.061458  123.50  \n",
       "4 -0.137458  0.141267 -0.206010  0.502292  0.219422  0.215153   69.99  \n",
       "\n",
       "[5 rows x 29 columns]"
      ]
     },
     "execution_count": 22,
     "metadata": {},
     "output_type": "execute_result"
    }
   ],
   "source": [
    "normal.iloc[:,1:-1].head()"
   ]
  },
  {
   "cell_type": "code",
   "execution_count": 23,
   "metadata": {},
   "outputs": [],
   "source": [
    "# Here is the first stratified shuffle split is done only for normal cases\n",
    "X = normal.iloc[:,1:-1]\n",
    "Y = normal['Class']\n",
    "\n",
    "# have used 50 splits and test data proportion equal to 0.3\n",
    "sss= StratifiedShuffleSplit(n_splits=50, test_size=0.3, random_state=42)\n",
    "\n",
    "# equating the index of all the shuffled index to the data.\n",
    "for train_index, test_index in sss.split(X, Y):                           \n",
    "        X_train, X_test = X.iloc[train_index], X.iloc[test_index]            \n",
    "        y_train, y_test = Y.iloc[train_index], Y.iloc[test_index]"
   ]
  },
  {
   "cell_type": "code",
   "execution_count": 30,
   "metadata": {},
   "outputs": [
    {
     "name": "stdout",
     "output_type": "stream",
     "text": [
      "train Shape:  (199020, 29) (199020,)\n",
      "test Shape:  (85295, 29) (85295,)\n"
     ]
    }
   ],
   "source": [
    "print ('train Shape: ', X_train.shape, y_train.shape)\n",
    "print ('test Shape: ', X_test.shape, y_test.shape)"
   ]
  },
  {
   "cell_type": "code",
   "execution_count": 31,
   "metadata": {},
   "outputs": [
    {
     "name": "stdout",
     "output_type": "stream",
     "text": [
      "0    199020\n",
      "Name: Class, dtype: int64\n",
      "0    85295\n",
      "Name: Class, dtype: int64\n"
     ]
    }
   ],
   "source": [
    "print (y_train.value_counts())\n",
    "print (y_test.value_counts())"
   ]
  },
  {
   "cell_type": "code",
   "execution_count": 32,
   "metadata": {},
   "outputs": [
    {
     "data": {
      "text/plain": [
       "(85295, 30)"
      ]
     },
     "execution_count": 32,
     "metadata": {},
     "output_type": "execute_result"
    }
   ],
   "source": [
    "test_df = pd.concat([X_test, y_test], axis=1)\n",
    "test_df.shape"
   ]
  },
  {
   "cell_type": "code",
   "execution_count": 33,
   "metadata": {},
   "outputs": [
    {
     "data": {
      "text/html": [
       "<div>\n",
       "<style scoped>\n",
       "    .dataframe tbody tr th:only-of-type {\n",
       "        vertical-align: middle;\n",
       "    }\n",
       "\n",
       "    .dataframe tbody tr th {\n",
       "        vertical-align: top;\n",
       "    }\n",
       "\n",
       "    .dataframe thead th {\n",
       "        text-align: right;\n",
       "    }\n",
       "</style>\n",
       "<table border=\"1\" class=\"dataframe\">\n",
       "  <thead>\n",
       "    <tr style=\"text-align: right;\">\n",
       "      <th></th>\n",
       "      <th>V1</th>\n",
       "      <th>V2</th>\n",
       "      <th>V3</th>\n",
       "      <th>V4</th>\n",
       "      <th>V5</th>\n",
       "      <th>V6</th>\n",
       "      <th>V7</th>\n",
       "      <th>V8</th>\n",
       "      <th>V9</th>\n",
       "      <th>V10</th>\n",
       "      <th>...</th>\n",
       "      <th>V21</th>\n",
       "      <th>V22</th>\n",
       "      <th>V23</th>\n",
       "      <th>V24</th>\n",
       "      <th>V25</th>\n",
       "      <th>V26</th>\n",
       "      <th>V27</th>\n",
       "      <th>V28</th>\n",
       "      <th>Amount</th>\n",
       "      <th>Class</th>\n",
       "    </tr>\n",
       "  </thead>\n",
       "  <tbody>\n",
       "    <tr>\n",
       "      <th>167286</th>\n",
       "      <td>-0.105210</td>\n",
       "      <td>-0.483242</td>\n",
       "      <td>0.830073</td>\n",
       "      <td>-1.400807</td>\n",
       "      <td>0.051385</td>\n",
       "      <td>0.190518</td>\n",
       "      <td>-0.488755</td>\n",
       "      <td>0.166273</td>\n",
       "      <td>-0.984531</td>\n",
       "      <td>0.475997</td>\n",
       "      <td>...</td>\n",
       "      <td>0.454641</td>\n",
       "      <td>1.223328</td>\n",
       "      <td>-0.181082</td>\n",
       "      <td>-0.993951</td>\n",
       "      <td>-0.524094</td>\n",
       "      <td>0.053178</td>\n",
       "      <td>0.197028</td>\n",
       "      <td>0.182134</td>\n",
       "      <td>29.95</td>\n",
       "      <td>0</td>\n",
       "    </tr>\n",
       "    <tr>\n",
       "      <th>95347</th>\n",
       "      <td>1.375417</td>\n",
       "      <td>-0.504471</td>\n",
       "      <td>0.048443</td>\n",
       "      <td>-0.811787</td>\n",
       "      <td>-0.451758</td>\n",
       "      <td>-0.068686</td>\n",
       "      <td>-0.452685</td>\n",
       "      <td>-0.105220</td>\n",
       "      <td>-0.934028</td>\n",
       "      <td>0.593751</td>\n",
       "      <td>...</td>\n",
       "      <td>-0.458449</td>\n",
       "      <td>-0.791131</td>\n",
       "      <td>0.011987</td>\n",
       "      <td>-0.722804</td>\n",
       "      <td>0.209786</td>\n",
       "      <td>1.025875</td>\n",
       "      <td>-0.036452</td>\n",
       "      <td>0.003206</td>\n",
       "      <td>25.00</td>\n",
       "      <td>0</td>\n",
       "    </tr>\n",
       "    <tr>\n",
       "      <th>74227</th>\n",
       "      <td>1.171766</td>\n",
       "      <td>0.217656</td>\n",
       "      <td>0.286836</td>\n",
       "      <td>0.531626</td>\n",
       "      <td>-0.174463</td>\n",
       "      <td>-0.290057</td>\n",
       "      <td>-0.133185</td>\n",
       "      <td>0.114071</td>\n",
       "      <td>-0.145972</td>\n",
       "      <td>-0.141093</td>\n",
       "      <td>...</td>\n",
       "      <td>-0.215446</td>\n",
       "      <td>-0.648912</td>\n",
       "      <td>0.153556</td>\n",
       "      <td>-0.037600</td>\n",
       "      <td>0.094976</td>\n",
       "      <td>0.108805</td>\n",
       "      <td>-0.013896</td>\n",
       "      <td>0.015847</td>\n",
       "      <td>0.89</td>\n",
       "      <td>0</td>\n",
       "    </tr>\n",
       "    <tr>\n",
       "      <th>21831</th>\n",
       "      <td>1.573687</td>\n",
       "      <td>-0.785620</td>\n",
       "      <td>-0.472922</td>\n",
       "      <td>-1.651561</td>\n",
       "      <td>-0.582825</td>\n",
       "      <td>-0.538137</td>\n",
       "      <td>-0.494722</td>\n",
       "      <td>-0.281909</td>\n",
       "      <td>-2.553430</td>\n",
       "      <td>1.636839</td>\n",
       "      <td>...</td>\n",
       "      <td>-0.162638</td>\n",
       "      <td>-0.050546</td>\n",
       "      <td>-0.209548</td>\n",
       "      <td>-0.471439</td>\n",
       "      <td>0.794712</td>\n",
       "      <td>-0.052618</td>\n",
       "      <td>-0.001636</td>\n",
       "      <td>-0.009654</td>\n",
       "      <td>15.00</td>\n",
       "      <td>0</td>\n",
       "    </tr>\n",
       "    <tr>\n",
       "      <th>123314</th>\n",
       "      <td>-1.724587</td>\n",
       "      <td>1.399711</td>\n",
       "      <td>0.175707</td>\n",
       "      <td>-3.191104</td>\n",
       "      <td>3.350023</td>\n",
       "      <td>3.246076</td>\n",
       "      <td>1.858142</td>\n",
       "      <td>-1.277831</td>\n",
       "      <td>2.893990</td>\n",
       "      <td>4.150702</td>\n",
       "      <td>...</td>\n",
       "      <td>-0.690779</td>\n",
       "      <td>-0.323501</td>\n",
       "      <td>-0.353351</td>\n",
       "      <td>1.009040</td>\n",
       "      <td>-0.096412</td>\n",
       "      <td>0.406792</td>\n",
       "      <td>-2.076350</td>\n",
       "      <td>-2.085605</td>\n",
       "      <td>0.68</td>\n",
       "      <td>0</td>\n",
       "    </tr>\n",
       "  </tbody>\n",
       "</table>\n",
       "<p>5 rows × 30 columns</p>\n",
       "</div>"
      ],
      "text/plain": [
       "              V1        V2        V3        V4        V5        V6        V7  \\\n",
       "167286 -0.105210 -0.483242  0.830073 -1.400807  0.051385  0.190518 -0.488755   \n",
       "95347   1.375417 -0.504471  0.048443 -0.811787 -0.451758 -0.068686 -0.452685   \n",
       "74227   1.171766  0.217656  0.286836  0.531626 -0.174463 -0.290057 -0.133185   \n",
       "21831   1.573687 -0.785620 -0.472922 -1.651561 -0.582825 -0.538137 -0.494722   \n",
       "123314 -1.724587  1.399711  0.175707 -3.191104  3.350023  3.246076  1.858142   \n",
       "\n",
       "              V8        V9       V10  ...         V21       V22       V23  \\\n",
       "167286  0.166273 -0.984531  0.475997  ...    0.454641  1.223328 -0.181082   \n",
       "95347  -0.105220 -0.934028  0.593751  ...   -0.458449 -0.791131  0.011987   \n",
       "74227   0.114071 -0.145972 -0.141093  ...   -0.215446 -0.648912  0.153556   \n",
       "21831  -0.281909 -2.553430  1.636839  ...   -0.162638 -0.050546 -0.209548   \n",
       "123314 -1.277831  2.893990  4.150702  ...   -0.690779 -0.323501 -0.353351   \n",
       "\n",
       "             V24       V25       V26       V27       V28  Amount  Class  \n",
       "167286 -0.993951 -0.524094  0.053178  0.197028  0.182134   29.95      0  \n",
       "95347  -0.722804  0.209786  1.025875 -0.036452  0.003206   25.00      0  \n",
       "74227  -0.037600  0.094976  0.108805 -0.013896  0.015847    0.89      0  \n",
       "21831  -0.471439  0.794712 -0.052618 -0.001636 -0.009654   15.00      0  \n",
       "123314  1.009040 -0.096412  0.406792 -2.076350 -2.085605    0.68      0  \n",
       "\n",
       "[5 rows x 30 columns]"
      ]
     },
     "execution_count": 33,
     "metadata": {},
     "output_type": "execute_result"
    }
   ],
   "source": [
    "test_df.head()"
   ]
  },
  {
   "cell_type": "code",
   "execution_count": 34,
   "metadata": {},
   "outputs": [
    {
     "data": {
      "text/html": [
       "<div>\n",
       "<style scoped>\n",
       "    .dataframe tbody tr th:only-of-type {\n",
       "        vertical-align: middle;\n",
       "    }\n",
       "\n",
       "    .dataframe tbody tr th {\n",
       "        vertical-align: top;\n",
       "    }\n",
       "\n",
       "    .dataframe thead th {\n",
       "        text-align: right;\n",
       "    }\n",
       "</style>\n",
       "<table border=\"1\" class=\"dataframe\">\n",
       "  <thead>\n",
       "    <tr style=\"text-align: right;\">\n",
       "      <th></th>\n",
       "      <th>V1</th>\n",
       "      <th>V2</th>\n",
       "      <th>V3</th>\n",
       "      <th>V4</th>\n",
       "      <th>V5</th>\n",
       "      <th>V6</th>\n",
       "      <th>V7</th>\n",
       "      <th>V8</th>\n",
       "      <th>V9</th>\n",
       "      <th>V10</th>\n",
       "      <th>...</th>\n",
       "      <th>V21</th>\n",
       "      <th>V22</th>\n",
       "      <th>V23</th>\n",
       "      <th>V24</th>\n",
       "      <th>V25</th>\n",
       "      <th>V26</th>\n",
       "      <th>V27</th>\n",
       "      <th>V28</th>\n",
       "      <th>Amount</th>\n",
       "      <th>Class</th>\n",
       "    </tr>\n",
       "  </thead>\n",
       "  <tbody>\n",
       "    <tr>\n",
       "      <th>541</th>\n",
       "      <td>-2.312227</td>\n",
       "      <td>1.951992</td>\n",
       "      <td>-1.609851</td>\n",
       "      <td>3.997906</td>\n",
       "      <td>-0.522188</td>\n",
       "      <td>-1.426545</td>\n",
       "      <td>-2.537387</td>\n",
       "      <td>1.391657</td>\n",
       "      <td>-2.770089</td>\n",
       "      <td>-2.772272</td>\n",
       "      <td>...</td>\n",
       "      <td>0.517232</td>\n",
       "      <td>-0.035049</td>\n",
       "      <td>-0.465211</td>\n",
       "      <td>0.320198</td>\n",
       "      <td>0.044519</td>\n",
       "      <td>0.177840</td>\n",
       "      <td>0.261145</td>\n",
       "      <td>-0.143276</td>\n",
       "      <td>0.00</td>\n",
       "      <td>1</td>\n",
       "    </tr>\n",
       "    <tr>\n",
       "      <th>623</th>\n",
       "      <td>-3.043541</td>\n",
       "      <td>-3.157307</td>\n",
       "      <td>1.088463</td>\n",
       "      <td>2.288644</td>\n",
       "      <td>1.359805</td>\n",
       "      <td>-1.064823</td>\n",
       "      <td>0.325574</td>\n",
       "      <td>-0.067794</td>\n",
       "      <td>-0.270953</td>\n",
       "      <td>-0.838587</td>\n",
       "      <td>...</td>\n",
       "      <td>0.661696</td>\n",
       "      <td>0.435477</td>\n",
       "      <td>1.375966</td>\n",
       "      <td>-0.293803</td>\n",
       "      <td>0.279798</td>\n",
       "      <td>-0.145362</td>\n",
       "      <td>-0.252773</td>\n",
       "      <td>0.035764</td>\n",
       "      <td>529.00</td>\n",
       "      <td>1</td>\n",
       "    </tr>\n",
       "    <tr>\n",
       "      <th>4920</th>\n",
       "      <td>-2.303350</td>\n",
       "      <td>1.759247</td>\n",
       "      <td>-0.359745</td>\n",
       "      <td>2.330243</td>\n",
       "      <td>-0.821628</td>\n",
       "      <td>-0.075788</td>\n",
       "      <td>0.562320</td>\n",
       "      <td>-0.399147</td>\n",
       "      <td>-0.238253</td>\n",
       "      <td>-1.525412</td>\n",
       "      <td>...</td>\n",
       "      <td>-0.294166</td>\n",
       "      <td>-0.932391</td>\n",
       "      <td>0.172726</td>\n",
       "      <td>-0.087330</td>\n",
       "      <td>-0.156114</td>\n",
       "      <td>-0.542628</td>\n",
       "      <td>0.039566</td>\n",
       "      <td>-0.153029</td>\n",
       "      <td>239.93</td>\n",
       "      <td>1</td>\n",
       "    </tr>\n",
       "    <tr>\n",
       "      <th>6108</th>\n",
       "      <td>-4.397974</td>\n",
       "      <td>1.358367</td>\n",
       "      <td>-2.592844</td>\n",
       "      <td>2.679787</td>\n",
       "      <td>-1.128131</td>\n",
       "      <td>-1.706536</td>\n",
       "      <td>-3.496197</td>\n",
       "      <td>-0.248778</td>\n",
       "      <td>-0.247768</td>\n",
       "      <td>-4.801637</td>\n",
       "      <td>...</td>\n",
       "      <td>0.573574</td>\n",
       "      <td>0.176968</td>\n",
       "      <td>-0.436207</td>\n",
       "      <td>-0.053502</td>\n",
       "      <td>0.252405</td>\n",
       "      <td>-0.657488</td>\n",
       "      <td>-0.827136</td>\n",
       "      <td>0.849573</td>\n",
       "      <td>59.00</td>\n",
       "      <td>1</td>\n",
       "    </tr>\n",
       "    <tr>\n",
       "      <th>6329</th>\n",
       "      <td>1.234235</td>\n",
       "      <td>3.019740</td>\n",
       "      <td>-4.304597</td>\n",
       "      <td>4.732795</td>\n",
       "      <td>3.624201</td>\n",
       "      <td>-1.357746</td>\n",
       "      <td>1.713445</td>\n",
       "      <td>-0.496358</td>\n",
       "      <td>-1.282858</td>\n",
       "      <td>-2.447469</td>\n",
       "      <td>...</td>\n",
       "      <td>-0.379068</td>\n",
       "      <td>-0.704181</td>\n",
       "      <td>-0.656805</td>\n",
       "      <td>-1.632653</td>\n",
       "      <td>1.488901</td>\n",
       "      <td>0.566797</td>\n",
       "      <td>-0.010016</td>\n",
       "      <td>0.146793</td>\n",
       "      <td>1.00</td>\n",
       "      <td>1</td>\n",
       "    </tr>\n",
       "  </tbody>\n",
       "</table>\n",
       "<p>5 rows × 30 columns</p>\n",
       "</div>"
      ],
      "text/plain": [
       "            V1        V2        V3        V4        V5        V6        V7  \\\n",
       "541  -2.312227  1.951992 -1.609851  3.997906 -0.522188 -1.426545 -2.537387   \n",
       "623  -3.043541 -3.157307  1.088463  2.288644  1.359805 -1.064823  0.325574   \n",
       "4920 -2.303350  1.759247 -0.359745  2.330243 -0.821628 -0.075788  0.562320   \n",
       "6108 -4.397974  1.358367 -2.592844  2.679787 -1.128131 -1.706536 -3.496197   \n",
       "6329  1.234235  3.019740 -4.304597  4.732795  3.624201 -1.357746  1.713445   \n",
       "\n",
       "            V8        V9       V10  ...         V21       V22       V23  \\\n",
       "541   1.391657 -2.770089 -2.772272  ...    0.517232 -0.035049 -0.465211   \n",
       "623  -0.067794 -0.270953 -0.838587  ...    0.661696  0.435477  1.375966   \n",
       "4920 -0.399147 -0.238253 -1.525412  ...   -0.294166 -0.932391  0.172726   \n",
       "6108 -0.248778 -0.247768 -4.801637  ...    0.573574  0.176968 -0.436207   \n",
       "6329 -0.496358 -1.282858 -2.447469  ...   -0.379068 -0.704181 -0.656805   \n",
       "\n",
       "           V24       V25       V26       V27       V28  Amount  Class  \n",
       "541   0.320198  0.044519  0.177840  0.261145 -0.143276    0.00      1  \n",
       "623  -0.293803  0.279798 -0.145362 -0.252773  0.035764  529.00      1  \n",
       "4920 -0.087330 -0.156114 -0.542628  0.039566 -0.153029  239.93      1  \n",
       "6108 -0.053502  0.252405 -0.657488 -0.827136  0.849573   59.00      1  \n",
       "6329 -1.632653  1.488901  0.566797 -0.010016  0.146793    1.00      1  \n",
       "\n",
       "[5 rows x 30 columns]"
      ]
     },
     "execution_count": 34,
     "metadata": {},
     "output_type": "execute_result"
    }
   ],
   "source": [
    "frauds_d = frauds.drop(['Time'], axis=1)\n",
    "frauds_d.head()"
   ]
  },
  {
   "cell_type": "code",
   "execution_count": 35,
   "metadata": {},
   "outputs": [
    {
     "data": {
      "text/plain": [
       "(492, 30)"
      ]
     },
     "execution_count": 35,
     "metadata": {},
     "output_type": "execute_result"
    }
   ],
   "source": [
    "frauds_d.shape"
   ]
  },
  {
   "cell_type": "code",
   "execution_count": 36,
   "metadata": {},
   "outputs": [
    {
     "data": {
      "text/html": [
       "<div>\n",
       "<style scoped>\n",
       "    .dataframe tbody tr th:only-of-type {\n",
       "        vertical-align: middle;\n",
       "    }\n",
       "\n",
       "    .dataframe tbody tr th {\n",
       "        vertical-align: top;\n",
       "    }\n",
       "\n",
       "    .dataframe thead th {\n",
       "        text-align: right;\n",
       "    }\n",
       "</style>\n",
       "<table border=\"1\" class=\"dataframe\">\n",
       "  <thead>\n",
       "    <tr style=\"text-align: right;\">\n",
       "      <th></th>\n",
       "      <th>V1</th>\n",
       "      <th>V2</th>\n",
       "      <th>V3</th>\n",
       "      <th>V4</th>\n",
       "      <th>V5</th>\n",
       "      <th>V6</th>\n",
       "      <th>V7</th>\n",
       "      <th>V8</th>\n",
       "      <th>V9</th>\n",
       "      <th>V10</th>\n",
       "      <th>...</th>\n",
       "      <th>V21</th>\n",
       "      <th>V22</th>\n",
       "      <th>V23</th>\n",
       "      <th>V24</th>\n",
       "      <th>V25</th>\n",
       "      <th>V26</th>\n",
       "      <th>V27</th>\n",
       "      <th>V28</th>\n",
       "      <th>Amount</th>\n",
       "      <th>Class</th>\n",
       "    </tr>\n",
       "  </thead>\n",
       "  <tbody>\n",
       "    <tr>\n",
       "      <th>167286</th>\n",
       "      <td>-0.105210</td>\n",
       "      <td>-0.483242</td>\n",
       "      <td>0.830073</td>\n",
       "      <td>-1.400807</td>\n",
       "      <td>0.051385</td>\n",
       "      <td>0.190518</td>\n",
       "      <td>-0.488755</td>\n",
       "      <td>0.166273</td>\n",
       "      <td>-0.984531</td>\n",
       "      <td>0.475997</td>\n",
       "      <td>...</td>\n",
       "      <td>0.454641</td>\n",
       "      <td>1.223328</td>\n",
       "      <td>-0.181082</td>\n",
       "      <td>-0.993951</td>\n",
       "      <td>-0.524094</td>\n",
       "      <td>0.053178</td>\n",
       "      <td>0.197028</td>\n",
       "      <td>0.182134</td>\n",
       "      <td>29.95</td>\n",
       "      <td>0</td>\n",
       "    </tr>\n",
       "    <tr>\n",
       "      <th>95347</th>\n",
       "      <td>1.375417</td>\n",
       "      <td>-0.504471</td>\n",
       "      <td>0.048443</td>\n",
       "      <td>-0.811787</td>\n",
       "      <td>-0.451758</td>\n",
       "      <td>-0.068686</td>\n",
       "      <td>-0.452685</td>\n",
       "      <td>-0.105220</td>\n",
       "      <td>-0.934028</td>\n",
       "      <td>0.593751</td>\n",
       "      <td>...</td>\n",
       "      <td>-0.458449</td>\n",
       "      <td>-0.791131</td>\n",
       "      <td>0.011987</td>\n",
       "      <td>-0.722804</td>\n",
       "      <td>0.209786</td>\n",
       "      <td>1.025875</td>\n",
       "      <td>-0.036452</td>\n",
       "      <td>0.003206</td>\n",
       "      <td>25.00</td>\n",
       "      <td>0</td>\n",
       "    </tr>\n",
       "    <tr>\n",
       "      <th>74227</th>\n",
       "      <td>1.171766</td>\n",
       "      <td>0.217656</td>\n",
       "      <td>0.286836</td>\n",
       "      <td>0.531626</td>\n",
       "      <td>-0.174463</td>\n",
       "      <td>-0.290057</td>\n",
       "      <td>-0.133185</td>\n",
       "      <td>0.114071</td>\n",
       "      <td>-0.145972</td>\n",
       "      <td>-0.141093</td>\n",
       "      <td>...</td>\n",
       "      <td>-0.215446</td>\n",
       "      <td>-0.648912</td>\n",
       "      <td>0.153556</td>\n",
       "      <td>-0.037600</td>\n",
       "      <td>0.094976</td>\n",
       "      <td>0.108805</td>\n",
       "      <td>-0.013896</td>\n",
       "      <td>0.015847</td>\n",
       "      <td>0.89</td>\n",
       "      <td>0</td>\n",
       "    </tr>\n",
       "    <tr>\n",
       "      <th>21831</th>\n",
       "      <td>1.573687</td>\n",
       "      <td>-0.785620</td>\n",
       "      <td>-0.472922</td>\n",
       "      <td>-1.651561</td>\n",
       "      <td>-0.582825</td>\n",
       "      <td>-0.538137</td>\n",
       "      <td>-0.494722</td>\n",
       "      <td>-0.281909</td>\n",
       "      <td>-2.553430</td>\n",
       "      <td>1.636839</td>\n",
       "      <td>...</td>\n",
       "      <td>-0.162638</td>\n",
       "      <td>-0.050546</td>\n",
       "      <td>-0.209548</td>\n",
       "      <td>-0.471439</td>\n",
       "      <td>0.794712</td>\n",
       "      <td>-0.052618</td>\n",
       "      <td>-0.001636</td>\n",
       "      <td>-0.009654</td>\n",
       "      <td>15.00</td>\n",
       "      <td>0</td>\n",
       "    </tr>\n",
       "    <tr>\n",
       "      <th>123314</th>\n",
       "      <td>-1.724587</td>\n",
       "      <td>1.399711</td>\n",
       "      <td>0.175707</td>\n",
       "      <td>-3.191104</td>\n",
       "      <td>3.350023</td>\n",
       "      <td>3.246076</td>\n",
       "      <td>1.858142</td>\n",
       "      <td>-1.277831</td>\n",
       "      <td>2.893990</td>\n",
       "      <td>4.150702</td>\n",
       "      <td>...</td>\n",
       "      <td>-0.690779</td>\n",
       "      <td>-0.323501</td>\n",
       "      <td>-0.353351</td>\n",
       "      <td>1.009040</td>\n",
       "      <td>-0.096412</td>\n",
       "      <td>0.406792</td>\n",
       "      <td>-2.076350</td>\n",
       "      <td>-2.085605</td>\n",
       "      <td>0.68</td>\n",
       "      <td>0</td>\n",
       "    </tr>\n",
       "  </tbody>\n",
       "</table>\n",
       "<p>5 rows × 30 columns</p>\n",
       "</div>"
      ],
      "text/plain": [
       "              V1        V2        V3        V4        V5        V6        V7  \\\n",
       "167286 -0.105210 -0.483242  0.830073 -1.400807  0.051385  0.190518 -0.488755   \n",
       "95347   1.375417 -0.504471  0.048443 -0.811787 -0.451758 -0.068686 -0.452685   \n",
       "74227   1.171766  0.217656  0.286836  0.531626 -0.174463 -0.290057 -0.133185   \n",
       "21831   1.573687 -0.785620 -0.472922 -1.651561 -0.582825 -0.538137 -0.494722   \n",
       "123314 -1.724587  1.399711  0.175707 -3.191104  3.350023  3.246076  1.858142   \n",
       "\n",
       "              V8        V9       V10  ...         V21       V22       V23  \\\n",
       "167286  0.166273 -0.984531  0.475997  ...    0.454641  1.223328 -0.181082   \n",
       "95347  -0.105220 -0.934028  0.593751  ...   -0.458449 -0.791131  0.011987   \n",
       "74227   0.114071 -0.145972 -0.141093  ...   -0.215446 -0.648912  0.153556   \n",
       "21831  -0.281909 -2.553430  1.636839  ...   -0.162638 -0.050546 -0.209548   \n",
       "123314 -1.277831  2.893990  4.150702  ...   -0.690779 -0.323501 -0.353351   \n",
       "\n",
       "             V24       V25       V26       V27       V28  Amount  Class  \n",
       "167286 -0.993951 -0.524094  0.053178  0.197028  0.182134   29.95      0  \n",
       "95347  -0.722804  0.209786  1.025875 -0.036452  0.003206   25.00      0  \n",
       "74227  -0.037600  0.094976  0.108805 -0.013896  0.015847    0.89      0  \n",
       "21831  -0.471439  0.794712 -0.052618 -0.001636 -0.009654   15.00      0  \n",
       "123314  1.009040 -0.096412  0.406792 -2.076350 -2.085605    0.68      0  \n",
       "\n",
       "[5 rows x 30 columns]"
      ]
     },
     "execution_count": 36,
     "metadata": {},
     "output_type": "execute_result"
    }
   ],
   "source": [
    "comb_df = pd.concat([test_df, frauds_d])\n",
    "comb_df.head()"
   ]
  },
  {
   "cell_type": "code",
   "execution_count": 37,
   "metadata": {},
   "outputs": [
    {
     "data": {
      "text/plain": [
       "(85787, 30)"
      ]
     },
     "execution_count": 37,
     "metadata": {},
     "output_type": "execute_result"
    }
   ],
   "source": [
    "comb_df.shape"
   ]
  },
  {
   "cell_type": "code",
   "execution_count": 38,
   "metadata": {},
   "outputs": [],
   "source": [
    "# Now, Here is the second stratified shuffle split is done only for normal cases        \n",
    "X1 = comb_df.iloc[:,:-1]\n",
    "Y1 = comb_df['Class']\n",
    "\n",
    "sss1= StratifiedShuffleSplit(n_splits=50, test_size=0.2, random_state=42)\n",
    "# equating the index of all the shuffled index to the data.\n",
    "for test_index, val_index in sss1.split(X1, Y1):                           \n",
    "        X_test, X_val = X1.iloc[test_index], X1.iloc[val_index]            \n",
    "        y_test, y_val = Y1.iloc[test_index], Y1.iloc[val_index]"
   ]
  },
  {
   "cell_type": "code",
   "execution_count": 39,
   "metadata": {},
   "outputs": [
    {
     "name": "stdout",
     "output_type": "stream",
     "text": [
      "train Shape:  (199020, 29) (199020,)\n",
      "test Shape:  (68629, 29) (68629,)\n",
      "val Shape:  (17158, 29) (17158,)\n"
     ]
    }
   ],
   "source": [
    "print ('train Shape: ', X_train.shape, y_train.shape)\n",
    "print ('test Shape: ', X_test.shape,  y_test.shape)\n",
    "print ('val Shape: ', X_val.shape, y_val.shape)"
   ]
  },
  {
   "cell_type": "code",
   "execution_count": 40,
   "metadata": {},
   "outputs": [],
   "source": [
    "#Applying Standard Scaler to bring all the train, validation & test input atrributes under single scale\n",
    "#scaler = StandardScaler()\n",
    "scaler = RobustScaler()\n",
    "X_train, X_test, X_val = scaler.fit_transform(X_train), scaler.fit_transform(X_test), scaler.fit_transform(X_val)"
   ]
  },
  {
   "cell_type": "code",
   "execution_count": 41,
   "metadata": {},
   "outputs": [
    {
     "name": "stdout",
     "output_type": "stream",
     "text": [
      "0    199020\n",
      "Name: Class, dtype: int64\n",
      "0    68235\n",
      "1      394\n",
      "Name: Class, dtype: int64\n",
      "0    17060\n",
      "1       98\n",
      "Name: Class, dtype: int64\n"
     ]
    }
   ],
   "source": [
    "print (y_train.value_counts())\n",
    "print (y_test.value_counts())\n",
    "print (y_val.value_counts())"
   ]
  },
  {
   "cell_type": "markdown",
   "metadata": {},
   "source": [
    "# Building the model\n",
    "\n",
    "Our Autoencoder uses 4 fully connected layers with 14, 7, 7 and 29 neurons respectively.  The first two layers are used for our encoder, the last two go for the decoder. Additionally, L1 regularization will be used during training:"
   ]
  },
  {
   "cell_type": "code",
   "execution_count": 42,
   "metadata": {},
   "outputs": [],
   "source": [
    "input_dim = X_train.shape[1]\n",
    "#encoding_dim = int(input_dim/2)\n",
    "encoding_dim = 28"
   ]
  },
  {
   "cell_type": "code",
   "execution_count": 43,
   "metadata": {},
   "outputs": [],
   "source": [
    "input_layer = Input(shape=(input_dim, ))\n",
    "\n",
    "encoder = Dense(encoding_dim, activation=\"tanh\", activity_regularizer=regularizers.l1(10e-5))(input_layer)\n",
    "#encoder = Dense(encoding_dim, activation=\"tanh\")(input_layer)\n",
    "encoder = Dense(int(encoding_dim / 2), activation=\"relu\")(encoder)\n",
    "#encoder = Dropout(0.3)(encoder)\n",
    "decoder = Dense(int(encoding_dim / 2), activation='tanh')(encoder)\n",
    "decoder = Dense(input_dim, activation='relu')(decoder)\n",
    "\n",
    "autoencoder = Model(inputs=input_layer, outputs=decoder)"
   ]
  },
  {
   "cell_type": "markdown",
   "metadata": {},
   "source": [
    "Let's train our model for 100 epochs with a batch size of 32 samples and save the best performing model to a file. The ModelCheckpoint provided by Keras is really handy for such tasks. Additionally,  the training progress will be exported in a format that TensorBoard understands."
   ]
  },
  {
   "cell_type": "code",
   "execution_count": 44,
   "metadata": {},
   "outputs": [
    {
     "name": "stdout",
     "output_type": "stream",
     "text": [
      "Train on 199020 samples, validate on 68629 samples\n",
      "Epoch 1/150\n",
      "199020/199020 [==============================] - 38s 191us/step - loss: 0.5501 - acc: 0.5641 - val_loss: 0.5204 - val_acc: 0.6409\n",
      "Epoch 2/150\n",
      "199020/199020 [==============================] - 38s 190us/step - loss: 0.4902 - acc: 0.6782 - val_loss: 0.4968 - val_acc: 0.6904\n",
      "Epoch 3/150\n",
      "199020/199020 [==============================] - 35s 176us/step - loss: 0.4804 - acc: 0.6967 - val_loss: 0.4926 - val_acc: 0.7000\n",
      "Epoch 4/150\n",
      "199020/199020 [==============================] - 36s 180us/step - loss: 0.4769 - acc: 0.7044 - val_loss: 0.4885 - val_acc: 0.7041\n",
      "Epoch 5/150\n",
      "199020/199020 [==============================] - 38s 189us/step - loss: 0.4747 - acc: 0.7094 - val_loss: 0.4868 - val_acc: 0.7117\n",
      "Epoch 6/150\n",
      "199020/199020 [==============================] - 38s 188us/step - loss: 0.4733 - acc: 0.7114 - val_loss: 0.4876 - val_acc: 0.7048\n",
      "Epoch 7/150\n",
      "199020/199020 [==============================] - 38s 189us/step - loss: 0.4723 - acc: 0.7123 - val_loss: 0.4856 - val_acc: 0.7115\n",
      "Epoch 8/150\n",
      "199020/199020 [==============================] - 38s 192us/step - loss: 0.4714 - acc: 0.7171 - val_loss: 0.4847 - val_acc: 0.7133\n",
      "Epoch 9/150\n",
      "199020/199020 [==============================] - 40s 199us/step - loss: 0.4706 - acc: 0.7190 - val_loss: 0.4830 - val_acc: 0.7134\n",
      "Epoch 10/150\n",
      "199020/199020 [==============================] - 42s 212us/step - loss: 0.4701 - acc: 0.7196 - val_loss: 0.4821 - val_acc: 0.7225\n",
      "Epoch 11/150\n",
      "199020/199020 [==============================] - 39s 197us/step - loss: 0.4696 - acc: 0.7203 - val_loss: 0.4822 - val_acc: 0.7177\n",
      "Epoch 12/150\n",
      "199020/199020 [==============================] - 40s 203us/step - loss: 0.4691 - acc: 0.7209 - val_loss: 0.4829 - val_acc: 0.7131\n",
      "Epoch 13/150\n",
      "199020/199020 [==============================] - 39s 194us/step - loss: 0.4689 - acc: 0.7214 - val_loss: 0.4802 - val_acc: 0.7211\n",
      "Epoch 14/150\n",
      "199020/199020 [==============================] - 40s 201us/step - loss: 0.4685 - acc: 0.7219 - val_loss: 0.4820 - val_acc: 0.7166\n",
      "Epoch 15/150\n",
      "199020/199020 [==============================] - 38s 193us/step - loss: 0.4683 - acc: 0.7226 - val_loss: 0.4798 - val_acc: 0.7262\n",
      "Epoch 16/150\n",
      "199020/199020 [==============================] - 41s 204us/step - loss: 0.4681 - acc: 0.7227 - val_loss: 0.4816 - val_acc: 0.7194\n",
      "Epoch 17/150\n",
      "199020/199020 [==============================] - 39s 197us/step - loss: 0.4678 - acc: 0.7239 - val_loss: 0.4796 - val_acc: 0.7219\n",
      "Epoch 18/150\n",
      "199020/199020 [==============================] - 41s 208us/step - loss: 0.4676 - acc: 0.7240 - val_loss: 0.4781 - val_acc: 0.7219\n",
      "Epoch 19/150\n",
      "199020/199020 [==============================] - 39s 195us/step - loss: 0.4675 - acc: 0.7245 - val_loss: 0.4811 - val_acc: 0.7192\n",
      "Epoch 20/150\n",
      "199020/199020 [==============================] - 43s 218us/step - loss: 0.4673 - acc: 0.7243 - val_loss: 0.4798 - val_acc: 0.7228\n",
      "Epoch 21/150\n",
      "199020/199020 [==============================] - 41s 204us/step - loss: 0.4673 - acc: 0.7243 - val_loss: 0.4805 - val_acc: 0.7155\n",
      "Epoch 22/150\n",
      "199020/199020 [==============================] - 40s 202us/step - loss: 0.4671 - acc: 0.7250 - val_loss: 0.4812 - val_acc: 0.7154\n",
      "Epoch 23/150\n",
      "199020/199020 [==============================] - 40s 200us/step - loss: 0.4670 - acc: 0.7245 - val_loss: 0.4796 - val_acc: 0.7214\n",
      "Epoch 24/150\n",
      "199020/199020 [==============================] - 42s 212us/step - loss: 0.4670 - acc: 0.7245 - val_loss: 0.4776 - val_acc: 0.7251\n",
      "Epoch 25/150\n",
      "199020/199020 [==============================] - 40s 200us/step - loss: 0.4669 - acc: 0.7241 - val_loss: 0.4806 - val_acc: 0.7157\n",
      "Epoch 26/150\n",
      "199020/199020 [==============================] - 39s 197us/step - loss: 0.4669 - acc: 0.7250 - val_loss: 0.4778 - val_acc: 0.7233\n",
      "Epoch 27/150\n",
      "199020/199020 [==============================] - 39s 194us/step - loss: 0.4668 - acc: 0.7247 - val_loss: 0.4776 - val_acc: 0.7235\n",
      "Epoch 28/150\n",
      "199020/199020 [==============================] - 41s 205us/step - loss: 0.4667 - acc: 0.7253 - val_loss: 0.4782 - val_acc: 0.7242\n",
      "Epoch 29/150\n",
      "199020/199020 [==============================] - 40s 200us/step - loss: 0.4666 - acc: 0.7252 - val_loss: 0.4814 - val_acc: 0.7159\n",
      "Epoch 30/150\n",
      "199020/199020 [==============================] - 43s 215us/step - loss: 0.4666 - acc: 0.7251 - val_loss: 0.4785 - val_acc: 0.7220\n",
      "Epoch 31/150\n",
      "199020/199020 [==============================] - 42s 213us/step - loss: 0.4666 - acc: 0.7248 - val_loss: 0.4786 - val_acc: 0.7210\n",
      "Epoch 32/150\n",
      "199020/199020 [==============================] - 41s 208us/step - loss: 0.4666 - acc: 0.7248 - val_loss: 0.4786 - val_acc: 0.7236\n",
      "Epoch 33/150\n",
      "199020/199020 [==============================] - 42s 209us/step - loss: 0.4666 - acc: 0.7238 - val_loss: 0.4790 - val_acc: 0.7230\n",
      "Epoch 34/150\n",
      "199020/199020 [==============================] - 41s 208us/step - loss: 0.4665 - acc: 0.7250 - val_loss: 0.4798 - val_acc: 0.7178\n",
      "Epoch 35/150\n",
      "199020/199020 [==============================] - 39s 196us/step - loss: 0.4664 - acc: 0.7252 - val_loss: 0.4783 - val_acc: 0.7255\n",
      "Epoch 36/150\n",
      "199020/199020 [==============================] - 39s 196us/step - loss: 0.4663 - acc: 0.7256 - val_loss: 0.4782 - val_acc: 0.7233\n",
      "Epoch 37/150\n",
      "199020/199020 [==============================] - 41s 205us/step - loss: 0.4664 - acc: 0.7240 - val_loss: 0.4780 - val_acc: 0.7202\n",
      "Epoch 38/150\n",
      "199020/199020 [==============================] - 39s 196us/step - loss: 0.4664 - acc: 0.7257 - val_loss: 0.4774 - val_acc: 0.7238\n",
      "Epoch 39/150\n",
      "199020/199020 [==============================] - 44s 220us/step - loss: 0.4663 - acc: 0.7251 - val_loss: 0.4793 - val_acc: 0.7223\n",
      "Epoch 40/150\n",
      "199020/199020 [==============================] - 40s 200us/step - loss: 0.4663 - acc: 0.7251 - val_loss: 0.4769 - val_acc: 0.7252\n",
      "Epoch 41/150\n",
      "199020/199020 [==============================] - 38s 192us/step - loss: 0.4663 - acc: 0.7248 - val_loss: 0.4787 - val_acc: 0.7224\n",
      "Epoch 42/150\n",
      "199020/199020 [==============================] - 38s 193us/step - loss: 0.4663 - acc: 0.7254 - val_loss: 0.4784 - val_acc: 0.7220\n",
      "Epoch 43/150\n",
      "199020/199020 [==============================] - 42s 213us/step - loss: 0.4663 - acc: 0.7253 - val_loss: 0.4790 - val_acc: 0.7221\n",
      "Epoch 44/150\n",
      "199020/199020 [==============================] - 40s 199us/step - loss: 0.4662 - acc: 0.7248 - val_loss: 0.4769 - val_acc: 0.7230\n",
      "Epoch 45/150\n",
      "199020/199020 [==============================] - 40s 201us/step - loss: 0.4662 - acc: 0.7255 - val_loss: 0.4774 - val_acc: 0.7242\n",
      "Epoch 46/150\n",
      "199020/199020 [==============================] - 41s 205us/step - loss: 0.4661 - acc: 0.7250 - val_loss: 0.4768 - val_acc: 0.7240\n",
      "Epoch 47/150\n",
      "199020/199020 [==============================] - 38s 192us/step - loss: 0.4661 - acc: 0.7256 - val_loss: 0.4778 - val_acc: 0.7177\n",
      "Epoch 48/150\n",
      "199020/199020 [==============================] - 39s 198us/step - loss: 0.4661 - acc: 0.7257 - val_loss: 0.4770 - val_acc: 0.7215\n",
      "Epoch 49/150\n",
      "199020/199020 [==============================] - 41s 206us/step - loss: 0.4661 - acc: 0.7256 - val_loss: 0.4771 - val_acc: 0.7237\n",
      "Epoch 50/150\n",
      "199020/199020 [==============================] - 39s 197us/step - loss: 0.4660 - acc: 0.7251 - val_loss: 0.4784 - val_acc: 0.7174\n",
      "Epoch 51/150\n",
      "199020/199020 [==============================] - 40s 199us/step - loss: 0.4660 - acc: 0.7255 - val_loss: 0.4803 - val_acc: 0.7193\n",
      "Epoch 52/150\n",
      "199020/199020 [==============================] - 40s 200us/step - loss: 0.4660 - acc: 0.7248 - val_loss: 0.4780 - val_acc: 0.7227\n",
      "Epoch 53/150\n",
      "199020/199020 [==============================] - 41s 204us/step - loss: 0.4660 - acc: 0.7248 - val_loss: 0.4777 - val_acc: 0.7242\n",
      "Epoch 54/150\n",
      "199020/199020 [==============================] - 45s 225us/step - loss: 0.4658 - acc: 0.7250 - val_loss: 0.4805 - val_acc: 0.7156\n",
      "Epoch 55/150\n",
      "199020/199020 [==============================] - 38s 193us/step - loss: 0.4657 - acc: 0.7254 - val_loss: 0.4763 - val_acc: 0.7281\n",
      "Epoch 56/150\n",
      "199020/199020 [==============================] - 42s 210us/step - loss: 0.4655 - acc: 0.7256 - val_loss: 0.4769 - val_acc: 0.7238\n",
      "Epoch 57/150\n",
      "199020/199020 [==============================] - 39s 196us/step - loss: 0.4655 - acc: 0.7260 - val_loss: 0.4777 - val_acc: 0.7242\n"
     ]
    },
    {
     "name": "stdout",
     "output_type": "stream",
     "text": [
      "Epoch 58/150\n",
      "199020/199020 [==============================] - 35s 175us/step - loss: 0.4654 - acc: 0.7258 - val_loss: 0.4765 - val_acc: 0.7230\n",
      "Epoch 59/150\n",
      "199020/199020 [==============================] - 34s 170us/step - loss: 0.4653 - acc: 0.7262 - val_loss: 0.4781 - val_acc: 0.7204\n",
      "Epoch 60/150\n",
      "199020/199020 [==============================] - 34s 169us/step - loss: 0.4653 - acc: 0.7260 - val_loss: 0.4759 - val_acc: 0.7241\n",
      "Epoch 61/150\n",
      "199020/199020 [==============================] - 34s 171us/step - loss: 0.4652 - acc: 0.7255 - val_loss: 0.4770 - val_acc: 0.7223\n",
      "Epoch 62/150\n",
      "199020/199020 [==============================] - 41s 204us/step - loss: 0.4651 - acc: 0.7254 - val_loss: 0.4777 - val_acc: 0.7212\n",
      "Epoch 63/150\n",
      "199020/199020 [==============================] - 55s 278us/step - loss: 0.4651 - acc: 0.7259 - val_loss: 0.4764 - val_acc: 0.7248\n",
      "Epoch 64/150\n",
      "199020/199020 [==============================] - 46s 230us/step - loss: 0.4650 - acc: 0.7262 - val_loss: 0.4769 - val_acc: 0.7184\n",
      "Epoch 65/150\n",
      "199020/199020 [==============================] - 37s 188us/step - loss: 0.4649 - acc: 0.7259 - val_loss: 0.4783 - val_acc: 0.7188\n",
      "Epoch 66/150\n",
      "199020/199020 [==============================] - 38s 193us/step - loss: 0.4650 - acc: 0.7263 - val_loss: 0.4774 - val_acc: 0.7237\n",
      "Epoch 67/150\n",
      "199020/199020 [==============================] - 41s 205us/step - loss: 0.4649 - acc: 0.7260 - val_loss: 0.4801 - val_acc: 0.7133\n",
      "Epoch 68/150\n",
      "199020/199020 [==============================] - 43s 216us/step - loss: 0.4649 - acc: 0.7265 - val_loss: 0.4761 - val_acc: 0.7281\n",
      "Epoch 69/150\n",
      "199020/199020 [==============================] - 46s 231us/step - loss: 0.4650 - acc: 0.7261 - val_loss: 0.4761 - val_acc: 0.7238\n",
      "Epoch 70/150\n",
      "199020/199020 [==============================] - 37s 185us/step - loss: 0.4649 - acc: 0.7262 - val_loss: 0.4787 - val_acc: 0.7226\n",
      "Epoch 71/150\n",
      "199020/199020 [==============================] - 50s 251us/step - loss: 0.4649 - acc: 0.7257 - val_loss: 0.4761 - val_acc: 0.7242\n",
      "Epoch 72/150\n",
      "199020/199020 [==============================] - 59s 298us/step - loss: 0.4649 - acc: 0.7263 - val_loss: 0.4774 - val_acc: 0.7234\n",
      "Epoch 73/150\n",
      "199020/199020 [==============================] - 35s 175us/step - loss: 0.4648 - acc: 0.7260 - val_loss: 0.4773 - val_acc: 0.7190\n",
      "Epoch 74/150\n",
      "199020/199020 [==============================] - 35s 177us/step - loss: 0.4648 - acc: 0.7257 - val_loss: 0.4770 - val_acc: 0.7263\n",
      "Epoch 75/150\n",
      "199020/199020 [==============================] - 35s 174us/step - loss: 0.4648 - acc: 0.7261 - val_loss: 0.4763 - val_acc: 0.7253\n",
      "Epoch 76/150\n",
      "199020/199020 [==============================] - 37s 186us/step - loss: 0.4648 - acc: 0.7256 - val_loss: 0.4766 - val_acc: 0.7238\n",
      "Epoch 77/150\n",
      "199020/199020 [==============================] - 35s 178us/step - loss: 0.4648 - acc: 0.7263 - val_loss: 0.4775 - val_acc: 0.7208\n",
      "Epoch 78/150\n",
      "199020/199020 [==============================] - 35s 178us/step - loss: 0.4648 - acc: 0.7263 - val_loss: 0.4783 - val_acc: 0.7156\n",
      "Epoch 79/150\n",
      "199020/199020 [==============================] - 36s 183us/step - loss: 0.4648 - acc: 0.7263 - val_loss: 0.4763 - val_acc: 0.7258\n",
      "Epoch 80/150\n",
      "199020/199020 [==============================] - 36s 180us/step - loss: 0.4648 - acc: 0.7255 - val_loss: 0.4773 - val_acc: 0.7208\n",
      "Epoch 81/150\n",
      "199020/199020 [==============================] - 35s 176us/step - loss: 0.4648 - acc: 0.7264 - val_loss: 0.4794 - val_acc: 0.7168\n",
      "Epoch 82/150\n",
      "199020/199020 [==============================] - 38s 190us/step - loss: 0.4648 - acc: 0.7263 - val_loss: 0.4786 - val_acc: 0.7205\n",
      "Epoch 83/150\n",
      "199020/199020 [==============================] - 37s 186us/step - loss: 0.4648 - acc: 0.7261 - val_loss: 0.4775 - val_acc: 0.7240\n",
      "Epoch 84/150\n",
      "199020/199020 [==============================] - 37s 188us/step - loss: 0.4647 - acc: 0.7259 - val_loss: 0.4784 - val_acc: 0.7175\n",
      "Epoch 85/150\n",
      "199020/199020 [==============================] - 38s 193us/step - loss: 0.4647 - acc: 0.7263 - val_loss: 0.4755 - val_acc: 0.7232\n",
      "Epoch 86/150\n",
      "199020/199020 [==============================] - 41s 208us/step - loss: 0.4647 - acc: 0.7252 - val_loss: 0.4766 - val_acc: 0.7203\n",
      "Epoch 87/150\n",
      "199020/199020 [==============================] - 37s 184us/step - loss: 0.4646 - acc: 0.7260 - val_loss: 0.4784 - val_acc: 0.7213\n",
      "Epoch 88/150\n",
      "199020/199020 [==============================] - 38s 191us/step - loss: 0.4647 - acc: 0.7264 - val_loss: 0.4751 - val_acc: 0.7269\n",
      "Epoch 89/150\n",
      "199020/199020 [==============================] - 36s 179us/step - loss: 0.4646 - acc: 0.7260 - val_loss: 0.4758 - val_acc: 0.7255\n",
      "Epoch 90/150\n",
      "199020/199020 [==============================] - 36s 181us/step - loss: 0.4648 - acc: 0.7264 - val_loss: 0.4777 - val_acc: 0.7201\n",
      "Epoch 91/150\n",
      "199020/199020 [==============================] - 37s 187us/step - loss: 0.4646 - acc: 0.7258 - val_loss: 0.4771 - val_acc: 0.7209\n",
      "Epoch 92/150\n",
      "199020/199020 [==============================] - 37s 186us/step - loss: 0.4646 - acc: 0.7259 - val_loss: 0.4772 - val_acc: 0.7228\n",
      "Epoch 93/150\n",
      "199020/199020 [==============================] - 38s 190us/step - loss: 0.4647 - acc: 0.7261 - val_loss: 0.4768 - val_acc: 0.7236\n",
      "Epoch 94/150\n",
      "199020/199020 [==============================] - 44s 222us/step - loss: 0.4646 - acc: 0.7263 - val_loss: 0.4766 - val_acc: 0.7232\n",
      "Epoch 95/150\n",
      "199020/199020 [==============================] - 44s 219us/step - loss: 0.4646 - acc: 0.7259 - val_loss: 0.4769 - val_acc: 0.7211\n",
      "Epoch 96/150\n",
      "199020/199020 [==============================] - 34s 171us/step - loss: 0.4645 - acc: 0.7260 - val_loss: 0.4765 - val_acc: 0.7242\n",
      "Epoch 97/150\n",
      "199020/199020 [==============================] - 31s 155us/step - loss: 0.4646 - acc: 0.7263 - val_loss: 0.4764 - val_acc: 0.7242\n",
      "Epoch 98/150\n",
      "199020/199020 [==============================] - 31s 158us/step - loss: 0.4647 - acc: 0.7254 - val_loss: 0.4748 - val_acc: 0.7257\n",
      "Epoch 99/150\n",
      "199020/199020 [==============================] - 34s 168us/step - loss: 0.4645 - acc: 0.7256 - val_loss: 0.4771 - val_acc: 0.7215\n",
      "Epoch 100/150\n",
      "199020/199020 [==============================] - 33s 164us/step - loss: 0.4646 - acc: 0.7268 - val_loss: 0.4776 - val_acc: 0.7247\n",
      "Epoch 101/150\n",
      "199020/199020 [==============================] - 46s 229us/step - loss: 0.4646 - acc: 0.7262 - val_loss: 0.4759 - val_acc: 0.7266\n",
      "Epoch 102/150\n",
      "199020/199020 [==============================] - 37s 187us/step - loss: 0.4646 - acc: 0.7264 - val_loss: 0.4765 - val_acc: 0.7259\n",
      "Epoch 103/150\n",
      "199020/199020 [==============================] - 31s 158us/step - loss: 0.4645 - acc: 0.7260 - val_loss: 0.4773 - val_acc: 0.7249\n",
      "Epoch 104/150\n",
      "199020/199020 [==============================] - 30s 150us/step - loss: 0.4646 - acc: 0.7254 - val_loss: 0.4754 - val_acc: 0.7269\n",
      "Epoch 105/150\n",
      "199020/199020 [==============================] - 31s 156us/step - loss: 0.4646 - acc: 0.7260 - val_loss: 0.4761 - val_acc: 0.7235\n",
      "Epoch 106/150\n",
      "199020/199020 [==============================] - 30s 152us/step - loss: 0.4645 - acc: 0.7260 - val_loss: 0.4763 - val_acc: 0.7247\n",
      "Epoch 107/150\n",
      "199020/199020 [==============================] - 30s 150us/step - loss: 0.4645 - acc: 0.7259 - val_loss: 0.4780 - val_acc: 0.7207\n",
      "Epoch 108/150\n",
      "199020/199020 [==============================] - 31s 155us/step - loss: 0.4646 - acc: 0.7256 - val_loss: 0.4781 - val_acc: 0.7198\n",
      "Epoch 109/150\n",
      "199020/199020 [==============================] - 34s 173us/step - loss: 0.4646 - acc: 0.7261 - val_loss: 0.4758 - val_acc: 0.7200\n",
      "Epoch 110/150\n",
      "199020/199020 [==============================] - 33s 167us/step - loss: 0.4645 - acc: 0.7258 - val_loss: 0.4761 - val_acc: 0.7254\n",
      "Epoch 111/150\n",
      "199020/199020 [==============================] - 32s 158us/step - loss: 0.4645 - acc: 0.7266 - val_loss: 0.4795 - val_acc: 0.7141\n",
      "Epoch 112/150\n",
      "199020/199020 [==============================] - 33s 166us/step - loss: 0.4645 - acc: 0.7257 - val_loss: 0.4762 - val_acc: 0.7248\n",
      "Epoch 113/150\n",
      "199020/199020 [==============================] - 35s 174us/step - loss: 0.4646 - acc: 0.7256 - val_loss: 0.4781 - val_acc: 0.7197\n",
      "Epoch 114/150\n",
      "199020/199020 [==============================] - 34s 173us/step - loss: 0.4645 - acc: 0.7260 - val_loss: 0.4768 - val_acc: 0.7222\n",
      "Epoch 115/150\n"
     ]
    },
    {
     "name": "stdout",
     "output_type": "stream",
     "text": [
      "199020/199020 [==============================] - 33s 165us/step - loss: 0.4646 - acc: 0.7265 - val_loss: 0.4752 - val_acc: 0.7261\n",
      "Epoch 116/150\n",
      "199020/199020 [==============================] - 32s 161us/step - loss: 0.4645 - acc: 0.7265 - val_loss: 0.4774 - val_acc: 0.7234\n",
      "Epoch 117/150\n",
      "199020/199020 [==============================] - 33s 167us/step - loss: 0.4646 - acc: 0.7265 - val_loss: 0.4770 - val_acc: 0.7240\n",
      "Epoch 118/150\n",
      "199020/199020 [==============================] - 33s 168us/step - loss: 0.4645 - acc: 0.7259 - val_loss: 0.4774 - val_acc: 0.7222\n",
      "Epoch 119/150\n",
      "199020/199020 [==============================] - 36s 181us/step - loss: 0.4645 - acc: 0.7264 - val_loss: 0.4774 - val_acc: 0.7204\n",
      "Epoch 120/150\n",
      "199020/199020 [==============================] - 35s 177us/step - loss: 0.4645 - acc: 0.7263 - val_loss: 0.4771 - val_acc: 0.7215\n",
      "Epoch 121/150\n",
      "199020/199020 [==============================] - 33s 166us/step - loss: 0.4645 - acc: 0.7264 - val_loss: 0.4774 - val_acc: 0.7234\n",
      "Epoch 122/150\n",
      "199020/199020 [==============================] - 31s 158us/step - loss: 0.4644 - acc: 0.7267 - val_loss: 0.4767 - val_acc: 0.7230\n",
      "Epoch 123/150\n",
      "199020/199020 [==============================] - 33s 165us/step - loss: 0.4644 - acc: 0.7265 - val_loss: 0.4767 - val_acc: 0.7262\n",
      "Epoch 124/150\n",
      "199020/199020 [==============================] - 31s 155us/step - loss: 0.4645 - acc: 0.7259 - val_loss: 0.4769 - val_acc: 0.7218\n",
      "Epoch 125/150\n",
      "199020/199020 [==============================] - 33s 167us/step - loss: 0.4645 - acc: 0.7261 - val_loss: 0.4762 - val_acc: 0.7264\n",
      "Epoch 126/150\n",
      "199020/199020 [==============================] - 33s 167us/step - loss: 0.4644 - acc: 0.7268 - val_loss: 0.4768 - val_acc: 0.7208\n",
      "Epoch 127/150\n",
      "199020/199020 [==============================] - 33s 165us/step - loss: 0.4645 - acc: 0.7259 - val_loss: 0.4762 - val_acc: 0.7251\n",
      "Epoch 128/150\n",
      "199020/199020 [==============================] - 32s 159us/step - loss: 0.4645 - acc: 0.7263 - val_loss: 0.4760 - val_acc: 0.7267\n",
      "Epoch 129/150\n",
      "199020/199020 [==============================] - 34s 170us/step - loss: 0.4645 - acc: 0.7264 - val_loss: 0.4757 - val_acc: 0.7249\n",
      "Epoch 130/150\n",
      "199020/199020 [==============================] - 34s 173us/step - loss: 0.4644 - acc: 0.7267 - val_loss: 0.4776 - val_acc: 0.7176\n",
      "Epoch 131/150\n",
      "199020/199020 [==============================] - 31s 156us/step - loss: 0.4645 - acc: 0.7267 - val_loss: 0.4777 - val_acc: 0.7244\n",
      "Epoch 132/150\n",
      "199020/199020 [==============================] - 33s 167us/step - loss: 0.4645 - acc: 0.7261 - val_loss: 0.4764 - val_acc: 0.7223\n",
      "Epoch 133/150\n",
      "199020/199020 [==============================] - 33s 165us/step - loss: 0.4644 - acc: 0.7256 - val_loss: 0.4755 - val_acc: 0.7259\n",
      "Epoch 134/150\n",
      "199020/199020 [==============================] - 36s 182us/step - loss: 0.4645 - acc: 0.7253 - val_loss: 0.4781 - val_acc: 0.7217\n",
      "Epoch 135/150\n",
      "199020/199020 [==============================] - 35s 175us/step - loss: 0.4644 - acc: 0.7259 - val_loss: 0.4782 - val_acc: 0.7184\n",
      "Epoch 136/150\n",
      "199020/199020 [==============================] - 34s 172us/step - loss: 0.4645 - acc: 0.7262 - val_loss: 0.4805 - val_acc: 0.7092\n",
      "Epoch 137/150\n",
      "199020/199020 [==============================] - 35s 177us/step - loss: 0.4644 - acc: 0.7263 - val_loss: 0.4783 - val_acc: 0.7182\n",
      "Epoch 138/150\n",
      "199020/199020 [==============================] - 42s 212us/step - loss: 0.4644 - acc: 0.7263 - val_loss: 0.4754 - val_acc: 0.7238\n",
      "Epoch 139/150\n",
      "199020/199020 [==============================] - 36s 182us/step - loss: 0.4645 - acc: 0.7268 - val_loss: 0.4778 - val_acc: 0.7217\n",
      "Epoch 140/150\n",
      "199020/199020 [==============================] - 35s 178us/step - loss: 0.4644 - acc: 0.7267 - val_loss: 0.4779 - val_acc: 0.7204\n",
      "Epoch 141/150\n",
      "199020/199020 [==============================] - 33s 164us/step - loss: 0.4644 - acc: 0.7259 - val_loss: 0.4776 - val_acc: 0.7189\n",
      "Epoch 142/150\n",
      "199020/199020 [==============================] - 36s 180us/step - loss: 0.4644 - acc: 0.7266 - val_loss: 0.4772 - val_acc: 0.7217\n",
      "Epoch 143/150\n",
      "199020/199020 [==============================] - 33s 166us/step - loss: 0.4644 - acc: 0.7260 - val_loss: 0.4776 - val_acc: 0.7207\n",
      "Epoch 144/150\n",
      "199020/199020 [==============================] - 40s 200us/step - loss: 0.4644 - acc: 0.7266 - val_loss: 0.4758 - val_acc: 0.7266\n",
      "Epoch 145/150\n",
      "199020/199020 [==============================] - 41s 204us/step - loss: 0.4644 - acc: 0.7259 - val_loss: 0.4759 - val_acc: 0.7250\n",
      "Epoch 146/150\n",
      "199020/199020 [==============================] - 35s 175us/step - loss: 0.4643 - acc: 0.7264 - val_loss: 0.4762 - val_acc: 0.7251\n",
      "Epoch 147/150\n",
      "199020/199020 [==============================] - 37s 187us/step - loss: 0.4644 - acc: 0.7259 - val_loss: 0.4778 - val_acc: 0.7207\n",
      "Epoch 148/150\n",
      "199020/199020 [==============================] - 38s 192us/step - loss: 0.4644 - acc: 0.7259 - val_loss: 0.4762 - val_acc: 0.7259\n",
      "Epoch 149/150\n",
      "199020/199020 [==============================] - 38s 190us/step - loss: 0.4644 - acc: 0.7269 - val_loss: 0.4768 - val_acc: 0.7261\n",
      "Epoch 150/150\n",
      "199020/199020 [==============================] - 43s 216us/step - loss: 0.4644 - acc: 0.7254 - val_loss: 0.4769 - val_acc: 0.7220\n"
     ]
    }
   ],
   "source": [
    "nb_epoch = 150\n",
    "batch_size = 32\n",
    "\n",
    "autoencoder.compile(optimizer='adam', \n",
    "                    loss='mean_absolute_error', \n",
    "                    metrics=['accuracy'])\n",
    "\n",
    "checkpointer = ModelCheckpoint(filepath=Fpath+\"CCmodel1.h5\",\n",
    "                               verbose=0,\n",
    "                               save_best_only=True)\n",
    "tensorboard = TensorBoard(log_dir='C:/tmp/Anamoly/CC/',\n",
    "                          histogram_freq=0,\n",
    "                          write_graph=True,\n",
    "                          write_images=True)\n",
    "\n",
    "history = autoencoder.fit(X_train, X_train,\n",
    "                    epochs=nb_epoch,\n",
    "                    batch_size=batch_size,\n",
    "                    shuffle=True,\n",
    "                    validation_data=(X_test, X_test),\n",
    "                    verbose=1,\n",
    "                    callbacks=[checkpointer, tensorboard]).history"
   ]
  },
  {
   "cell_type": "code",
   "execution_count": 45,
   "metadata": {},
   "outputs": [],
   "source": [
    "autoencoder = load_model(Fpath+'CCmodel1.h5')"
   ]
  },
  {
   "cell_type": "markdown",
   "metadata": {},
   "source": [
    "# Evaluation"
   ]
  },
  {
   "cell_type": "code",
   "execution_count": 46,
   "metadata": {},
   "outputs": [
    {
     "data": {
      "image/png": "[encoded data removed]",
      "text/plain": [
       "<Figure size 1008x576 with 1 Axes>"
      ]
     },
     "metadata": {},
     "output_type": "display_data"
    }
   ],
   "source": [
    "plt.plot(history['loss'])\n",
    "plt.plot(history['val_loss'])\n",
    "plt.title('model loss')\n",
    "plt.ylabel('loss')\n",
    "plt.xlabel('epoch')\n",
    "plt.legend(['train', 'test'], loc='upper right');"
   ]
  },
  {
   "cell_type": "markdown",
   "metadata": {},
   "source": [
    "The reconstruction error on our training and test data seems to converge nicely. Is it low enough? Let's have a closer look at the error distribution:"
   ]
  },
  {
   "cell_type": "code",
   "execution_count": 47,
   "metadata": {},
   "outputs": [],
   "source": [
    "predictions = autoencoder.predict(X_val)"
   ]
  },
  {
   "cell_type": "code",
   "execution_count": 48,
   "metadata": {},
   "outputs": [],
   "source": [
    "mse = np.mean(np.power(X_val - predictions, 2), axis=1)\n",
    "error_df = pd.DataFrame({'reconstruction_error': mse, 'true_class': y_val})"
   ]
  },
  {
   "cell_type": "code",
   "execution_count": 49,
   "metadata": {},
   "outputs": [
    {
     "data": {
      "text/html": [
       "<div>\n",
       "<style scoped>\n",
       "    .dataframe tbody tr th:only-of-type {\n",
       "        vertical-align: middle;\n",
       "    }\n",
       "\n",
       "    .dataframe tbody tr th {\n",
       "        vertical-align: top;\n",
       "    }\n",
       "\n",
       "    .dataframe thead th {\n",
       "        text-align: right;\n",
       "    }\n",
       "</style>\n",
       "<table border=\"1\" class=\"dataframe\">\n",
       "  <thead>\n",
       "    <tr style=\"text-align: right;\">\n",
       "      <th></th>\n",
       "      <th>reconstruction_error</th>\n",
       "      <th>true_class</th>\n",
       "    </tr>\n",
       "  </thead>\n",
       "  <tbody>\n",
       "    <tr>\n",
       "      <th>24337</th>\n",
       "      <td>12.972037</td>\n",
       "      <td>0</td>\n",
       "    </tr>\n",
       "    <tr>\n",
       "      <th>3733</th>\n",
       "      <td>0.368310</td>\n",
       "      <td>0</td>\n",
       "    </tr>\n",
       "    <tr>\n",
       "      <th>156195</th>\n",
       "      <td>1.904238</td>\n",
       "      <td>0</td>\n",
       "    </tr>\n",
       "    <tr>\n",
       "      <th>41512</th>\n",
       "      <td>0.348418</td>\n",
       "      <td>0</td>\n",
       "    </tr>\n",
       "    <tr>\n",
       "      <th>196846</th>\n",
       "      <td>0.381874</td>\n",
       "      <td>0</td>\n",
       "    </tr>\n",
       "  </tbody>\n",
       "</table>\n",
       "</div>"
      ],
      "text/plain": [
       "        reconstruction_error  true_class\n",
       "24337              12.972037           0\n",
       "3733                0.368310           0\n",
       "156195              1.904238           0\n",
       "41512               0.348418           0\n",
       "196846              0.381874           0"
      ]
     },
     "execution_count": 49,
     "metadata": {},
     "output_type": "execute_result"
    }
   ],
   "source": [
    "error_df.head()"
   ]
  },
  {
   "cell_type": "code",
   "execution_count": 50,
   "metadata": {},
   "outputs": [
    {
     "data": {
      "text/html": [
       "<div>\n",
       "<style scoped>\n",
       "    .dataframe tbody tr th:only-of-type {\n",
       "        vertical-align: middle;\n",
       "    }\n",
       "\n",
       "    .dataframe tbody tr th {\n",
       "        vertical-align: top;\n",
       "    }\n",
       "\n",
       "    .dataframe thead th {\n",
       "        text-align: right;\n",
       "    }\n",
       "</style>\n",
       "<table border=\"1\" class=\"dataframe\">\n",
       "  <thead>\n",
       "    <tr style=\"text-align: right;\">\n",
       "      <th></th>\n",
       "      <th>reconstruction_error</th>\n",
       "      <th>true_class</th>\n",
       "    </tr>\n",
       "  </thead>\n",
       "  <tbody>\n",
       "    <tr>\n",
       "      <th>count</th>\n",
       "      <td>17158.000000</td>\n",
       "      <td>17158.000000</td>\n",
       "    </tr>\n",
       "    <tr>\n",
       "      <th>mean</th>\n",
       "      <td>1.484801</td>\n",
       "      <td>0.005712</td>\n",
       "    </tr>\n",
       "    <tr>\n",
       "      <th>std</th>\n",
       "      <td>21.600781</td>\n",
       "      <td>0.075361</td>\n",
       "    </tr>\n",
       "    <tr>\n",
       "      <th>min</th>\n",
       "      <td>0.027227</td>\n",
       "      <td>0.000000</td>\n",
       "    </tr>\n",
       "    <tr>\n",
       "      <th>25%</th>\n",
       "      <td>0.188390</td>\n",
       "      <td>0.000000</td>\n",
       "    </tr>\n",
       "    <tr>\n",
       "      <th>50%</th>\n",
       "      <td>0.322967</td>\n",
       "      <td>0.000000</td>\n",
       "    </tr>\n",
       "    <tr>\n",
       "      <th>75%</th>\n",
       "      <td>0.560186</td>\n",
       "      <td>0.000000</td>\n",
       "    </tr>\n",
       "    <tr>\n",
       "      <th>max</th>\n",
       "      <td>2294.279535</td>\n",
       "      <td>1.000000</td>\n",
       "    </tr>\n",
       "  </tbody>\n",
       "</table>\n",
       "</div>"
      ],
      "text/plain": [
       "       reconstruction_error    true_class\n",
       "count          17158.000000  17158.000000\n",
       "mean               1.484801      0.005712\n",
       "std               21.600781      0.075361\n",
       "min                0.027227      0.000000\n",
       "25%                0.188390      0.000000\n",
       "50%                0.322967      0.000000\n",
       "75%                0.560186      0.000000\n",
       "max             2294.279535      1.000000"
      ]
     },
     "execution_count": 50,
     "metadata": {},
     "output_type": "execute_result"
    }
   ],
   "source": [
    "error_df.describe()"
   ]
  },
  {
   "cell_type": "markdown",
   "metadata": {},
   "source": [
    "## Reconstruction error without fraud"
   ]
  },
  {
   "cell_type": "code",
   "execution_count": 51,
   "metadata": {},
   "outputs": [
    {
     "data": {
      "image/png": "[encoded data removed]",
      "text/plain": [
       "<Figure size 1008x576 with 1 Axes>"
      ]
     },
     "metadata": {},
     "output_type": "display_data"
    }
   ],
   "source": [
    "fig = plt.figure()\n",
    "ax = fig.add_subplot(111)\n",
    "normal_error_df = error_df[(error_df['true_class']== 0) & (error_df['reconstruction_error'] < 10)]\n",
    "_ = ax.hist(normal_error_df.reconstruction_error.values, bins=10)"
   ]
  },
  {
   "cell_type": "markdown",
   "metadata": {},
   "source": [
    "## Reconstruction error with fraud"
   ]
  },
  {
   "cell_type": "code",
   "execution_count": 52,
   "metadata": {},
   "outputs": [
    {
     "data": {
      "image/png": "[encoded data removed]",
      "text/plain": [
       "<Figure size 1008x576 with 1 Axes>"
      ]
     },
     "metadata": {},
     "output_type": "display_data"
    }
   ],
   "source": [
    "fig = plt.figure()\n",
    "ax = fig.add_subplot(111)\n",
    "fraud_error_df = error_df[error_df['true_class'] == 1]\n",
    "_ = ax.hist(fraud_error_df.reconstruction_error.values, bins=10)"
   ]
  },
  {
   "cell_type": "markdown",
   "metadata": {},
   "source": [
    "ROC curves are very useful tool for understanding the performance of binary classifiers. However, our case is a bit out of the ordinary. We have a very imbalanced dataset. Nonetheless, let's have a look at our ROC curve:"
   ]
  },
  {
   "cell_type": "code",
   "execution_count": 53,
   "metadata": {},
   "outputs": [
    {
     "data": {
      "image/png": "[encoded data removed]",
      "text/plain": [
       "<Figure size 1008x576 with 1 Axes>"
      ]
     },
     "metadata": {},
     "output_type": "display_data"
    }
   ],
   "source": [
    "fpr, tpr, thresholds = roc_curve(error_df.true_class, error_df.reconstruction_error)\n",
    "roc_auc = auc(fpr, tpr)\n",
    "\n",
    "plt.title('Receiver Operating Characteristic')\n",
    "plt.plot(fpr, tpr, label='AUC = %0.4f'% roc_auc)\n",
    "plt.legend(loc='lower right')\n",
    "plt.plot([0,1],[0,1],'r--')\n",
    "plt.xlim([-0.001, 1])\n",
    "plt.ylim([0, 1.001])\n",
    "plt.ylabel('True Positive Rate')\n",
    "plt.xlabel('False Positive Rate')\n",
    "plt.show();"
   ]
  },
  {
   "cell_type": "markdown",
   "metadata": {},
   "source": [
    "The ROC curve plots the true positive rate versus the false positive rate, over different threshold values. Basically, we want the blue line to be as close as possible to the upper left corner. While our results look pretty good, we have to keep in mind of the nature of our dataset. ROC doesn't look very useful for us. Onward...\n",
    "\n",
    "## Precision vs Recall\n",
    "\n",
    "<img src=\"https://upload.wikimedia.org/wikipedia/commons/thumb/2/26/Precisionrecall.svg/350px-Precisionrecall.svg.png\" />\n",
    "\n",
    "Precision and recall are defined as follows:\n",
    "\n",
    "$$\\text{Precision} = \\frac{\\text{true positives}}{\\text{true positives} + \\text{false positives}}$$\n",
    "\n",
    "$$\\text{Recall} = \\frac{\\text{true positives}}{\\text{true positives} + \\text{false negatives}}$$\n",
    "\n",
    "Let's take an example from Information Retrieval in order to better understand what precision and recall are. Precision measures the relevancy of obtained results. Recall, on the other hand, measures how many relevant results are returned. Both values can take values between 0 and 1. You would love to have a system with both values being equal to 1.\n",
    "\n",
    "Let's return to our example from Information Retrieval. High recall but low precision means many results, most of which has low or no relevancy. When precision is high but recall is low we have the opposite - few returned results with very high relevancy. Ideally, you would want high precision and high recall - many results with that are highly relevant."
   ]
  },
  {
   "cell_type": "code",
   "execution_count": 54,
   "metadata": {},
   "outputs": [
    {
     "data": {
      "image/png": "[encoded data removed]",
      "text/plain": [
       "<Figure size 1008x576 with 1 Axes>"
      ]
     },
     "metadata": {},
     "output_type": "display_data"
    }
   ],
   "source": [
    "precision, recall, th = precision_recall_curve(error_df.true_class, error_df.reconstruction_error)\n",
    "plt.plot(recall, precision, 'b', label='Precision-Recall curve')\n",
    "plt.title('Recall vs Precision')\n",
    "plt.xlabel('Recall')\n",
    "plt.ylabel('Precision')\n",
    "plt.show()"
   ]
  },
  {
   "cell_type": "markdown",
   "metadata": {},
   "source": [
    "A high area under the curve represents both high recall and high precision, where high precision relates to a low false positive rate, and high recall relates to a low false negative rate. High scores for both show that the classifier is returning accurate results (high precision), as well as returning a majority of all positive results (high recall)."
   ]
  },
  {
   "cell_type": "code",
   "execution_count": 55,
   "metadata": {},
   "outputs": [
    {
     "data": {
      "image/png": "[encoded data removed]",
      "text/plain": [
       "<Figure size 1008x576 with 1 Axes>"
      ]
     },
     "metadata": {},
     "output_type": "display_data"
    }
   ],
   "source": [
    "plt.plot(th, precision[1:], 'b', label='Threshold-Precision curve')\n",
    "plt.title('Precision for different threshold values')\n",
    "plt.xlabel('Threshold')\n",
    "plt.ylabel('Precision')\n",
    "plt.show()"
   ]
  },
  {
   "cell_type": "markdown",
   "metadata": {},
   "source": [
    "You can see that as the reconstruction error increases our precision rises as well. Let's have a look at the recall:"
   ]
  },
  {
   "cell_type": "code",
   "execution_count": 56,
   "metadata": {},
   "outputs": [
    {
     "data": {
      "image/png": "[encoded data removed]",
      "text/plain": [
       "<Figure size 1008x576 with 1 Axes>"
      ]
     },
     "metadata": {},
     "output_type": "display_data"
    }
   ],
   "source": [
    "plt.plot(th, recall[1:], 'b', label='Threshold-Recall curve')\n",
    "plt.title('Recall for different threshold values')\n",
    "plt.xlabel('Reconstruction error')\n",
    "plt.ylabel('Recall')\n",
    "plt.show()"
   ]
  },
  {
   "cell_type": "markdown",
   "metadata": {},
   "source": [
    "Here, we have the exact opposite situation. As the reconstruction error increases the recall decreases."
   ]
  },
  {
   "cell_type": "code",
   "execution_count": 57,
   "metadata": {},
   "outputs": [],
   "source": [
    "# this function returns a plot of Recall vs threshold/ Precision vs threshold with the point of intersection of two curves\n",
    "def reconstruction(X_test, y_test):\n",
    "    predictions = autoencoder.predict(X_test)          # predicting using the X_test\n",
    "    mse = np.mean(np.power(X_test - predictions, 2), axis=1) # finding the mse value\n",
    "    error_df = pd.DataFrame({'reconstruction_error': mse,    # making a dataframe with mse and y_test columns \n",
    "                        'true_class': y_test})\n",
    "    precision, recall, th = precision_recall_curve(error_df.true_class, error_df.reconstruction_error) # finding the precision, recall and threshold using  precision_recall_curve function\n",
    "    plt.plot(th, precision[1:], 'b', label='Precision curve') # ploting the curve for Precision  \n",
    "    plt.plot(th, recall[1:], 'r', label='Recall curve')       # plotting the curve for recall\n",
    "    plt.title('Recall vs threshold/ Precision vs threshold ') # setting the title\n",
    "    plt.xlabel('threshold')                                   # setting the x-label\n",
    "    plt.ylabel('Precision/ Recall')                           # setting the y-label\n",
    "    plt.legend()                                              # setting the legend\n",
    "    \n",
    "    idx = np.argwhere(np.diff((precision[1:] - recall[1:]) == 0))      # finding the index of the point of intersection of both the curves\n",
    "    plt.plot(th[idx], precision[1:][idx],\"yo\", label = 'Intersection') # making a yellow dot on the point of intersection\n",
    "    plt.show()                                                         \n",
    "    return(th[idx], precision[1:][idx])"
   ]
  },
  {
   "cell_type": "code",
   "execution_count": 58,
   "metadata": {},
   "outputs": [
    {
     "data": {
      "image/png": "[encoded data removed]",
      "text/plain": [
       "<Figure size 1008x576 with 1 Axes>"
      ]
     },
     "metadata": {},
     "output_type": "display_data"
    },
    {
     "data": {
      "text/plain": [
       "(array([[ 30.30462304],\n",
       "        [ 30.36979425],\n",
       "        [289.18851168],\n",
       "        [932.72502102]]), array([[0.26262626],\n",
       "        [0.26530612],\n",
       "        [0.16666667],\n",
       "        [0.        ]]))"
      ]
     },
     "execution_count": 58,
     "metadata": {},
     "output_type": "execute_result"
    }
   ],
   "source": [
    "reconstruction(X_val, y_val)"
   ]
  },
  {
   "cell_type": "markdown",
   "metadata": {},
   "source": [
    "# Prediction\n",
    "\n",
    "Our model is a bit different this time. It doesn't know how to predict new values. But we don't need that. In order to predict whether or not a new/unseen transaction is normal or fraudulent, we'll calculate the reconstruction error from the transaction data itself. If the error is larger than a predefined threshold, we'll mark it as a fraud (since our model should have a low error on normal transactions). Let's pick that value:"
   ]
  },
  {
   "cell_type": "code",
   "execution_count": 59,
   "metadata": {},
   "outputs": [],
   "source": [
    "threshold = 2.9"
   ]
  },
  {
   "cell_type": "markdown",
   "metadata": {},
   "source": [
    "And see how well we're dividing the two types of transactions:"
   ]
  },
  {
   "cell_type": "code",
   "execution_count": 62,
   "metadata": {},
   "outputs": [
    {
     "data": {
      "image/png": "[encoded data removed]",
      "text/plain": [
       "<Figure size 1008x576 with 1 Axes>"
      ]
     },
     "metadata": {},
     "output_type": "display_data"
    }
   ],
   "source": [
    "groups = error_df.groupby('true_class')\n",
    "fig, ax = plt.subplots()\n",
    "\n",
    "for name, group in groups:\n",
    "    ax.plot(group.index, group.reconstruction_error, marker='o', ms=3.5, linestyle='',\n",
    "            label= \"Fraud\" if name == 1 else \"Normal\")\n",
    "ax.hlines(threshold, ax.get_xlim()[0], ax.get_xlim()[1], colors=\"g\", zorder=100, label='Threshold')\n",
    "ax.legend()\n",
    "plt.title(\"Reconstruction error for different classes\")\n",
    "plt.ylabel(\"Reconstruction error\")\n",
    "plt.xlabel(\"Data point index\")\n",
    "plt.show();"
   ]
  },
  {
   "cell_type": "markdown",
   "metadata": {},
   "source": [
    "I know, that chart might be a bit deceiving. Let's have a look at the confusion matrix:"
   ]
  },
  {
   "cell_type": "code",
   "execution_count": 63,
   "metadata": {},
   "outputs": [
    {
     "data": {
      "image/png": "[encoded data removed]",
      "text/plain": [
       "<Figure size 864x864 with 2 Axes>"
      ]
     },
     "metadata": {},
     "output_type": "display_data"
    }
   ],
   "source": [
    "y_pred = [1 if e > threshold else 0 for e in error_df.reconstruction_error.values]\n",
    "conf_matrix = confusion_matrix(error_df.true_class, y_pred)\n",
    "\n",
    "plt.figure(figsize=(12, 12))\n",
    "sns.heatmap(conf_matrix, xticklabels=LABELS, yticklabels=LABELS, annot=True, fmt=\"d\");\n",
    "plt.title(\"Confusion matrix\")\n",
    "plt.ylabel('True class')\n",
    "plt.xlabel('Predicted class')\n",
    "plt.show()"
   ]
  },
  {
   "cell_type": "code",
   "execution_count": 64,
   "metadata": {},
   "outputs": [
    {
     "data": {
      "text/plain": [
       "array([[16296,   764],\n",
       "       [   15,    83]], dtype=int64)"
      ]
     },
     "execution_count": 64,
     "metadata": {},
     "output_type": "execute_result"
    }
   ],
   "source": [
    "conf_matrix"
   ]
  },
  {
   "cell_type": "code",
   "execution_count": 65,
   "metadata": {},
   "outputs": [
    {
     "data": {
      "text/plain": [
       "(17158, 29)"
      ]
     },
     "execution_count": 65,
     "metadata": {},
     "output_type": "execute_result"
    }
   ],
   "source": [
    "X_val.shape"
   ]
  },
  {
   "cell_type": "code",
   "execution_count": 66,
   "metadata": {},
   "outputs": [
    {
     "name": "stdout",
     "output_type": "stream",
     "text": [
      "Precision:  [0.99908038 0.09799292] ; Recall:  [0.95521688 0.84693878]\n"
     ]
    }
   ],
   "source": [
    "true_pos = np.diag(conf_matrix)\n",
    "#false_pos = np.sum(conf_matrix, axis=0) - true_pos\n",
    "#false_neg = np.sum(conf_matrix, axis=1) - true_pos\n",
    "\n",
    "#precision = np.sum(true_pos / (true_pos+false_pos))\n",
    "#recall = np.sum(true_pos / (true_pos + false_neg))\n",
    "\n",
    "#precision = np.sum(true_pos / np.sum(conf_matrix, axis=0))\n",
    "#recall = np.sum(true_pos / np.sum(conf_matrix, axis=1))\n",
    "\n",
    "recall = np.diag(conf_matrix) / np.sum(conf_matrix, axis = 1)\n",
    "precision = np.diag(conf_matrix) / np.sum(conf_matrix, axis = 0)\n",
    "                 \n",
    "print (\"Precision: \", precision, \";\", \"Recall: \", recall)"
   ]
  },
  {
   "cell_type": "code",
   "execution_count": 67,
   "metadata": {},
   "outputs": [
    {
     "name": "stdout",
     "output_type": "stream",
     "text": [
      "             precision    recall  f1-score   support\n",
      "\n",
      "    class 0       1.00      0.96      0.98     17060\n",
      "    class 1       0.10      0.85      0.18        98\n",
      "\n",
      "avg / total       0.99      0.95      0.97     17158\n",
      "\n",
      "Accuracy = 95.45984380463923\n"
     ]
    }
   ],
   "source": [
    "print (classification_report(error_df.true_class, y_pred, target_names=['class 0','class 1']))\n",
    "acc = accuracy_score(error_df.true_class, y_pred)\n",
    "Accuracy = acc*100\n",
    "print('Accuracy =',Accuracy)"
   ]
  },
  {
   "cell_type": "code",
   "execution_count": 68,
   "metadata": {},
   "outputs": [
    {
     "name": "stdout",
     "output_type": "stream",
     "text": [
      "Total no. of Frauds in train data:  0 out of  199020\n",
      "Total no. of Frauds in test data:  394 out of  68629\n",
      "Total no. of Frauds in val data:  98 out of  17158\n"
     ]
    }
   ],
   "source": [
    "print('Total no. of Frauds in train data: ', y_train[y_train == 1].count(), 'out of ', y_train.count())\n",
    "print('Total no. of Frauds in test data: ', y_test[y_test == 1].count(), 'out of ', y_test.count())\n",
    "print('Total no. of Frauds in val data: ', y_val[y_val == 1].count(), 'out of ', y_val.count())"
   ]
  },
  {
   "cell_type": "markdown",
   "metadata": {},
   "source": [
    "Our model seems to catch a lot of the fraudulent cases. Of course, there is a catch (see what I did there?). The number of normal transactions classified as frauds is really high. Is this really a problem? Probably it is. You might want to increase or decrease the value of the threshold, depending on the problem. That one is up to you.\n",
    "\n",
    "# Conclusion\n",
    "\n",
    "We've created a very simple Deep Autoencoder in Keras that can reconstruct what non fraudulent transactions looks like. Initially, I was a bit skeptical about whether or not this whole thing is gonna work out, bit it kinda did. Think about it, we gave a lot of one-class examples (normal transactions) to a model and it learned (somewhat) how to discriminate whether or not new examples belong to that same class. Isn't that cool? Our dataset was kind of magical, though. We really don't know what the original features look like."
   ]
  },
  {
   "cell_type": "code",
   "execution_count": null,
   "metadata": {},
   "outputs": [],
   "source": []
  }
 ],
 "metadata": {
  "kernelspec": {
   "display_name": "Python 3",
   "language": "python",
   "name": "python3"
  },
  "language_info": {
   "codemirror_mode": {
    "name": "ipython",
    "version": 3
   },
   "file_extension": ".py",
   "mimetype": "text/x-python",
   "name": "python",
   "nbconvert_exporter": "python",
   "pygments_lexer": "ipython3",
   "version": "3.6.6"
  }
 },
 "nbformat": 4,
 "nbformat_minor": 2
}
