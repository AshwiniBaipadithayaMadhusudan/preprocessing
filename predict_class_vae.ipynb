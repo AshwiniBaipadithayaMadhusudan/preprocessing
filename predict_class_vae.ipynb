{
 "cells": [
  {
   "cell_type": "code",
   "execution_count": 66,
   "metadata": {},
   "outputs": [],
   "source": [
    "import numpy as np\n",
    "import pandas as pd\n",
    "from keras.models import load_model\n",
    "from keras.optimizers import Adam\n",
    "from keras.layers import Dense,Input\n",
    "from keras import backend as K\n",
    "from keras import losses,metrics\n",
    "from sklearn.model_selection import train_test_split, StratifiedShuffleSplit\n",
    "from sklearn import preprocessing\n"
   ]
  },
  {
   "cell_type": "code",
   "execution_count": 67,
   "metadata": {},
   "outputs": [],
   "source": [
    "data = pd.read_csv(\"creditcard.csv\")"
   ]
  },
  {
   "cell_type": "code",
   "execution_count": 68,
   "metadata": {},
   "outputs": [],
   "source": [
    "np.random.seed(42)"
   ]
  },
  {
   "cell_type": "code",
   "execution_count": 69,
   "metadata": {},
   "outputs": [],
   "source": [
    "# Here the stratified shuffle split is done\n",
    "X = data.iloc[:,1:-1]\n",
    "Y = data['Class']\n",
    "\n",
    "# have used 50 splits and test data proportion equal to 0.2\n",
    "sss= StratifiedShuffleSplit(n_splits=50, test_size=0.2, random_state=42)\n",
    "\n",
    "# equating the index of all the shuffled index to the data.\n",
    "for train_index, test_index in sss.split(X, Y):                           \n",
    "        x_train, x_test = X.iloc[train_index], X.iloc[test_index]            \n",
    "        y_train, y_test = Y.iloc[train_index], Y.iloc[test_index]"
   ]
  },
  {
   "cell_type": "code",
   "execution_count": 80,
   "metadata": {},
   "outputs": [
    {
     "data": {
      "text/plain": [
       "array([[ 0.58541873, -0.15944589, -0.23730703, ...,  0.00337683,\n",
       "         0.06338125, -0.03706768],\n",
       "       [-0.45852227, -0.20459649,  2.09675774, ...,  1.06079977,\n",
       "         0.50687099, -0.22302591],\n",
       "       [-0.77414488,  0.01826225, -0.28219557, ..., -2.45284616,\n",
       "         0.36068451, -0.3346455 ],\n",
       "       ...,\n",
       "       [-1.91753722,  2.46493627, -1.58980655, ...,  3.2231603 ,\n",
       "         1.97856056, -0.33133412],\n",
       "       [-0.30002061,  0.20814354,  0.89977904, ...,  0.25112369,\n",
       "         0.19206192, -0.28590494],\n",
       "       [ 1.01532061, -0.21081474, -0.23366075, ...,  0.12373851,\n",
       "        -0.10480629, -0.33345489]])"
      ]
     },
     "execution_count": 80,
     "metadata": {},
     "output_type": "execute_result"
    }
   ],
   "source": [
    "scaler = preprocessing.StandardScaler()\n",
    "scaler.fit_transform(x_train)"
   ]
  },
  {
   "cell_type": "code",
   "execution_count": 81,
   "metadata": {},
   "outputs": [],
   "source": [
    "\n",
    "hidden_size = 16 #size of the hidden layer in encoder and decoder\n",
    "latent_dim = 2 #number of latent variables to learn\n",
    "\n",
    "input_dim = 29\n",
    "\n",
    "# input layer\n",
    "input_layer = Input(shape=(input_dim,))\n",
    "\n",
    "# hidden layer\n",
    "encoder_hidden = Dense(hidden_size, activation='relu' , name='encoder_hidden')(input_layer)\n",
    "z_mean = Dense(latent_dim, name='z_mean')(encoder_hidden)\n",
    "z_log_var = Dense(latent_dim, name='z_log_var')(encoder_hidden)\n",
    "\n",
    "\n",
    "def rec_loss(y_true, y_pred):\n",
    "    return K.sum(K.square(y_true - y_pred), axis=-1)\n",
    "\n",
    "def kl_loss(y_true, y_pred):\n",
    "    return - 0.5 * K.sum(1 + z_log_var - K.square(z_mean) - K.exp(z_log_var), axis=-1)\n",
    "\n",
    "def vae_loss(y_true, y_pred):\n",
    "    rec_loss = K.sum(K.square(y_true - y_pred), axis=-1)\n",
    "    kl_loss = - 0.5 * K.sum(1 + z_log_var - K.square(z_mean) - K.exp(z_log_var), axis=-1)\n",
    "    return K.mean((rec_loss + kl_loss) / 2)\n",
    "\n"
   ]
  },
  {
   "cell_type": "code",
   "execution_count": 82,
   "metadata": {},
   "outputs": [],
   "source": [
    "customized_dict = {'vae_loss' : vae_loss,'z_log_var':z_log_var,'rec_loss': rec_loss,'kl_loss': kl_loss,}\n",
    "model = load_model('best_vae.h5',custom_objects=customized_dict)\n",
    "model.compile(optimizer=Adam(),loss=vae_loss,metrics=[rec_loss,kl_loss])"
   ]
  },
  {
   "cell_type": "code",
   "execution_count": 83,
   "metadata": {},
   "outputs": [
    {
     "name": "stdout",
     "output_type": "stream",
     "text": [
      "__________________________________________________________________________________________________\n",
      "Layer (type)                    Output Shape         Param #     Connected to                     \n",
      "==================================================================================================\n",
      "input_1 (InputLayer)            (None, 29)           0                                            \n",
      "__________________________________________________________________________________________________\n",
      "encoder_hidden (Dense)          (None, 16)           480         input_1[0][0]                    \n",
      "__________________________________________________________________________________________________\n",
      "z_mean (Dense)                  (None, 2)            34          encoder_hidden[0][0]             \n",
      "__________________________________________________________________________________________________\n",
      "z_log_var (Dense)               (None, 2)            34          encoder_hidden[0][0]             \n",
      "__________________________________________________________________________________________________\n",
      "z_sampled (Lambda)              (None, 2)            0           z_mean[0][0]                     \n",
      "                                                                 z_log_var[0][0]                  \n",
      "__________________________________________________________________________________________________\n",
      "decoder_hidden (Dense)          (None, 16)           48          z_sampled[0][0]                  \n",
      "__________________________________________________________________________________________________\n",
      "decoded_mean (Dense)            (None, 29)           493         decoder_hidden[0][0]             \n",
      "==================================================================================================\n",
      "Total params: 1,089\n",
      "Trainable params: 1,089\n",
      "Non-trainable params: 0\n",
      "__________________________________________________________________________________________________\n"
     ]
    }
   ],
   "source": [
    "model.summary()"
   ]
  },
  {
   "cell_type": "code",
   "execution_count": 75,
   "metadata": {},
   "outputs": [],
   "source": [
    "inputs=[]\n",
    "f = open('my_file.txt', 'r+')\n",
    "for line in f.readlines():\n",
    "    inputs.append([float(x) for x in line.split(',')])\n",
    "f.close()"
   ]
  },
  {
   "cell_type": "code",
   "execution_count": 87,
   "metadata": {},
   "outputs": [],
   "source": [
    "inputs_scaled=scaler.transform(inputs)"
   ]
  },
  {
   "cell_type": "code",
   "execution_count": 88,
   "metadata": {},
   "outputs": [],
   "source": [
    "predictions=[]\n",
    "for i in inputs_scaled:\n",
    "    iarray=np.array(i).reshape(1,-1)\n",
    "    ypred=model.predict(iarray)\n",
    "    reconstruction_error = np.mean(np.power(i - ypred, 2), axis=1)\n",
    "    if reconstruction_error > 2:\n",
    "        predictions.append('FRAUD')\n",
    "    else:\n",
    "        predictions.append('NON-FRAUD')"
   ]
  },
  {
   "cell_type": "code",
   "execution_count": 89,
   "metadata": {},
   "outputs": [
    {
     "data": {
      "text/plain": [
       "['FRAUD', 'FRAUD']"
      ]
     },
     "execution_count": 89,
     "metadata": {},
     "output_type": "execute_result"
    }
   ],
   "source": [
    "predictions"
   ]
  },
  {
   "cell_type": "code",
   "execution_count": null,
   "metadata": {},
   "outputs": [],
   "source": []
  }
 ],
 "metadata": {
  "kernelspec": {
   "display_name": "Python 3",
   "language": "python",
   "name": "python3"
  },
  "language_info": {
   "codemirror_mode": {
    "name": "ipython",
    "version": 3
   },
   "file_extension": ".py",
   "mimetype": "text/x-python",
   "name": "python",
   "nbconvert_exporter": "python",
   "pygments_lexer": "ipython3",
   "version": "3.6.5"
  }
 },
 "nbformat": 4,
 "nbformat_minor": 1
}
